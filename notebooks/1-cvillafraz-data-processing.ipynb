{
 "cells": [
  {
   "cell_type": "markdown",
   "metadata": {},
   "source": [
    "# Process UFC events/fights dataset\n"
   ]
  },
  {
   "cell_type": "code",
   "execution_count": 1,
   "metadata": {},
   "outputs": [
    {
     "data": {
      "application/javascript": "\n            setTimeout(function() {\n                var nbb_cell_id = 1;\n                var nbb_unformatted_code = \"%load_ext nb_black\\n%load_ext autoreload\\n%autoreload 2\";\n                var nbb_formatted_code = \"%load_ext nb_black\\n%load_ext autoreload\\n%autoreload 2\";\n                var nbb_cells = Jupyter.notebook.get_cells();\n                for (var i = 0; i < nbb_cells.length; ++i) {\n                    if (nbb_cells[i].input_prompt_number == nbb_cell_id) {\n                        if (nbb_cells[i].get_text() == nbb_unformatted_code) {\n                             nbb_cells[i].set_text(nbb_formatted_code);\n                        }\n                        break;\n                    }\n                }\n            }, 500);\n            ",
      "text/plain": [
       "<IPython.core.display.Javascript object>"
      ]
     },
     "metadata": {},
     "output_type": "display_data"
    }
   ],
   "source": [
    "%load_ext nb_black\n",
    "%load_ext autoreload\n",
    "%autoreload 2"
   ]
  },
  {
   "cell_type": "code",
   "execution_count": 17,
   "metadata": {},
   "outputs": [
    {
     "data": {
      "application/javascript": "\n            setTimeout(function() {\n                var nbb_cell_id = 17;\n                var nbb_unformatted_code = \"import ufc_events_eda.utils.paths as path\\nimport pandas as pd\\nimport numpy as np\\nfrom ufc_events_eda.data.parse_json import parse_json\";\n                var nbb_formatted_code = \"import ufc_events_eda.utils.paths as path\\nimport pandas as pd\\nimport numpy as np\\nfrom ufc_events_eda.data.parse_json import parse_json\";\n                var nbb_cells = Jupyter.notebook.get_cells();\n                for (var i = 0; i < nbb_cells.length; ++i) {\n                    if (nbb_cells[i].input_prompt_number == nbb_cell_id) {\n                        if (nbb_cells[i].get_text() == nbb_unformatted_code) {\n                             nbb_cells[i].set_text(nbb_formatted_code);\n                        }\n                        break;\n                    }\n                }\n            }, 500);\n            ",
      "text/plain": [
       "<IPython.core.display.Javascript object>"
      ]
     },
     "metadata": {},
     "output_type": "display_data"
    }
   ],
   "source": [
    "import ufc_events_eda.utils.paths as path\n",
    "import pandas as pd\n",
    "import numpy as np\n",
    "from ufc_events_eda.data.parse_json import parse_json\n"
   ]
  },
  {
   "cell_type": "markdown",
   "metadata": {},
   "source": [
    "### Read dataset into dataframe\n"
   ]
  },
  {
   "cell_type": "code",
   "execution_count": 18,
   "metadata": {},
   "outputs": [
    {
     "data": {
      "text/html": [
       "<div>\n",
       "<style scoped>\n",
       "    .dataframe tbody tr th:only-of-type {\n",
       "        vertical-align: middle;\n",
       "    }\n",
       "\n",
       "    .dataframe tbody tr th {\n",
       "        vertical-align: top;\n",
       "    }\n",
       "\n",
       "    .dataframe thead th {\n",
       "        text-align: right;\n",
       "    }\n",
       "</style>\n",
       "<table border=\"1\" class=\"dataframe\">\n",
       "  <thead>\n",
       "    <tr style=\"text-align: right;\">\n",
       "      <th></th>\n",
       "      <th>fighter_1</th>\n",
       "      <th>fighter_2</th>\n",
       "      <th>fighter_1_kd</th>\n",
       "      <th>fighter_2_kd</th>\n",
       "      <th>fighter_1_str</th>\n",
       "      <th>fighter_2_str</th>\n",
       "      <th>fighter_1_td</th>\n",
       "      <th>fighter_2_td</th>\n",
       "      <th>fighter_1_sub</th>\n",
       "      <th>fighter_2_sub</th>\n",
       "      <th>weigh_class</th>\n",
       "      <th>method</th>\n",
       "      <th>method_detail</th>\n",
       "      <th>round</th>\n",
       "      <th>time</th>\n",
       "      <th>closure</th>\n",
       "      <th>is_main_event</th>\n",
       "      <th>event_name</th>\n",
       "      <th>event_date</th>\n",
       "      <th>event_location</th>\n",
       "    </tr>\n",
       "  </thead>\n",
       "  <tbody>\n",
       "    <tr>\n",
       "      <th>0</th>\n",
       "      <td>Giga Chikadze</td>\n",
       "      <td>Edson Barboza</td>\n",
       "      <td>2</td>\n",
       "      <td>0</td>\n",
       "      <td>60</td>\n",
       "      <td>33</td>\n",
       "      <td>0</td>\n",
       "      <td>0</td>\n",
       "      <td>2</td>\n",
       "      <td>0</td>\n",
       "      <td>Featherweight</td>\n",
       "      <td>KO/TKO</td>\n",
       "      <td>Punch</td>\n",
       "      <td>3</td>\n",
       "      <td>1:44</td>\n",
       "      <td>win</td>\n",
       "      <td>True</td>\n",
       "      <td>UFC Fight Night: Barboza vs. Chikadze</td>\n",
       "      <td>August 28, 2021</td>\n",
       "      <td>Las Vegas, Nevada, USA</td>\n",
       "    </tr>\n",
       "    <tr>\n",
       "      <th>1</th>\n",
       "      <td>Bryan Battle</td>\n",
       "      <td>Gilbert Urbina</td>\n",
       "      <td>0</td>\n",
       "      <td>0</td>\n",
       "      <td>46</td>\n",
       "      <td>45</td>\n",
       "      <td>1</td>\n",
       "      <td>2</td>\n",
       "      <td>1</td>\n",
       "      <td>0</td>\n",
       "      <td>Middleweight</td>\n",
       "      <td>SUB</td>\n",
       "      <td>Rear Naked Choke</td>\n",
       "      <td>2</td>\n",
       "      <td>2:15</td>\n",
       "      <td>win</td>\n",
       "      <td>False</td>\n",
       "      <td>UFC Fight Night: Barboza vs. Chikadze</td>\n",
       "      <td>August 28, 2021</td>\n",
       "      <td>Las Vegas, Nevada, USA</td>\n",
       "    </tr>\n",
       "    <tr>\n",
       "      <th>2</th>\n",
       "      <td>Ricky Turcios</td>\n",
       "      <td>Brady Hiestand</td>\n",
       "      <td>1</td>\n",
       "      <td>0</td>\n",
       "      <td>100</td>\n",
       "      <td>66</td>\n",
       "      <td>2</td>\n",
       "      <td>6</td>\n",
       "      <td>0</td>\n",
       "      <td>0</td>\n",
       "      <td>Bantamweight</td>\n",
       "      <td>S-DEC</td>\n",
       "      <td>None</td>\n",
       "      <td>3</td>\n",
       "      <td>5:00</td>\n",
       "      <td>win</td>\n",
       "      <td>False</td>\n",
       "      <td>UFC Fight Night: Barboza vs. Chikadze</td>\n",
       "      <td>August 28, 2021</td>\n",
       "      <td>Las Vegas, Nevada, USA</td>\n",
       "    </tr>\n",
       "    <tr>\n",
       "      <th>3</th>\n",
       "      <td>Daniel Rodriguez</td>\n",
       "      <td>Kevin Lee</td>\n",
       "      <td>0</td>\n",
       "      <td>0</td>\n",
       "      <td>120</td>\n",
       "      <td>56</td>\n",
       "      <td>0</td>\n",
       "      <td>3</td>\n",
       "      <td>0</td>\n",
       "      <td>0</td>\n",
       "      <td>Welterweight</td>\n",
       "      <td>U-DEC</td>\n",
       "      <td>None</td>\n",
       "      <td>3</td>\n",
       "      <td>5:00</td>\n",
       "      <td>win</td>\n",
       "      <td>False</td>\n",
       "      <td>UFC Fight Night: Barboza vs. Chikadze</td>\n",
       "      <td>August 28, 2021</td>\n",
       "      <td>Las Vegas, Nevada, USA</td>\n",
       "    </tr>\n",
       "    <tr>\n",
       "      <th>4</th>\n",
       "      <td>Andre Petroski</td>\n",
       "      <td>Micheal Gillmore</td>\n",
       "      <td>0</td>\n",
       "      <td>0</td>\n",
       "      <td>46</td>\n",
       "      <td>31</td>\n",
       "      <td>4</td>\n",
       "      <td>0</td>\n",
       "      <td>1</td>\n",
       "      <td>0</td>\n",
       "      <td>Middleweight</td>\n",
       "      <td>KO/TKO</td>\n",
       "      <td>Elbows</td>\n",
       "      <td>3</td>\n",
       "      <td>3:12</td>\n",
       "      <td>win</td>\n",
       "      <td>False</td>\n",
       "      <td>UFC Fight Night: Barboza vs. Chikadze</td>\n",
       "      <td>August 28, 2021</td>\n",
       "      <td>Las Vegas, Nevada, USA</td>\n",
       "    </tr>\n",
       "  </tbody>\n",
       "</table>\n",
       "</div>"
      ],
      "text/plain": [
       "          fighter_1         fighter_2 fighter_1_kd fighter_2_kd fighter_1_str  \\\n",
       "0     Giga Chikadze     Edson Barboza            2            0            60   \n",
       "1      Bryan Battle    Gilbert Urbina            0            0            46   \n",
       "2     Ricky Turcios    Brady Hiestand            1            0           100   \n",
       "3  Daniel Rodriguez         Kevin Lee            0            0           120   \n",
       "4    Andre Petroski  Micheal Gillmore            0            0            46   \n",
       "\n",
       "  fighter_2_str fighter_1_td fighter_2_td fighter_1_sub fighter_2_sub  \\\n",
       "0            33            0            0             2             0   \n",
       "1            45            1            2             1             0   \n",
       "2            66            2            6             0             0   \n",
       "3            56            0            3             0             0   \n",
       "4            31            4            0             1             0   \n",
       "\n",
       "     weigh_class  method     method_detail round  time closure  is_main_event  \\\n",
       "0  Featherweight  KO/TKO             Punch     3  1:44     win           True   \n",
       "1   Middleweight     SUB  Rear Naked Choke     2  2:15     win          False   \n",
       "2   Bantamweight   S-DEC              None     3  5:00     win          False   \n",
       "3   Welterweight   U-DEC              None     3  5:00     win          False   \n",
       "4   Middleweight  KO/TKO            Elbows     3  3:12     win          False   \n",
       "\n",
       "                              event_name       event_date  \\\n",
       "0  UFC Fight Night: Barboza vs. Chikadze  August 28, 2021   \n",
       "1  UFC Fight Night: Barboza vs. Chikadze  August 28, 2021   \n",
       "2  UFC Fight Night: Barboza vs. Chikadze  August 28, 2021   \n",
       "3  UFC Fight Night: Barboza vs. Chikadze  August 28, 2021   \n",
       "4  UFC Fight Night: Barboza vs. Chikadze  August 28, 2021   \n",
       "\n",
       "           event_location  \n",
       "0  Las Vegas, Nevada, USA  \n",
       "1  Las Vegas, Nevada, USA  \n",
       "2  Las Vegas, Nevada, USA  \n",
       "3  Las Vegas, Nevada, USA  \n",
       "4  Las Vegas, Nevada, USA  "
      ]
     },
     "execution_count": 18,
     "metadata": {},
     "output_type": "execute_result"
    },
    {
     "data": {
      "application/javascript": "\n            setTimeout(function() {\n                var nbb_cell_id = 18;\n                var nbb_unformatted_code = \"df = parse_json(path.data_raw_dir('ufc_events.json'))\\ndf.head()\";\n                var nbb_formatted_code = \"df = parse_json(path.data_raw_dir(\\\"ufc_events.json\\\"))\\ndf.head()\";\n                var nbb_cells = Jupyter.notebook.get_cells();\n                for (var i = 0; i < nbb_cells.length; ++i) {\n                    if (nbb_cells[i].input_prompt_number == nbb_cell_id) {\n                        if (nbb_cells[i].get_text() == nbb_unformatted_code) {\n                             nbb_cells[i].set_text(nbb_formatted_code);\n                        }\n                        break;\n                    }\n                }\n            }, 500);\n            ",
      "text/plain": [
       "<IPython.core.display.Javascript object>"
      ]
     },
     "metadata": {},
     "output_type": "display_data"
    }
   ],
   "source": [
    "df = parse_json(path.data_raw_dir(\"ufc_events.json\"))\n",
    "df.head()\n"
   ]
  },
  {
   "cell_type": "markdown",
   "metadata": {},
   "source": [
    "### Print shape, columns and data types\n",
    "\n",
    "Check references/columns.md to see what each column represents in detail\n"
   ]
  },
  {
   "cell_type": "code",
   "execution_count": 4,
   "metadata": {},
   "outputs": [
    {
     "name": "stdout",
     "output_type": "stream",
     "text": [
      "(6610, 20)\n",
      "Index(['fighter_1', 'fighter_2', 'fighter_1_kd', 'fighter_2_kd',\n",
      "       'fighter_1_str', 'fighter_2_str', 'fighter_1_td', 'fighter_2_td',\n",
      "       'fighter_1_sub', 'fighter_2_sub', 'weigh_class', 'method',\n",
      "       'method_detail', 'round', 'time', 'closure', 'is_main_event',\n",
      "       'event_name', 'event_date', 'event_location'],\n",
      "      dtype='object')\n"
     ]
    },
    {
     "data": {
      "application/javascript": "\n            setTimeout(function() {\n                var nbb_cell_id = 4;\n                var nbb_unformatted_code = \"print(df.shape)\\nprint(df.columns)\";\n                var nbb_formatted_code = \"print(df.shape)\\nprint(df.columns)\";\n                var nbb_cells = Jupyter.notebook.get_cells();\n                for (var i = 0; i < nbb_cells.length; ++i) {\n                    if (nbb_cells[i].input_prompt_number == nbb_cell_id) {\n                        if (nbb_cells[i].get_text() == nbb_unformatted_code) {\n                             nbb_cells[i].set_text(nbb_formatted_code);\n                        }\n                        break;\n                    }\n                }\n            }, 500);\n            ",
      "text/plain": [
       "<IPython.core.display.Javascript object>"
      ]
     },
     "metadata": {},
     "output_type": "display_data"
    }
   ],
   "source": [
    "print(df.shape)\n",
    "print(df.columns)\n"
   ]
  },
  {
   "cell_type": "code",
   "execution_count": 5,
   "metadata": {},
   "outputs": [
    {
     "data": {
      "text/plain": [
       "fighter_1         object\n",
       "fighter_2         object\n",
       "fighter_1_kd      object\n",
       "fighter_2_kd      object\n",
       "fighter_1_str     object\n",
       "fighter_2_str     object\n",
       "fighter_1_td      object\n",
       "fighter_2_td      object\n",
       "fighter_1_sub     object\n",
       "fighter_2_sub     object\n",
       "weigh_class       object\n",
       "method            object\n",
       "method_detail     object\n",
       "round             object\n",
       "time              object\n",
       "closure           object\n",
       "is_main_event       bool\n",
       "event_name        object\n",
       "event_date        object\n",
       "event_location    object\n",
       "dtype: object"
      ]
     },
     "execution_count": 5,
     "metadata": {},
     "output_type": "execute_result"
    },
    {
     "data": {
      "application/javascript": "\n            setTimeout(function() {\n                var nbb_cell_id = 5;\n                var nbb_unformatted_code = \"df.dtypes\";\n                var nbb_formatted_code = \"df.dtypes\";\n                var nbb_cells = Jupyter.notebook.get_cells();\n                for (var i = 0; i < nbb_cells.length; ++i) {\n                    if (nbb_cells[i].input_prompt_number == nbb_cell_id) {\n                        if (nbb_cells[i].get_text() == nbb_unformatted_code) {\n                             nbb_cells[i].set_text(nbb_formatted_code);\n                        }\n                        break;\n                    }\n                }\n            }, 500);\n            ",
      "text/plain": [
       "<IPython.core.display.Javascript object>"
      ]
     },
     "metadata": {},
     "output_type": "display_data"
    }
   ],
   "source": [
    "df.dtypes\n"
   ]
  },
  {
   "cell_type": "markdown",
   "metadata": {},
   "source": [
    "### Convert numeric strings to float or int\n"
   ]
  },
  {
   "cell_type": "code",
   "execution_count": 19,
   "metadata": {},
   "outputs": [
    {
     "data": {
      "application/javascript": "\n            setTimeout(function() {\n                var nbb_cell_id = 19;\n                var nbb_unformatted_code = \"num_columns = [\\n    \\\"fighter_1_kd\\\",\\n    \\\"fighter_2_kd\\\",\\n    \\\"fighter_1_str\\\",\\n    \\\"fighter_2_str\\\",\\n    \\\"fighter_1_td\\\",\\n    \\\"fighter_2_td\\\",\\n    \\\"fighter_1_sub\\\",\\n    \\\"fighter_2_sub\\\",\\n    \\\"round\\\"\\n]\\ndf[num_columns] = df[num_columns].apply(\\n    pd.to_numeric, errors=\\\"coerce\\\", downcast=\\\"unsigned\\\"\\n)\";\n                var nbb_formatted_code = \"num_columns = [\\n    \\\"fighter_1_kd\\\",\\n    \\\"fighter_2_kd\\\",\\n    \\\"fighter_1_str\\\",\\n    \\\"fighter_2_str\\\",\\n    \\\"fighter_1_td\\\",\\n    \\\"fighter_2_td\\\",\\n    \\\"fighter_1_sub\\\",\\n    \\\"fighter_2_sub\\\",\\n    \\\"round\\\",\\n]\\ndf[num_columns] = df[num_columns].apply(\\n    pd.to_numeric, errors=\\\"coerce\\\", downcast=\\\"unsigned\\\"\\n)\";\n                var nbb_cells = Jupyter.notebook.get_cells();\n                for (var i = 0; i < nbb_cells.length; ++i) {\n                    if (nbb_cells[i].input_prompt_number == nbb_cell_id) {\n                        if (nbb_cells[i].get_text() == nbb_unformatted_code) {\n                             nbb_cells[i].set_text(nbb_formatted_code);\n                        }\n                        break;\n                    }\n                }\n            }, 500);\n            ",
      "text/plain": [
       "<IPython.core.display.Javascript object>"
      ]
     },
     "metadata": {},
     "output_type": "display_data"
    }
   ],
   "source": [
    "num_columns = [\n",
    "    \"fighter_1_kd\",\n",
    "    \"fighter_2_kd\",\n",
    "    \"fighter_1_str\",\n",
    "    \"fighter_2_str\",\n",
    "    \"fighter_1_td\",\n",
    "    \"fighter_2_td\",\n",
    "    \"fighter_1_sub\",\n",
    "    \"fighter_2_sub\",\n",
    "    \"round\",\n",
    "]\n",
    "df[num_columns] = df[num_columns].apply(\n",
    "    pd.to_numeric, errors=\"coerce\", downcast=\"unsigned\"\n",
    ")\n"
   ]
  },
  {
   "cell_type": "code",
   "execution_count": 7,
   "metadata": {},
   "outputs": [
    {
     "data": {
      "text/plain": [
       "fighter_1_kd     float64\n",
       "fighter_2_kd     float64\n",
       "fighter_1_str    float64\n",
       "fighter_2_str    float64\n",
       "fighter_1_td     float64\n",
       "fighter_2_td     float64\n",
       "fighter_1_sub    float64\n",
       "fighter_2_sub    float64\n",
       "round              uint8\n",
       "dtype: object"
      ]
     },
     "execution_count": 7,
     "metadata": {},
     "output_type": "execute_result"
    },
    {
     "data": {
      "application/javascript": "\n            setTimeout(function() {\n                var nbb_cell_id = 7;\n                var nbb_unformatted_code = \"df[num_columns].dtypes\";\n                var nbb_formatted_code = \"df[num_columns].dtypes\";\n                var nbb_cells = Jupyter.notebook.get_cells();\n                for (var i = 0; i < nbb_cells.length; ++i) {\n                    if (nbb_cells[i].input_prompt_number == nbb_cell_id) {\n                        if (nbb_cells[i].get_text() == nbb_unformatted_code) {\n                             nbb_cells[i].set_text(nbb_formatted_code);\n                        }\n                        break;\n                    }\n                }\n            }, 500);\n            ",
      "text/plain": [
       "<IPython.core.display.Javascript object>"
      ]
     },
     "metadata": {},
     "output_type": "display_data"
    }
   ],
   "source": [
    "df[num_columns].dtypes\n"
   ]
  },
  {
   "cell_type": "markdown",
   "metadata": {},
   "source": [
    "### Separate fights from events (keeping event name in fights dataframe)\n"
   ]
  },
  {
   "cell_type": "code",
   "execution_count": 20,
   "metadata": {},
   "outputs": [
    {
     "data": {
      "application/javascript": "\n            setTimeout(function() {\n                var nbb_cell_id = 20;\n                var nbb_unformatted_code = \"df_events = df.drop_duplicates(subset=['event_name'])[['event_name', 'event_date', 'event_location']]\\ndf_fights = df.drop(columns=['event_location', 'event_date'])\";\n                var nbb_formatted_code = \"df_events = df.drop_duplicates(subset=[\\\"event_name\\\"])[\\n    [\\\"event_name\\\", \\\"event_date\\\", \\\"event_location\\\"]\\n]\\ndf_fights = df.drop(columns=[\\\"event_location\\\", \\\"event_date\\\"])\";\n                var nbb_cells = Jupyter.notebook.get_cells();\n                for (var i = 0; i < nbb_cells.length; ++i) {\n                    if (nbb_cells[i].input_prompt_number == nbb_cell_id) {\n                        if (nbb_cells[i].get_text() == nbb_unformatted_code) {\n                             nbb_cells[i].set_text(nbb_formatted_code);\n                        }\n                        break;\n                    }\n                }\n            }, 500);\n            ",
      "text/plain": [
       "<IPython.core.display.Javascript object>"
      ]
     },
     "metadata": {},
     "output_type": "display_data"
    }
   ],
   "source": [
    "df_events = df.drop_duplicates(subset=[\"event_name\"])[\n",
    "    [\"event_name\", \"event_date\", \"event_location\"]\n",
    "]\n",
    "df_fights = df.drop(columns=[\"event_location\", \"event_date\"])\n"
   ]
  },
  {
   "cell_type": "markdown",
   "metadata": {},
   "source": [
    "### Cast event_date to datetime\n"
   ]
  },
  {
   "cell_type": "code",
   "execution_count": 21,
   "metadata": {},
   "outputs": [
    {
     "data": {
      "application/javascript": "\n            setTimeout(function() {\n                var nbb_cell_id = 21;\n                var nbb_unformatted_code = \"df_events[\\\"event_date\\\"] = pd.to_datetime(df[\\\"event_date\\\"], format=\\\"%B %d, %Y\\\")\";\n                var nbb_formatted_code = \"df_events[\\\"event_date\\\"] = pd.to_datetime(df[\\\"event_date\\\"], format=\\\"%B %d, %Y\\\")\";\n                var nbb_cells = Jupyter.notebook.get_cells();\n                for (var i = 0; i < nbb_cells.length; ++i) {\n                    if (nbb_cells[i].input_prompt_number == nbb_cell_id) {\n                        if (nbb_cells[i].get_text() == nbb_unformatted_code) {\n                             nbb_cells[i].set_text(nbb_formatted_code);\n                        }\n                        break;\n                    }\n                }\n            }, 500);\n            ",
      "text/plain": [
       "<IPython.core.display.Javascript object>"
      ]
     },
     "metadata": {},
     "output_type": "display_data"
    }
   ],
   "source": [
    "df_events[\"event_date\"] = pd.to_datetime(df[\"event_date\"], format=\"%B %d, %Y\")\n"
   ]
  },
  {
   "cell_type": "markdown",
   "metadata": {},
   "source": [
    "### Fix inconsistent location entries\n"
   ]
  },
  {
   "cell_type": "code",
   "execution_count": 22,
   "metadata": {},
   "outputs": [
    {
     "data": {
      "application/javascript": "\n            setTimeout(function() {\n                var nbb_cell_id = 22;\n                var nbb_unformatted_code = \"def fix_inconsistent_location(df):\\n    city_patterns = [\\n        (\\n            df[\\\"event_location\\\"].str.contains(\\\"Abu Dhabi\\\", case=False),\\n            \\\"Abu Dhabi, United Arab Emirates\\\",\\n        ),\\n        (\\n            df[\\\"event_location\\\"].str.contains(\\\"Sao Paulo\\\", case=False),\\n            \\\"Sao Paulo, Brazil\\\",\\n        ),\\n        (\\n            df[\\\"event_location\\\"].str.contains(\\\"Rio de Janeiro\\\", case=False),\\n            \\\"Rio de Janeiro, Brazil\\\",\\n        ),\\n        (\\n            df[\\\"event_location\\\"].str.contains(\\\"Berlin\\\", case=False),\\n            \\\"Berlin, Germany\\\",\\n        ),\\n        (\\n            df[\\\"event_location\\\"].str.contains(\\\"Saitama\\\", case=False),\\n            \\\"Saitama, Japan\\\",\\n        ),\\n    ]\\n\\n    city_criteria, city_values = zip(*city_patterns)\\n    df[\\\"event_location_normalized\\\"] = np.select(city_criteria, city_values, None)\\n    # Replace \\\"None\\\" values with original position\\n    df[\\\"event_location_normalized\\\"] = df[\\\"event_location_normalized\\\"].combine_first(\\n        df[\\\"event_location\\\"]\\n    )\\n\\n    df[\\\"event_location\\\"] = df[\\\"event_location_normalized\\\"]\\n    return df.drop(columns=['event_location_normalized'])\";\n                var nbb_formatted_code = \"def fix_inconsistent_location(df):\\n    city_patterns = [\\n        (\\n            df[\\\"event_location\\\"].str.contains(\\\"Abu Dhabi\\\", case=False),\\n            \\\"Abu Dhabi, United Arab Emirates\\\",\\n        ),\\n        (\\n            df[\\\"event_location\\\"].str.contains(\\\"Sao Paulo\\\", case=False),\\n            \\\"Sao Paulo, Brazil\\\",\\n        ),\\n        (\\n            df[\\\"event_location\\\"].str.contains(\\\"Rio de Janeiro\\\", case=False),\\n            \\\"Rio de Janeiro, Brazil\\\",\\n        ),\\n        (\\n            df[\\\"event_location\\\"].str.contains(\\\"Berlin\\\", case=False),\\n            \\\"Berlin, Germany\\\",\\n        ),\\n        (\\n            df[\\\"event_location\\\"].str.contains(\\\"Saitama\\\", case=False),\\n            \\\"Saitama, Japan\\\",\\n        ),\\n    ]\\n\\n    city_criteria, city_values = zip(*city_patterns)\\n    df[\\\"event_location_normalized\\\"] = np.select(city_criteria, city_values, None)\\n    # Replace \\\"None\\\" values with original position\\n    df[\\\"event_location_normalized\\\"] = df[\\\"event_location_normalized\\\"].combine_first(\\n        df[\\\"event_location\\\"]\\n    )\\n\\n    df[\\\"event_location\\\"] = df[\\\"event_location_normalized\\\"]\\n    return df.drop(columns=[\\\"event_location_normalized\\\"])\";\n                var nbb_cells = Jupyter.notebook.get_cells();\n                for (var i = 0; i < nbb_cells.length; ++i) {\n                    if (nbb_cells[i].input_prompt_number == nbb_cell_id) {\n                        if (nbb_cells[i].get_text() == nbb_unformatted_code) {\n                             nbb_cells[i].set_text(nbb_formatted_code);\n                        }\n                        break;\n                    }\n                }\n            }, 500);\n            ",
      "text/plain": [
       "<IPython.core.display.Javascript object>"
      ]
     },
     "metadata": {},
     "output_type": "display_data"
    }
   ],
   "source": [
    "def fix_inconsistent_location(df):\n",
    "    city_patterns = [\n",
    "        (\n",
    "            df[\"event_location\"].str.contains(\"Abu Dhabi\", case=False),\n",
    "            \"Abu Dhabi, United Arab Emirates\",\n",
    "        ),\n",
    "        (\n",
    "            df[\"event_location\"].str.contains(\"Sao Paulo\", case=False),\n",
    "            \"Sao Paulo, Brazil\",\n",
    "        ),\n",
    "        (\n",
    "            df[\"event_location\"].str.contains(\"Rio de Janeiro\", case=False),\n",
    "            \"Rio de Janeiro, Brazil\",\n",
    "        ),\n",
    "        (\n",
    "            df[\"event_location\"].str.contains(\"Berlin\", case=False),\n",
    "            \"Berlin, Germany\",\n",
    "        ),\n",
    "        (\n",
    "            df[\"event_location\"].str.contains(\"Saitama\", case=False),\n",
    "            \"Saitama, Japan\",\n",
    "        ),\n",
    "    ]\n",
    "\n",
    "    city_criteria, city_values = zip(*city_patterns)\n",
    "    df[\"event_location_normalized\"] = np.select(city_criteria, city_values, None)\n",
    "    # Replace \"None\" values with original position\n",
    "    df[\"event_location_normalized\"] = df[\"event_location_normalized\"].combine_first(\n",
    "        df[\"event_location\"]\n",
    "    )\n",
    "\n",
    "    df[\"event_location\"] = df[\"event_location_normalized\"]\n",
    "    return df.drop(columns=[\"event_location_normalized\"])\n"
   ]
  },
  {
   "cell_type": "code",
   "execution_count": 23,
   "metadata": {},
   "outputs": [
    {
     "data": {
      "application/javascript": "\n            setTimeout(function() {\n                var nbb_cell_id = 23;\n                var nbb_unformatted_code = \"df_events = fix_inconsistent_location(df_events)\";\n                var nbb_formatted_code = \"df_events = fix_inconsistent_location(df_events)\";\n                var nbb_cells = Jupyter.notebook.get_cells();\n                for (var i = 0; i < nbb_cells.length; ++i) {\n                    if (nbb_cells[i].input_prompt_number == nbb_cell_id) {\n                        if (nbb_cells[i].get_text() == nbb_unformatted_code) {\n                             nbb_cells[i].set_text(nbb_formatted_code);\n                        }\n                        break;\n                    }\n                }\n            }, 500);\n            ",
      "text/plain": [
       "<IPython.core.display.Javascript object>"
      ]
     },
     "metadata": {},
     "output_type": "display_data"
    }
   ],
   "source": [
    "df_events = fix_inconsistent_location(df_events)\n"
   ]
  },
  {
   "cell_type": "markdown",
   "metadata": {},
   "source": [
    "### Geocode cities to have latitude and longitude for event_location\n"
   ]
  },
  {
   "cell_type": "code",
   "execution_count": 24,
   "metadata": {},
   "outputs": [
    {
     "data": {
      "application/javascript": "\n            setTimeout(function() {\n                var nbb_cell_id = 24;\n                var nbb_unformatted_code = \"%%capture\\n%run -i '../ufc_events_eda/data/geocode.py'\";\n                var nbb_formatted_code = \"%%capture\\n%run -i '../ufc_events_eda/data/geocode.py'\";\n                var nbb_cells = Jupyter.notebook.get_cells();\n                for (var i = 0; i < nbb_cells.length; ++i) {\n                    if (nbb_cells[i].input_prompt_number == nbb_cell_id) {\n                        if (nbb_cells[i].get_text() == nbb_unformatted_code) {\n                             nbb_cells[i].set_text(nbb_formatted_code);\n                        }\n                        break;\n                    }\n                }\n            }, 500);\n            ",
      "text/plain": [
       "<IPython.core.display.Javascript object>"
      ]
     },
     "metadata": {},
     "output_type": "display_data"
    }
   ],
   "source": [
    "%%capture\n",
    "%run -i '../ufc_events_eda/data/geocode.py'"
   ]
  },
  {
   "cell_type": "code",
   "execution_count": 29,
   "metadata": {},
   "outputs": [
    {
     "data": {
      "application/javascript": "\n            setTimeout(function() {\n                var nbb_cell_id = 29;\n                var nbb_unformatted_code = \"df_city = pd.read_parquet(path.data_interim_dir(\\\"cities.parquet\\\"))\\ndf_events_merged = pd.merge(\\n    df_events, df_city, how=\\\"left\\\", on=\\\"event_location\\\"\\n).drop_duplicates(subset=\\\"event_name\\\")\";\n                var nbb_formatted_code = \"df_city = pd.read_parquet(path.data_interim_dir(\\\"cities.parquet\\\"))\\ndf_events_merged = pd.merge(\\n    df_events, df_city, how=\\\"left\\\", on=\\\"event_location\\\"\\n).drop_duplicates(subset=\\\"event_name\\\")\";\n                var nbb_cells = Jupyter.notebook.get_cells();\n                for (var i = 0; i < nbb_cells.length; ++i) {\n                    if (nbb_cells[i].input_prompt_number == nbb_cell_id) {\n                        if (nbb_cells[i].get_text() == nbb_unformatted_code) {\n                             nbb_cells[i].set_text(nbb_formatted_code);\n                        }\n                        break;\n                    }\n                }\n            }, 500);\n            ",
      "text/plain": [
       "<IPython.core.display.Javascript object>"
      ]
     },
     "metadata": {},
     "output_type": "display_data"
    }
   ],
   "source": [
    "df_city = pd.read_parquet(path.data_interim_dir(\"cities.parquet\"))\n",
    "df_events_merged = pd.merge(\n",
    "    df_events, df_city, how=\"left\", on=\"event_location\"\n",
    ").drop_duplicates(subset=\"event_name\")\n"
   ]
  },
  {
   "cell_type": "markdown",
   "metadata": {},
   "source": [
    "### Check null values\n"
   ]
  },
  {
   "cell_type": "code",
   "execution_count": 30,
   "metadata": {},
   "outputs": [
    {
     "data": {
      "text/plain": [
       "fighter_1           0\n",
       "fighter_2           0\n",
       "fighter_1_kd       21\n",
       "fighter_2_kd       21\n",
       "fighter_1_str      21\n",
       "fighter_2_str      21\n",
       "fighter_1_td       21\n",
       "fighter_2_td       21\n",
       "fighter_1_sub      21\n",
       "fighter_2_sub      21\n",
       "weigh_class         0\n",
       "method              0\n",
       "method_detail    3262\n",
       "round               0\n",
       "time                0\n",
       "closure             0\n",
       "is_main_event       0\n",
       "event_name          0\n",
       "dtype: int64"
      ]
     },
     "execution_count": 30,
     "metadata": {},
     "output_type": "execute_result"
    },
    {
     "data": {
      "application/javascript": "\n            setTimeout(function() {\n                var nbb_cell_id = 30;\n                var nbb_unformatted_code = \"df_fights.isna().sum()\";\n                var nbb_formatted_code = \"df_fights.isna().sum()\";\n                var nbb_cells = Jupyter.notebook.get_cells();\n                for (var i = 0; i < nbb_cells.length; ++i) {\n                    if (nbb_cells[i].input_prompt_number == nbb_cell_id) {\n                        if (nbb_cells[i].get_text() == nbb_unformatted_code) {\n                             nbb_cells[i].set_text(nbb_formatted_code);\n                        }\n                        break;\n                    }\n                }\n            }, 500);\n            ",
      "text/plain": [
       "<IPython.core.display.Javascript object>"
      ]
     },
     "metadata": {},
     "output_type": "display_data"
    }
   ],
   "source": [
    "df_fights.isna().sum()\n"
   ]
  },
  {
   "cell_type": "markdown",
   "metadata": {},
   "source": [
    "We can see there are 3217 fights that do not have method_detail. Also, there are 21 fights that do not have strikes, knockdowns, takedowns and submissions data. Let's see if we should keep those fights in the dataset.\n"
   ]
  },
  {
   "cell_type": "code",
   "execution_count": null,
   "metadata": {},
   "outputs": [
    {
     "data": {
      "text/html": [
       "<div>\n",
       "<style scoped>\n",
       "    .dataframe tbody tr th:only-of-type {\n",
       "        vertical-align: middle;\n",
       "    }\n",
       "\n",
       "    .dataframe tbody tr th {\n",
       "        vertical-align: top;\n",
       "    }\n",
       "\n",
       "    .dataframe thead th {\n",
       "        text-align: right;\n",
       "    }\n",
       "</style>\n",
       "<table border=\"1\" class=\"dataframe\">\n",
       "  <thead>\n",
       "    <tr style=\"text-align: right;\">\n",
       "      <th></th>\n",
       "      <th>fighter_1</th>\n",
       "      <th>fighter_2</th>\n",
       "      <th>fighter_1_kd</th>\n",
       "      <th>fighter_2_kd</th>\n",
       "      <th>fighter_1_str</th>\n",
       "      <th>fighter_2_str</th>\n",
       "      <th>fighter_1_td</th>\n",
       "      <th>fighter_2_td</th>\n",
       "      <th>fighter_1_sub</th>\n",
       "      <th>fighter_2_sub</th>\n",
       "      <th>weigh_class</th>\n",
       "      <th>method</th>\n",
       "      <th>method_detail</th>\n",
       "      <th>round</th>\n",
       "      <th>time</th>\n",
       "      <th>closure</th>\n",
       "      <th>is_main_event</th>\n",
       "      <th>event_name</th>\n",
       "      <th>event_date</th>\n",
       "    </tr>\n",
       "  </thead>\n",
       "  <tbody>\n",
       "    <tr>\n",
       "      <th>306</th>\n",
       "      <td>Marcus Bossett</td>\n",
       "      <td>Eldo Xavier Dias</td>\n",
       "      <td>NaN</td>\n",
       "      <td>NaN</td>\n",
       "      <td>NaN</td>\n",
       "      <td>NaN</td>\n",
       "      <td>NaN</td>\n",
       "      <td>NaN</td>\n",
       "      <td>NaN</td>\n",
       "      <td>NaN</td>\n",
       "      <td>Open Weight</td>\n",
       "      <td>KO/TKO</td>\n",
       "      <td>None</td>\n",
       "      <td>1</td>\n",
       "      <td>4:55</td>\n",
       "      <td>win</td>\n",
       "      <td>False</td>\n",
       "      <td>UFC 4: Revenge of the Warriors</td>\n",
       "      <td>December 16, 1994</td>\n",
       "    </tr>\n",
       "    <tr>\n",
       "      <th>307</th>\n",
       "      <td>Joe Charles</td>\n",
       "      <td>Kevin Rosier</td>\n",
       "      <td>NaN</td>\n",
       "      <td>NaN</td>\n",
       "      <td>NaN</td>\n",
       "      <td>NaN</td>\n",
       "      <td>NaN</td>\n",
       "      <td>NaN</td>\n",
       "      <td>NaN</td>\n",
       "      <td>NaN</td>\n",
       "      <td>Open Weight</td>\n",
       "      <td>SUB</td>\n",
       "      <td>Armbar</td>\n",
       "      <td>1</td>\n",
       "      <td>0:14</td>\n",
       "      <td>win</td>\n",
       "      <td>False</td>\n",
       "      <td>UFC 4: Revenge of the Warriors</td>\n",
       "      <td>December 16, 1994</td>\n",
       "    </tr>\n",
       "    <tr>\n",
       "      <th>326</th>\n",
       "      <td>Anthony Macias</td>\n",
       "      <td>He-Man Gipson</td>\n",
       "      <td>NaN</td>\n",
       "      <td>NaN</td>\n",
       "      <td>NaN</td>\n",
       "      <td>NaN</td>\n",
       "      <td>NaN</td>\n",
       "      <td>NaN</td>\n",
       "      <td>NaN</td>\n",
       "      <td>NaN</td>\n",
       "      <td>Open Weight</td>\n",
       "      <td>KO/TKO</td>\n",
       "      <td>Headbutts</td>\n",
       "      <td>1</td>\n",
       "      <td>3:06</td>\n",
       "      <td>win</td>\n",
       "      <td>False</td>\n",
       "      <td>UFC 6: Clash of the Titans</td>\n",
       "      <td>July 14, 1995</td>\n",
       "    </tr>\n",
       "    <tr>\n",
       "      <th>327</th>\n",
       "      <td>Joel Sutton</td>\n",
       "      <td>Jack McGlaughlin</td>\n",
       "      <td>NaN</td>\n",
       "      <td>NaN</td>\n",
       "      <td>NaN</td>\n",
       "      <td>NaN</td>\n",
       "      <td>NaN</td>\n",
       "      <td>NaN</td>\n",
       "      <td>NaN</td>\n",
       "      <td>NaN</td>\n",
       "      <td>Open Weight</td>\n",
       "      <td>KO/TKO</td>\n",
       "      <td>Punches</td>\n",
       "      <td>1</td>\n",
       "      <td>2:01</td>\n",
       "      <td>win</td>\n",
       "      <td>False</td>\n",
       "      <td>UFC 6: Clash of the Titans</td>\n",
       "      <td>July 14, 1995</td>\n",
       "    </tr>\n",
       "    <tr>\n",
       "      <th>337</th>\n",
       "      <td>Onassis Parungao</td>\n",
       "      <td>Francesco Maturi</td>\n",
       "      <td>NaN</td>\n",
       "      <td>NaN</td>\n",
       "      <td>NaN</td>\n",
       "      <td>NaN</td>\n",
       "      <td>NaN</td>\n",
       "      <td>NaN</td>\n",
       "      <td>NaN</td>\n",
       "      <td>NaN</td>\n",
       "      <td>Open Weight</td>\n",
       "      <td>KO/TKO</td>\n",
       "      <td>None</td>\n",
       "      <td>1</td>\n",
       "      <td>5:26</td>\n",
       "      <td>win</td>\n",
       "      <td>False</td>\n",
       "      <td>UFC 7: The Brawl in Buffalo</td>\n",
       "      <td>September 08, 1995</td>\n",
       "    </tr>\n",
       "    <tr>\n",
       "      <th>338</th>\n",
       "      <td>Joel Sutton</td>\n",
       "      <td>Geza Kalman</td>\n",
       "      <td>NaN</td>\n",
       "      <td>NaN</td>\n",
       "      <td>NaN</td>\n",
       "      <td>NaN</td>\n",
       "      <td>NaN</td>\n",
       "      <td>NaN</td>\n",
       "      <td>NaN</td>\n",
       "      <td>NaN</td>\n",
       "      <td>Open Weight</td>\n",
       "      <td>KO/TKO</td>\n",
       "      <td>None</td>\n",
       "      <td>1</td>\n",
       "      <td>0:48</td>\n",
       "      <td>win</td>\n",
       "      <td>False</td>\n",
       "      <td>UFC 7: The Brawl in Buffalo</td>\n",
       "      <td>September 08, 1995</td>\n",
       "    </tr>\n",
       "    <tr>\n",
       "      <th>346</th>\n",
       "      <td>Mark Hall</td>\n",
       "      <td>Trent Jenkins</td>\n",
       "      <td>NaN</td>\n",
       "      <td>NaN</td>\n",
       "      <td>NaN</td>\n",
       "      <td>NaN</td>\n",
       "      <td>NaN</td>\n",
       "      <td>NaN</td>\n",
       "      <td>NaN</td>\n",
       "      <td>NaN</td>\n",
       "      <td>Open Weight</td>\n",
       "      <td>SUB</td>\n",
       "      <td>None</td>\n",
       "      <td>1</td>\n",
       "      <td>5:29</td>\n",
       "      <td>win</td>\n",
       "      <td>False</td>\n",
       "      <td>UFC - Ultimate Ultimate '95</td>\n",
       "      <td>December 16, 1995</td>\n",
       "    </tr>\n",
       "    <tr>\n",
       "      <th>347</th>\n",
       "      <td>Joe Charles</td>\n",
       "      <td>Scott Bessac</td>\n",
       "      <td>NaN</td>\n",
       "      <td>NaN</td>\n",
       "      <td>NaN</td>\n",
       "      <td>NaN</td>\n",
       "      <td>NaN</td>\n",
       "      <td>NaN</td>\n",
       "      <td>NaN</td>\n",
       "      <td>NaN</td>\n",
       "      <td>Open Weight</td>\n",
       "      <td>SUB</td>\n",
       "      <td>Armbar</td>\n",
       "      <td>1</td>\n",
       "      <td>4:38</td>\n",
       "      <td>win</td>\n",
       "      <td>False</td>\n",
       "      <td>UFC - Ultimate Ultimate '95</td>\n",
       "      <td>December 16, 1995</td>\n",
       "    </tr>\n",
       "    <tr>\n",
       "      <th>356</th>\n",
       "      <td>Sam Adkins</td>\n",
       "      <td>Keith Mielke</td>\n",
       "      <td>NaN</td>\n",
       "      <td>NaN</td>\n",
       "      <td>NaN</td>\n",
       "      <td>NaN</td>\n",
       "      <td>NaN</td>\n",
       "      <td>NaN</td>\n",
       "      <td>NaN</td>\n",
       "      <td>NaN</td>\n",
       "      <td>Open Weight</td>\n",
       "      <td>KO/TKO</td>\n",
       "      <td>Punches</td>\n",
       "      <td>1</td>\n",
       "      <td>0:50</td>\n",
       "      <td>win</td>\n",
       "      <td>False</td>\n",
       "      <td>UFC 8: David vs Goliath</td>\n",
       "      <td>February 16, 1996</td>\n",
       "    </tr>\n",
       "    <tr>\n",
       "      <th>371</th>\n",
       "      <td>Sam Adkins</td>\n",
       "      <td>Felix Lee Mitchell</td>\n",
       "      <td>NaN</td>\n",
       "      <td>NaN</td>\n",
       "      <td>NaN</td>\n",
       "      <td>NaN</td>\n",
       "      <td>NaN</td>\n",
       "      <td>NaN</td>\n",
       "      <td>NaN</td>\n",
       "      <td>NaN</td>\n",
       "      <td>Open Weight</td>\n",
       "      <td>U-DEC</td>\n",
       "      <td>None</td>\n",
       "      <td>2</td>\n",
       "      <td>3:00</td>\n",
       "      <td>win</td>\n",
       "      <td>False</td>\n",
       "      <td>UFC 10: The Tournament</td>\n",
       "      <td>July 12, 1996</td>\n",
       "    </tr>\n",
       "    <tr>\n",
       "      <th>379</th>\n",
       "      <td>Roberto Traven</td>\n",
       "      <td>Dave Berry</td>\n",
       "      <td>NaN</td>\n",
       "      <td>NaN</td>\n",
       "      <td>NaN</td>\n",
       "      <td>NaN</td>\n",
       "      <td>NaN</td>\n",
       "      <td>NaN</td>\n",
       "      <td>NaN</td>\n",
       "      <td>NaN</td>\n",
       "      <td>Open Weight</td>\n",
       "      <td>KO/TKO</td>\n",
       "      <td>Punches</td>\n",
       "      <td>1</td>\n",
       "      <td>1:33</td>\n",
       "      <td>win</td>\n",
       "      <td>False</td>\n",
       "      <td>UFC 11: The Proving Ground</td>\n",
       "      <td>September 20, 1996</td>\n",
       "    </tr>\n",
       "    <tr>\n",
       "      <th>380</th>\n",
       "      <td>Scott Ferrozzo</td>\n",
       "      <td>Sam Fulton</td>\n",
       "      <td>NaN</td>\n",
       "      <td>NaN</td>\n",
       "      <td>NaN</td>\n",
       "      <td>NaN</td>\n",
       "      <td>NaN</td>\n",
       "      <td>NaN</td>\n",
       "      <td>NaN</td>\n",
       "      <td>NaN</td>\n",
       "      <td>Open Weight</td>\n",
       "      <td>SUB</td>\n",
       "      <td>Injury</td>\n",
       "      <td>1</td>\n",
       "      <td>1:45</td>\n",
       "      <td>win</td>\n",
       "      <td>False</td>\n",
       "      <td>UFC 11: The Proving Ground</td>\n",
       "      <td>September 20, 1996</td>\n",
       "    </tr>\n",
       "    <tr>\n",
       "      <th>388</th>\n",
       "      <td>Tai Bowden</td>\n",
       "      <td>Jack Nilson</td>\n",
       "      <td>NaN</td>\n",
       "      <td>NaN</td>\n",
       "      <td>NaN</td>\n",
       "      <td>NaN</td>\n",
       "      <td>NaN</td>\n",
       "      <td>NaN</td>\n",
       "      <td>NaN</td>\n",
       "      <td>NaN</td>\n",
       "      <td>Open Weight</td>\n",
       "      <td>KO/TKO</td>\n",
       "      <td>Headbutts</td>\n",
       "      <td>1</td>\n",
       "      <td>4:46</td>\n",
       "      <td>win</td>\n",
       "      <td>False</td>\n",
       "      <td>UFC - Ultimate Ultimate '96</td>\n",
       "      <td>December 07, 1996</td>\n",
       "    </tr>\n",
       "    <tr>\n",
       "      <th>389</th>\n",
       "      <td>Steve Nelmark</td>\n",
       "      <td>Marcus Bossett</td>\n",
       "      <td>NaN</td>\n",
       "      <td>NaN</td>\n",
       "      <td>NaN</td>\n",
       "      <td>NaN</td>\n",
       "      <td>NaN</td>\n",
       "      <td>NaN</td>\n",
       "      <td>NaN</td>\n",
       "      <td>NaN</td>\n",
       "      <td>Open Weight</td>\n",
       "      <td>SUB</td>\n",
       "      <td>Shoulder Choke</td>\n",
       "      <td>1</td>\n",
       "      <td>1:37</td>\n",
       "      <td>win</td>\n",
       "      <td>False</td>\n",
       "      <td>UFC - Ultimate Ultimate '96</td>\n",
       "      <td>December 07, 1996</td>\n",
       "    </tr>\n",
       "    <tr>\n",
       "      <th>390</th>\n",
       "      <td>Mark Hall</td>\n",
       "      <td>Felix Lee Mitchell</td>\n",
       "      <td>NaN</td>\n",
       "      <td>NaN</td>\n",
       "      <td>NaN</td>\n",
       "      <td>NaN</td>\n",
       "      <td>NaN</td>\n",
       "      <td>NaN</td>\n",
       "      <td>NaN</td>\n",
       "      <td>NaN</td>\n",
       "      <td>Open Weight</td>\n",
       "      <td>KO/TKO</td>\n",
       "      <td>None</td>\n",
       "      <td>1</td>\n",
       "      <td>1:45</td>\n",
       "      <td>win</td>\n",
       "      <td>False</td>\n",
       "      <td>UFC - Ultimate Ultimate '96</td>\n",
       "      <td>December 07, 1996</td>\n",
       "    </tr>\n",
       "    <tr>\n",
       "      <th>398</th>\n",
       "      <td>Justin Martin</td>\n",
       "      <td>Eric Martin</td>\n",
       "      <td>NaN</td>\n",
       "      <td>NaN</td>\n",
       "      <td>NaN</td>\n",
       "      <td>NaN</td>\n",
       "      <td>NaN</td>\n",
       "      <td>NaN</td>\n",
       "      <td>NaN</td>\n",
       "      <td>NaN</td>\n",
       "      <td>Heavyweight</td>\n",
       "      <td>SUB</td>\n",
       "      <td>Heel Hook</td>\n",
       "      <td>1</td>\n",
       "      <td>0:14</td>\n",
       "      <td>win</td>\n",
       "      <td>False</td>\n",
       "      <td>UFC 12: Judgement Day</td>\n",
       "      <td>February 07, 1997</td>\n",
       "    </tr>\n",
       "    <tr>\n",
       "      <th>399</th>\n",
       "      <td>Nick Sanzo</td>\n",
       "      <td>Jackie Lee</td>\n",
       "      <td>NaN</td>\n",
       "      <td>NaN</td>\n",
       "      <td>NaN</td>\n",
       "      <td>NaN</td>\n",
       "      <td>NaN</td>\n",
       "      <td>NaN</td>\n",
       "      <td>NaN</td>\n",
       "      <td>NaN</td>\n",
       "      <td>Lightweight</td>\n",
       "      <td>KO/TKO</td>\n",
       "      <td>None</td>\n",
       "      <td>1</td>\n",
       "      <td>0:48</td>\n",
       "      <td>win</td>\n",
       "      <td>False</td>\n",
       "      <td>UFC 12: Judgement Day</td>\n",
       "      <td>February 07, 1997</td>\n",
       "    </tr>\n",
       "    <tr>\n",
       "      <th>438</th>\n",
       "      <td>Chris Brennan</td>\n",
       "      <td>Courtney Turner</td>\n",
       "      <td>NaN</td>\n",
       "      <td>NaN</td>\n",
       "      <td>NaN</td>\n",
       "      <td>NaN</td>\n",
       "      <td>NaN</td>\n",
       "      <td>NaN</td>\n",
       "      <td>NaN</td>\n",
       "      <td>NaN</td>\n",
       "      <td>Lightweight</td>\n",
       "      <td>SUB</td>\n",
       "      <td>Armbar</td>\n",
       "      <td>1</td>\n",
       "      <td>1:20</td>\n",
       "      <td>win</td>\n",
       "      <td>False</td>\n",
       "      <td>UFC 16: Battle in the Bayou</td>\n",
       "      <td>March 13, 1998</td>\n",
       "    </tr>\n",
       "    <tr>\n",
       "      <th>439</th>\n",
       "      <td>Laverne Clark</td>\n",
       "      <td>Josh Stuart</td>\n",
       "      <td>NaN</td>\n",
       "      <td>NaN</td>\n",
       "      <td>NaN</td>\n",
       "      <td>NaN</td>\n",
       "      <td>NaN</td>\n",
       "      <td>NaN</td>\n",
       "      <td>NaN</td>\n",
       "      <td>NaN</td>\n",
       "      <td>Lightweight</td>\n",
       "      <td>KO/TKO</td>\n",
       "      <td>None</td>\n",
       "      <td>1</td>\n",
       "      <td>1:15</td>\n",
       "      <td>win</td>\n",
       "      <td>False</td>\n",
       "      <td>UFC 16: Battle in the Bayou</td>\n",
       "      <td>March 13, 1998</td>\n",
       "    </tr>\n",
       "    <tr>\n",
       "      <th>447</th>\n",
       "      <td>Andre Roberts</td>\n",
       "      <td>Harry Moskowitz</td>\n",
       "      <td>NaN</td>\n",
       "      <td>NaN</td>\n",
       "      <td>NaN</td>\n",
       "      <td>NaN</td>\n",
       "      <td>NaN</td>\n",
       "      <td>NaN</td>\n",
       "      <td>NaN</td>\n",
       "      <td>NaN</td>\n",
       "      <td>Heavyweight</td>\n",
       "      <td>U-DEC</td>\n",
       "      <td>None</td>\n",
       "      <td>2</td>\n",
       "      <td>3:00</td>\n",
       "      <td>win</td>\n",
       "      <td>False</td>\n",
       "      <td>UFC 17: Redemption</td>\n",
       "      <td>May 15, 1998</td>\n",
       "    </tr>\n",
       "    <tr>\n",
       "      <th>456</th>\n",
       "      <td>Cesar Marscucci</td>\n",
       "      <td>Paulo Santos</td>\n",
       "      <td>NaN</td>\n",
       "      <td>NaN</td>\n",
       "      <td>NaN</td>\n",
       "      <td>NaN</td>\n",
       "      <td>NaN</td>\n",
       "      <td>NaN</td>\n",
       "      <td>NaN</td>\n",
       "      <td>NaN</td>\n",
       "      <td>Lightweight</td>\n",
       "      <td>KO/TKO</td>\n",
       "      <td>None</td>\n",
       "      <td>1</td>\n",
       "      <td>10:27</td>\n",
       "      <td>win</td>\n",
       "      <td>False</td>\n",
       "      <td>UFC - Ultimate Brazil</td>\n",
       "      <td>October 16, 1998</td>\n",
       "    </tr>\n",
       "  </tbody>\n",
       "</table>\n",
       "</div>"
      ],
      "text/plain": [
       "            fighter_1           fighter_2  fighter_1_kd  fighter_2_kd  \\\n",
       "306    Marcus Bossett    Eldo Xavier Dias           NaN           NaN   \n",
       "307       Joe Charles        Kevin Rosier           NaN           NaN   \n",
       "326    Anthony Macias       He-Man Gipson           NaN           NaN   \n",
       "327       Joel Sutton    Jack McGlaughlin           NaN           NaN   \n",
       "337  Onassis Parungao    Francesco Maturi           NaN           NaN   \n",
       "338       Joel Sutton         Geza Kalman           NaN           NaN   \n",
       "346         Mark Hall       Trent Jenkins           NaN           NaN   \n",
       "347       Joe Charles        Scott Bessac           NaN           NaN   \n",
       "356        Sam Adkins        Keith Mielke           NaN           NaN   \n",
       "371        Sam Adkins  Felix Lee Mitchell           NaN           NaN   \n",
       "379    Roberto Traven          Dave Berry           NaN           NaN   \n",
       "380    Scott Ferrozzo          Sam Fulton           NaN           NaN   \n",
       "388        Tai Bowden         Jack Nilson           NaN           NaN   \n",
       "389     Steve Nelmark      Marcus Bossett           NaN           NaN   \n",
       "390         Mark Hall  Felix Lee Mitchell           NaN           NaN   \n",
       "398     Justin Martin         Eric Martin           NaN           NaN   \n",
       "399        Nick Sanzo          Jackie Lee           NaN           NaN   \n",
       "438     Chris Brennan     Courtney Turner           NaN           NaN   \n",
       "439     Laverne Clark         Josh Stuart           NaN           NaN   \n",
       "447     Andre Roberts     Harry Moskowitz           NaN           NaN   \n",
       "456   Cesar Marscucci        Paulo Santos           NaN           NaN   \n",
       "\n",
       "     fighter_1_str  fighter_2_str  fighter_1_td  fighter_2_td  fighter_1_sub  \\\n",
       "306            NaN            NaN           NaN           NaN            NaN   \n",
       "307            NaN            NaN           NaN           NaN            NaN   \n",
       "326            NaN            NaN           NaN           NaN            NaN   \n",
       "327            NaN            NaN           NaN           NaN            NaN   \n",
       "337            NaN            NaN           NaN           NaN            NaN   \n",
       "338            NaN            NaN           NaN           NaN            NaN   \n",
       "346            NaN            NaN           NaN           NaN            NaN   \n",
       "347            NaN            NaN           NaN           NaN            NaN   \n",
       "356            NaN            NaN           NaN           NaN            NaN   \n",
       "371            NaN            NaN           NaN           NaN            NaN   \n",
       "379            NaN            NaN           NaN           NaN            NaN   \n",
       "380            NaN            NaN           NaN           NaN            NaN   \n",
       "388            NaN            NaN           NaN           NaN            NaN   \n",
       "389            NaN            NaN           NaN           NaN            NaN   \n",
       "390            NaN            NaN           NaN           NaN            NaN   \n",
       "398            NaN            NaN           NaN           NaN            NaN   \n",
       "399            NaN            NaN           NaN           NaN            NaN   \n",
       "438            NaN            NaN           NaN           NaN            NaN   \n",
       "439            NaN            NaN           NaN           NaN            NaN   \n",
       "447            NaN            NaN           NaN           NaN            NaN   \n",
       "456            NaN            NaN           NaN           NaN            NaN   \n",
       "\n",
       "     fighter_2_sub  weigh_class  method   method_detail  round   time closure  \\\n",
       "306            NaN  Open Weight  KO/TKO            None      1   4:55     win   \n",
       "307            NaN  Open Weight     SUB          Armbar      1   0:14     win   \n",
       "326            NaN  Open Weight  KO/TKO       Headbutts      1   3:06     win   \n",
       "327            NaN  Open Weight  KO/TKO         Punches      1   2:01     win   \n",
       "337            NaN  Open Weight  KO/TKO            None      1   5:26     win   \n",
       "338            NaN  Open Weight  KO/TKO            None      1   0:48     win   \n",
       "346            NaN  Open Weight     SUB            None      1   5:29     win   \n",
       "347            NaN  Open Weight     SUB          Armbar      1   4:38     win   \n",
       "356            NaN  Open Weight  KO/TKO         Punches      1   0:50     win   \n",
       "371            NaN  Open Weight   U-DEC            None      2   3:00     win   \n",
       "379            NaN  Open Weight  KO/TKO         Punches      1   1:33     win   \n",
       "380            NaN  Open Weight     SUB          Injury      1   1:45     win   \n",
       "388            NaN  Open Weight  KO/TKO       Headbutts      1   4:46     win   \n",
       "389            NaN  Open Weight     SUB  Shoulder Choke      1   1:37     win   \n",
       "390            NaN  Open Weight  KO/TKO            None      1   1:45     win   \n",
       "398            NaN  Heavyweight     SUB       Heel Hook      1   0:14     win   \n",
       "399            NaN  Lightweight  KO/TKO            None      1   0:48     win   \n",
       "438            NaN  Lightweight     SUB          Armbar      1   1:20     win   \n",
       "439            NaN  Lightweight  KO/TKO            None      1   1:15     win   \n",
       "447            NaN  Heavyweight   U-DEC            None      2   3:00     win   \n",
       "456            NaN  Lightweight  KO/TKO            None      1  10:27     win   \n",
       "\n",
       "     is_main_event                      event_name          event_date  \n",
       "306          False  UFC 4: Revenge of the Warriors   December 16, 1994  \n",
       "307          False  UFC 4: Revenge of the Warriors   December 16, 1994  \n",
       "326          False      UFC 6: Clash of the Titans       July 14, 1995  \n",
       "327          False      UFC 6: Clash of the Titans       July 14, 1995  \n",
       "337          False     UFC 7: The Brawl in Buffalo  September 08, 1995  \n",
       "338          False     UFC 7: The Brawl in Buffalo  September 08, 1995  \n",
       "346          False     UFC - Ultimate Ultimate '95   December 16, 1995  \n",
       "347          False     UFC - Ultimate Ultimate '95   December 16, 1995  \n",
       "356          False         UFC 8: David vs Goliath   February 16, 1996  \n",
       "371          False          UFC 10: The Tournament       July 12, 1996  \n",
       "379          False      UFC 11: The Proving Ground  September 20, 1996  \n",
       "380          False      UFC 11: The Proving Ground  September 20, 1996  \n",
       "388          False     UFC - Ultimate Ultimate '96   December 07, 1996  \n",
       "389          False     UFC - Ultimate Ultimate '96   December 07, 1996  \n",
       "390          False     UFC - Ultimate Ultimate '96   December 07, 1996  \n",
       "398          False           UFC 12: Judgement Day   February 07, 1997  \n",
       "399          False           UFC 12: Judgement Day   February 07, 1997  \n",
       "438          False     UFC 16: Battle in the Bayou      March 13, 1998  \n",
       "439          False     UFC 16: Battle in the Bayou      March 13, 1998  \n",
       "447          False              UFC 17: Redemption        May 15, 1998  \n",
       "456          False           UFC - Ultimate Brazil    October 16, 1998  "
      ]
     },
     "execution_count": 17,
     "metadata": {},
     "output_type": "execute_result"
    },
    {
     "data": {
      "application/javascript": "\n            setTimeout(function() {\n                var nbb_cell_id = 17;\n                var nbb_unformatted_code = \"df_fights[df_fights['fighter_1_kd'].isna()]\";\n                var nbb_formatted_code = \"df_fights[df_fights[\\\"fighter_1_kd\\\"].isna()]\";\n                var nbb_cells = Jupyter.notebook.get_cells();\n                for (var i = 0; i < nbb_cells.length; ++i) {\n                    if (nbb_cells[i].input_prompt_number == nbb_cell_id) {\n                        if (nbb_cells[i].get_text() == nbb_unformatted_code) {\n                             nbb_cells[i].set_text(nbb_formatted_code);\n                        }\n                        break;\n                    }\n                }\n            }, 500);\n            ",
      "text/plain": [
       "<IPython.core.display.Javascript object>"
      ]
     },
     "metadata": {},
     "output_type": "display_data"
    }
   ],
   "source": [
    "df_fights[df_fights[\"fighter_1_kd\"].isna()]\n"
   ]
  },
  {
   "cell_type": "markdown",
   "metadata": {},
   "source": [
    "Although we have no data of what happened **during** those fights, there is data of how they ended, where they took place, etc. Therefore, I keep those 21 fights in the dataset.\n"
   ]
  },
  {
   "cell_type": "markdown",
   "metadata": {},
   "source": [
    "### Save processed data to parquet files\n"
   ]
  },
  {
   "cell_type": "code",
   "execution_count": null,
   "metadata": {},
   "outputs": [
    {
     "data": {
      "application/javascript": "\n            setTimeout(function() {\n                var nbb_cell_id = 14;\n                var nbb_unformatted_code = \"df_events_merged.to_parquet(path.data_processed_dir('events_processed.parquet'))\\ndf_fights.to_parquet(path.data_processed_dir('fights_processed.parquet'))\";\n                var nbb_formatted_code = \"df_events_merged.to_parquet(path.data_processed_dir(\\\"events_processed.parquet\\\"))\\ndf_fights.to_parquet(path.data_processed_dir(\\\"fights_processed.parquet\\\"))\";\n                var nbb_cells = Jupyter.notebook.get_cells();\n                for (var i = 0; i < nbb_cells.length; ++i) {\n                    if (nbb_cells[i].input_prompt_number == nbb_cell_id) {\n                        if (nbb_cells[i].get_text() == nbb_unformatted_code) {\n                             nbb_cells[i].set_text(nbb_formatted_code);\n                        }\n                        break;\n                    }\n                }\n            }, 500);\n            ",
      "text/plain": [
       "<IPython.core.display.Javascript object>"
      ]
     },
     "metadata": {},
     "output_type": "display_data"
    }
   ],
   "source": [
    "df_events_merged.to_parquet(path.data_processed_dir(\"events_processed.parquet\"))\n",
    "df_fights.to_parquet(path.data_processed_dir(\"fights_processed.parquet\"))\n"
   ]
  }
 ],
 "metadata": {
  "interpreter": {
   "hash": "b20d1665b33d1855b683b279539253598a6d0651249ff0d32f3ef8ad88191b54"
  },
  "kernelspec": {
   "display_name": "Python 3.9.10 ('ufc_events_eda')",
   "language": "python",
   "name": "python3"
  },
  "language_info": {
   "codemirror_mode": {
    "name": "ipython",
    "version": 3
   },
   "file_extension": ".py",
   "mimetype": "text/x-python",
   "name": "python",
   "nbconvert_exporter": "python",
   "pygments_lexer": "ipython3",
   "version": "3.9.10"
  },
  "orig_nbformat": 4
 },
 "nbformat": 4,
 "nbformat_minor": 2
}
