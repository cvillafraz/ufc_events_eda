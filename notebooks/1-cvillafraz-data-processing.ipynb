{
 "cells": [
  {
   "cell_type": "markdown",
   "metadata": {},
   "source": [
    "# Process UFC events/fights dataset "
   ]
  },
  {
   "cell_type": "code",
   "execution_count": 1,
   "metadata": {},
   "outputs": [
    {
     "data": {
      "application/javascript": "\n            setTimeout(function() {\n                var nbb_cell_id = 1;\n                var nbb_unformatted_code = \"%load_ext nb_black\\n%load_ext autoreload\\n%autoreload 2\";\n                var nbb_formatted_code = \"%load_ext nb_black\\n%load_ext autoreload\\n%autoreload 2\";\n                var nbb_cells = Jupyter.notebook.get_cells();\n                for (var i = 0; i < nbb_cells.length; ++i) {\n                    if (nbb_cells[i].input_prompt_number == nbb_cell_id) {\n                        if (nbb_cells[i].get_text() == nbb_unformatted_code) {\n                             nbb_cells[i].set_text(nbb_formatted_code);\n                        }\n                        break;\n                    }\n                }\n            }, 500);\n            ",
      "text/plain": [
       "<IPython.core.display.Javascript object>"
      ]
     },
     "metadata": {},
     "output_type": "display_data"
    }
   ],
   "source": [
    "%load_ext nb_black\n",
    "%load_ext autoreload\n",
    "%autoreload 2"
   ]
  },
  {
   "cell_type": "code",
   "execution_count": 2,
   "metadata": {},
   "outputs": [
    {
     "data": {
      "application/javascript": "\n            setTimeout(function() {\n                var nbb_cell_id = 2;\n                var nbb_unformatted_code = \"import json\\nimport ufc_events_eda.utils.paths as path\\nimport pandas as pd\\nimport numpy as np\\nfrom geopy.geocoders import Nominatim\";\n                var nbb_formatted_code = \"import json\\nimport ufc_events_eda.utils.paths as path\\nimport pandas as pd\\nimport numpy as np\\nfrom geopy.geocoders import Nominatim\";\n                var nbb_cells = Jupyter.notebook.get_cells();\n                for (var i = 0; i < nbb_cells.length; ++i) {\n                    if (nbb_cells[i].input_prompt_number == nbb_cell_id) {\n                        if (nbb_cells[i].get_text() == nbb_unformatted_code) {\n                             nbb_cells[i].set_text(nbb_formatted_code);\n                        }\n                        break;\n                    }\n                }\n            }, 500);\n            ",
      "text/plain": [
       "<IPython.core.display.Javascript object>"
      ]
     },
     "metadata": {},
     "output_type": "display_data"
    }
   ],
   "source": [
    "import json\n",
    "import ufc_events_eda.utils.paths as path\n",
    "import pandas as pd\n",
    "import numpy as np\n",
    "from geopy.geocoders import Nominatim"
   ]
  },
  {
   "cell_type": "markdown",
   "metadata": {},
   "source": [
    "### Read dataset into dataframe"
   ]
  },
  {
   "cell_type": "code",
   "execution_count": 3,
   "metadata": {},
   "outputs": [
    {
     "data": {
      "text/html": [
       "<div>\n",
       "<style scoped>\n",
       "    .dataframe tbody tr th:only-of-type {\n",
       "        vertical-align: middle;\n",
       "    }\n",
       "\n",
       "    .dataframe tbody tr th {\n",
       "        vertical-align: top;\n",
       "    }\n",
       "\n",
       "    .dataframe thead th {\n",
       "        text-align: right;\n",
       "    }\n",
       "</style>\n",
       "<table border=\"1\" class=\"dataframe\">\n",
       "  <thead>\n",
       "    <tr style=\"text-align: right;\">\n",
       "      <th></th>\n",
       "      <th>fighter_1</th>\n",
       "      <th>fighter_2</th>\n",
       "      <th>fighter_1_kd</th>\n",
       "      <th>fighter_2_kd</th>\n",
       "      <th>fighter_1_str</th>\n",
       "      <th>fighter_2_str</th>\n",
       "      <th>fighter_1_td</th>\n",
       "      <th>fighter_2_td</th>\n",
       "      <th>fighter_1_sub</th>\n",
       "      <th>fighter_2_sub</th>\n",
       "      <th>weigh_class</th>\n",
       "      <th>method</th>\n",
       "      <th>method_detail</th>\n",
       "      <th>round</th>\n",
       "      <th>time</th>\n",
       "      <th>closure</th>\n",
       "      <th>is_main_event</th>\n",
       "      <th>event_name</th>\n",
       "      <th>event_date</th>\n",
       "      <th>event_location</th>\n",
       "    </tr>\n",
       "  </thead>\n",
       "  <tbody>\n",
       "    <tr>\n",
       "      <th>0</th>\n",
       "      <td>Marina Rodriguez</td>\n",
       "      <td>Michelle Waterson</td>\n",
       "      <td>0</td>\n",
       "      <td>0</td>\n",
       "      <td>125</td>\n",
       "      <td>88</td>\n",
       "      <td>0</td>\n",
       "      <td>1</td>\n",
       "      <td>0</td>\n",
       "      <td>0</td>\n",
       "      <td>Women's Flyweight</td>\n",
       "      <td>U-DEC</td>\n",
       "      <td>None</td>\n",
       "      <td>5</td>\n",
       "      <td>5:00</td>\n",
       "      <td>win</td>\n",
       "      <td>True</td>\n",
       "      <td>UFC Fight Night: Rodriguez vs. Waterson</td>\n",
       "      <td>May 08, 2021</td>\n",
       "      <td>Las Vegas, Nevada, USA</td>\n",
       "    </tr>\n",
       "    <tr>\n",
       "      <th>1</th>\n",
       "      <td>Alex Morono</td>\n",
       "      <td>Donald Cerrone</td>\n",
       "      <td>0</td>\n",
       "      <td>0</td>\n",
       "      <td>35</td>\n",
       "      <td>17</td>\n",
       "      <td>0</td>\n",
       "      <td>0</td>\n",
       "      <td>0</td>\n",
       "      <td>0</td>\n",
       "      <td>Welterweight</td>\n",
       "      <td>KO/TKO</td>\n",
       "      <td>Punches</td>\n",
       "      <td>1</td>\n",
       "      <td>4:40</td>\n",
       "      <td>win</td>\n",
       "      <td>False</td>\n",
       "      <td>UFC Fight Night: Rodriguez vs. Waterson</td>\n",
       "      <td>May 08, 2021</td>\n",
       "      <td>Las Vegas, Nevada, USA</td>\n",
       "    </tr>\n",
       "    <tr>\n",
       "      <th>2</th>\n",
       "      <td>Neil Magny</td>\n",
       "      <td>Geoff Neal</td>\n",
       "      <td>0</td>\n",
       "      <td>0</td>\n",
       "      <td>55</td>\n",
       "      <td>35</td>\n",
       "      <td>2</td>\n",
       "      <td>1</td>\n",
       "      <td>0</td>\n",
       "      <td>0</td>\n",
       "      <td>Welterweight</td>\n",
       "      <td>U-DEC</td>\n",
       "      <td>None</td>\n",
       "      <td>3</td>\n",
       "      <td>5:00</td>\n",
       "      <td>win</td>\n",
       "      <td>False</td>\n",
       "      <td>UFC Fight Night: Rodriguez vs. Waterson</td>\n",
       "      <td>May 08, 2021</td>\n",
       "      <td>Las Vegas, Nevada, USA</td>\n",
       "    </tr>\n",
       "    <tr>\n",
       "      <th>3</th>\n",
       "      <td>Marcos Rogerio de Lima</td>\n",
       "      <td>Maurice Greene</td>\n",
       "      <td>0</td>\n",
       "      <td>0</td>\n",
       "      <td>14</td>\n",
       "      <td>5</td>\n",
       "      <td>3</td>\n",
       "      <td>0</td>\n",
       "      <td>0</td>\n",
       "      <td>0</td>\n",
       "      <td>Heavyweight</td>\n",
       "      <td>U-DEC</td>\n",
       "      <td>None</td>\n",
       "      <td>3</td>\n",
       "      <td>5:00</td>\n",
       "      <td>win</td>\n",
       "      <td>False</td>\n",
       "      <td>UFC Fight Night: Rodriguez vs. Waterson</td>\n",
       "      <td>May 08, 2021</td>\n",
       "      <td>Las Vegas, Nevada, USA</td>\n",
       "    </tr>\n",
       "    <tr>\n",
       "      <th>4</th>\n",
       "      <td>Gregor Gillespie</td>\n",
       "      <td>Diego Ferreira</td>\n",
       "      <td>0</td>\n",
       "      <td>0</td>\n",
       "      <td>45</td>\n",
       "      <td>31</td>\n",
       "      <td>4</td>\n",
       "      <td>0</td>\n",
       "      <td>0</td>\n",
       "      <td>0</td>\n",
       "      <td>Lightweight</td>\n",
       "      <td>KO/TKO</td>\n",
       "      <td>Punches</td>\n",
       "      <td>2</td>\n",
       "      <td>4:51</td>\n",
       "      <td>win</td>\n",
       "      <td>False</td>\n",
       "      <td>UFC Fight Night: Rodriguez vs. Waterson</td>\n",
       "      <td>May 08, 2021</td>\n",
       "      <td>Las Vegas, Nevada, USA</td>\n",
       "    </tr>\n",
       "  </tbody>\n",
       "</table>\n",
       "</div>"
      ],
      "text/plain": [
       "                fighter_1          fighter_2 fighter_1_kd fighter_2_kd  \\\n",
       "0        Marina Rodriguez  Michelle Waterson            0            0   \n",
       "1             Alex Morono     Donald Cerrone            0            0   \n",
       "2              Neil Magny         Geoff Neal            0            0   \n",
       "3  Marcos Rogerio de Lima     Maurice Greene            0            0   \n",
       "4        Gregor Gillespie     Diego Ferreira            0            0   \n",
       "\n",
       "  fighter_1_str fighter_2_str fighter_1_td fighter_2_td fighter_1_sub  \\\n",
       "0           125            88            0            1             0   \n",
       "1            35            17            0            0             0   \n",
       "2            55            35            2            1             0   \n",
       "3            14             5            3            0             0   \n",
       "4            45            31            4            0             0   \n",
       "\n",
       "  fighter_2_sub        weigh_class  method method_detail round  time closure  \\\n",
       "0             0  Women's Flyweight   U-DEC          None     5  5:00     win   \n",
       "1             0       Welterweight  KO/TKO       Punches     1  4:40     win   \n",
       "2             0       Welterweight   U-DEC          None     3  5:00     win   \n",
       "3             0        Heavyweight   U-DEC          None     3  5:00     win   \n",
       "4             0        Lightweight  KO/TKO       Punches     2  4:51     win   \n",
       "\n",
       "   is_main_event                               event_name    event_date  \\\n",
       "0           True  UFC Fight Night: Rodriguez vs. Waterson  May 08, 2021   \n",
       "1          False  UFC Fight Night: Rodriguez vs. Waterson  May 08, 2021   \n",
       "2          False  UFC Fight Night: Rodriguez vs. Waterson  May 08, 2021   \n",
       "3          False  UFC Fight Night: Rodriguez vs. Waterson  May 08, 2021   \n",
       "4          False  UFC Fight Night: Rodriguez vs. Waterson  May 08, 2021   \n",
       "\n",
       "           event_location  \n",
       "0  Las Vegas, Nevada, USA  \n",
       "1  Las Vegas, Nevada, USA  \n",
       "2  Las Vegas, Nevada, USA  \n",
       "3  Las Vegas, Nevada, USA  \n",
       "4  Las Vegas, Nevada, USA  "
      ]
     },
     "execution_count": 3,
     "metadata": {},
     "output_type": "execute_result"
    },
    {
     "data": {
      "application/javascript": "\n            setTimeout(function() {\n                var nbb_cell_id = 3;\n                var nbb_unformatted_code = \"with open(path.data_raw_dir('ufc_events.json'), 'r') as f:\\n    data = json.loads(f.read())\\n\\ndf = pd.json_normalize(data, record_path='fights', meta=['event_name', 'event_date', 'event_location'])\\ndf.head()\";\n                var nbb_formatted_code = \"with open(path.data_raw_dir(\\\"ufc_events.json\\\"), \\\"r\\\") as f:\\n    data = json.loads(f.read())\\n\\ndf = pd.json_normalize(\\n    data, record_path=\\\"fights\\\", meta=[\\\"event_name\\\", \\\"event_date\\\", \\\"event_location\\\"]\\n)\\ndf.head()\";\n                var nbb_cells = Jupyter.notebook.get_cells();\n                for (var i = 0; i < nbb_cells.length; ++i) {\n                    if (nbb_cells[i].input_prompt_number == nbb_cell_id) {\n                        if (nbb_cells[i].get_text() == nbb_unformatted_code) {\n                             nbb_cells[i].set_text(nbb_formatted_code);\n                        }\n                        break;\n                    }\n                }\n            }, 500);\n            ",
      "text/plain": [
       "<IPython.core.display.Javascript object>"
      ]
     },
     "metadata": {},
     "output_type": "display_data"
    }
   ],
   "source": [
    "with open(path.data_raw_dir('ufc_events.json'), 'r') as f:\n",
    "    data = json.loads(f.read())\n",
    "\n",
    "df = pd.json_normalize(data, record_path='fights', meta=['event_name', 'event_date', 'event_location'])\n",
    "df.head()"
   ]
  },
  {
   "cell_type": "markdown",
   "metadata": {},
   "source": [
    "### Print shape, columns and data types\n",
    "Check references/columns.md to see what each column represents in detail"
   ]
  },
  {
   "cell_type": "code",
   "execution_count": 4,
   "metadata": {},
   "outputs": [
    {
     "name": "stdout",
     "output_type": "stream",
     "text": [
      "(6474, 20)\n",
      "Index(['fighter_1', 'fighter_2', 'fighter_1_kd', 'fighter_2_kd',\n",
      "       'fighter_1_str', 'fighter_2_str', 'fighter_1_td', 'fighter_2_td',\n",
      "       'fighter_1_sub', 'fighter_2_sub', 'weigh_class', 'method',\n",
      "       'method_detail', 'round', 'time', 'closure', 'is_main_event',\n",
      "       'event_name', 'event_date', 'event_location'],\n",
      "      dtype='object')\n"
     ]
    },
    {
     "data": {
      "application/javascript": "\n            setTimeout(function() {\n                var nbb_cell_id = 4;\n                var nbb_unformatted_code = \"print(df.shape)\\nprint(df.columns)\";\n                var nbb_formatted_code = \"print(df.shape)\\nprint(df.columns)\";\n                var nbb_cells = Jupyter.notebook.get_cells();\n                for (var i = 0; i < nbb_cells.length; ++i) {\n                    if (nbb_cells[i].input_prompt_number == nbb_cell_id) {\n                        if (nbb_cells[i].get_text() == nbb_unformatted_code) {\n                             nbb_cells[i].set_text(nbb_formatted_code);\n                        }\n                        break;\n                    }\n                }\n            }, 500);\n            ",
      "text/plain": [
       "<IPython.core.display.Javascript object>"
      ]
     },
     "metadata": {},
     "output_type": "display_data"
    }
   ],
   "source": [
    "print(df.shape)\n",
    "print(df.columns)"
   ]
  },
  {
   "cell_type": "code",
   "execution_count": 5,
   "metadata": {},
   "outputs": [
    {
     "data": {
      "text/plain": [
       "fighter_1         object\n",
       "fighter_2         object\n",
       "fighter_1_kd      object\n",
       "fighter_2_kd      object\n",
       "fighter_1_str     object\n",
       "fighter_2_str     object\n",
       "fighter_1_td      object\n",
       "fighter_2_td      object\n",
       "fighter_1_sub     object\n",
       "fighter_2_sub     object\n",
       "weigh_class       object\n",
       "method            object\n",
       "method_detail     object\n",
       "round             object\n",
       "time              object\n",
       "closure           object\n",
       "is_main_event       bool\n",
       "event_name        object\n",
       "event_date        object\n",
       "event_location    object\n",
       "dtype: object"
      ]
     },
     "execution_count": 5,
     "metadata": {},
     "output_type": "execute_result"
    },
    {
     "data": {
      "application/javascript": "\n            setTimeout(function() {\n                var nbb_cell_id = 5;\n                var nbb_unformatted_code = \"df.dtypes\";\n                var nbb_formatted_code = \"df.dtypes\";\n                var nbb_cells = Jupyter.notebook.get_cells();\n                for (var i = 0; i < nbb_cells.length; ++i) {\n                    if (nbb_cells[i].input_prompt_number == nbb_cell_id) {\n                        if (nbb_cells[i].get_text() == nbb_unformatted_code) {\n                             nbb_cells[i].set_text(nbb_formatted_code);\n                        }\n                        break;\n                    }\n                }\n            }, 500);\n            ",
      "text/plain": [
       "<IPython.core.display.Javascript object>"
      ]
     },
     "metadata": {},
     "output_type": "display_data"
    }
   ],
   "source": [
    "df.dtypes"
   ]
  },
  {
   "cell_type": "markdown",
   "metadata": {},
   "source": [
    "### Convert numeric strings to float or int"
   ]
  },
  {
   "cell_type": "code",
   "execution_count": 4,
   "metadata": {},
   "outputs": [
    {
     "data": {
      "application/javascript": "\n            setTimeout(function() {\n                var nbb_cell_id = 4;\n                var nbb_unformatted_code = \"df[\\n    [\\n        \\\"fighter_1_kd\\\",\\n        \\\"fighter_2_kd\\\",\\n        \\\"fighter_1_str\\\",\\n        \\\"fighter_2_str\\\",\\n        \\\"fighter_1_td\\\",\\n        \\\"fighter_2_td\\\",\\n        \\\"fighter_1_sub\\\",\\n        \\\"fighter_2_sub\\\",\\n        \\\"round\\\"\\n    ]\\n] = df[\\n    [\\n        \\\"fighter_1_kd\\\",\\n        \\\"fighter_2_kd\\\",\\n        \\\"fighter_1_str\\\",\\n        \\\"fighter_2_str\\\",\\n        \\\"fighter_1_td\\\",\\n        \\\"fighter_2_td\\\",\\n        \\\"fighter_1_sub\\\",\\n        \\\"fighter_2_sub\\\",\\n        \\\"round\\\"\\n    ]\\n].apply(pd.to_numeric, errors='coerce', downcast='unsigned')\";\n                var nbb_formatted_code = \"df[\\n    [\\n        \\\"fighter_1_kd\\\",\\n        \\\"fighter_2_kd\\\",\\n        \\\"fighter_1_str\\\",\\n        \\\"fighter_2_str\\\",\\n        \\\"fighter_1_td\\\",\\n        \\\"fighter_2_td\\\",\\n        \\\"fighter_1_sub\\\",\\n        \\\"fighter_2_sub\\\",\\n        \\\"round\\\",\\n    ]\\n] = df[\\n    [\\n        \\\"fighter_1_kd\\\",\\n        \\\"fighter_2_kd\\\",\\n        \\\"fighter_1_str\\\",\\n        \\\"fighter_2_str\\\",\\n        \\\"fighter_1_td\\\",\\n        \\\"fighter_2_td\\\",\\n        \\\"fighter_1_sub\\\",\\n        \\\"fighter_2_sub\\\",\\n        \\\"round\\\",\\n    ]\\n].apply(\\n    pd.to_numeric, errors=\\\"coerce\\\", downcast=\\\"unsigned\\\"\\n)\";\n                var nbb_cells = Jupyter.notebook.get_cells();\n                for (var i = 0; i < nbb_cells.length; ++i) {\n                    if (nbb_cells[i].input_prompt_number == nbb_cell_id) {\n                        if (nbb_cells[i].get_text() == nbb_unformatted_code) {\n                             nbb_cells[i].set_text(nbb_formatted_code);\n                        }\n                        break;\n                    }\n                }\n            }, 500);\n            ",
      "text/plain": [
       "<IPython.core.display.Javascript object>"
      ]
     },
     "metadata": {},
     "output_type": "display_data"
    }
   ],
   "source": [
    "df[\n",
    "    [\n",
    "        \"fighter_1_kd\",\n",
    "        \"fighter_2_kd\",\n",
    "        \"fighter_1_str\",\n",
    "        \"fighter_2_str\",\n",
    "        \"fighter_1_td\",\n",
    "        \"fighter_2_td\",\n",
    "        \"fighter_1_sub\",\n",
    "        \"fighter_2_sub\",\n",
    "        \"round\"\n",
    "    ]\n",
    "] = df[\n",
    "    [\n",
    "        \"fighter_1_kd\",\n",
    "        \"fighter_2_kd\",\n",
    "        \"fighter_1_str\",\n",
    "        \"fighter_2_str\",\n",
    "        \"fighter_1_td\",\n",
    "        \"fighter_2_td\",\n",
    "        \"fighter_1_sub\",\n",
    "        \"fighter_2_sub\",\n",
    "        \"round\"\n",
    "    ]\n",
    "].apply(pd.to_numeric, errors='coerce', downcast='unsigned')"
   ]
  },
  {
   "cell_type": "code",
   "execution_count": 5,
   "metadata": {},
   "outputs": [
    {
     "data": {
      "text/plain": [
       "fighter_1_kd     float64\n",
       "fighter_2_kd     float64\n",
       "fighter_1_str    float64\n",
       "fighter_2_str    float64\n",
       "fighter_1_td     float64\n",
       "fighter_2_td     float64\n",
       "fighter_1_sub    float64\n",
       "fighter_2_sub    float64\n",
       "round              uint8\n",
       "dtype: object"
      ]
     },
     "execution_count": 5,
     "metadata": {},
     "output_type": "execute_result"
    },
    {
     "data": {
      "application/javascript": "\n            setTimeout(function() {\n                var nbb_cell_id = 5;\n                var nbb_unformatted_code = \"df[\\n    [\\n        \\\"fighter_1_kd\\\",\\n        \\\"fighter_2_kd\\\",\\n        \\\"fighter_1_str\\\",\\n        \\\"fighter_2_str\\\",\\n        \\\"fighter_1_td\\\",\\n        \\\"fighter_2_td\\\",\\n        \\\"fighter_1_sub\\\",\\n        \\\"fighter_2_sub\\\",\\n        \\\"round\\\",\\n    ]\\n].dtypes\";\n                var nbb_formatted_code = \"df[\\n    [\\n        \\\"fighter_1_kd\\\",\\n        \\\"fighter_2_kd\\\",\\n        \\\"fighter_1_str\\\",\\n        \\\"fighter_2_str\\\",\\n        \\\"fighter_1_td\\\",\\n        \\\"fighter_2_td\\\",\\n        \\\"fighter_1_sub\\\",\\n        \\\"fighter_2_sub\\\",\\n        \\\"round\\\",\\n    ]\\n].dtypes\";\n                var nbb_cells = Jupyter.notebook.get_cells();\n                for (var i = 0; i < nbb_cells.length; ++i) {\n                    if (nbb_cells[i].input_prompt_number == nbb_cell_id) {\n                        if (nbb_cells[i].get_text() == nbb_unformatted_code) {\n                             nbb_cells[i].set_text(nbb_formatted_code);\n                        }\n                        break;\n                    }\n                }\n            }, 500);\n            ",
      "text/plain": [
       "<IPython.core.display.Javascript object>"
      ]
     },
     "metadata": {},
     "output_type": "display_data"
    }
   ],
   "source": [
    "df[\n",
    "    [\n",
    "        \"fighter_1_kd\",\n",
    "        \"fighter_2_kd\",\n",
    "        \"fighter_1_str\",\n",
    "        \"fighter_2_str\",\n",
    "        \"fighter_1_td\",\n",
    "        \"fighter_2_td\",\n",
    "        \"fighter_1_sub\",\n",
    "        \"fighter_2_sub\",\n",
    "        \"round\",\n",
    "    ]\n",
    "].dtypes\n"
   ]
  },
  {
   "cell_type": "markdown",
   "metadata": {},
   "source": [
    "### Separate fights from events (keeping event name in fights dataframe)"
   ]
  },
  {
   "cell_type": "code",
   "execution_count": 6,
   "metadata": {},
   "outputs": [
    {
     "data": {
      "application/javascript": "\n            setTimeout(function() {\n                var nbb_cell_id = 6;\n                var nbb_unformatted_code = \"df_events = df.drop_duplicates(subset=['event_name'])[['event_name', 'event_date', 'event_location']]\\ndf_fights = df.drop(columns=['event_date', 'event_location'])\";\n                var nbb_formatted_code = \"df_events = df.drop_duplicates(subset=[\\\"event_name\\\"])[\\n    [\\\"event_name\\\", \\\"event_date\\\", \\\"event_location\\\"]\\n]\\ndf_fights = df.drop(columns=[\\\"event_date\\\", \\\"event_location\\\"])\";\n                var nbb_cells = Jupyter.notebook.get_cells();\n                for (var i = 0; i < nbb_cells.length; ++i) {\n                    if (nbb_cells[i].input_prompt_number == nbb_cell_id) {\n                        if (nbb_cells[i].get_text() == nbb_unformatted_code) {\n                             nbb_cells[i].set_text(nbb_formatted_code);\n                        }\n                        break;\n                    }\n                }\n            }, 500);\n            ",
      "text/plain": [
       "<IPython.core.display.Javascript object>"
      ]
     },
     "metadata": {},
     "output_type": "display_data"
    }
   ],
   "source": [
    "df_events = df.drop_duplicates(subset=['event_name'])[['event_name', 'event_date', 'event_location']]\n",
    "df_fights = df.drop(columns=['event_date', 'event_location'])"
   ]
  },
  {
   "cell_type": "markdown",
   "metadata": {},
   "source": [
    "### Cast event_date to datetime"
   ]
  },
  {
   "cell_type": "code",
   "execution_count": 7,
   "metadata": {},
   "outputs": [
    {
     "data": {
      "application/javascript": "\n            setTimeout(function() {\n                var nbb_cell_id = 7;\n                var nbb_unformatted_code = \"df_events['event_date']=pd.to_datetime(df['event_date'], format='%B %d, %Y')\";\n                var nbb_formatted_code = \"df_events[\\\"event_date\\\"] = pd.to_datetime(df[\\\"event_date\\\"], format=\\\"%B %d, %Y\\\")\";\n                var nbb_cells = Jupyter.notebook.get_cells();\n                for (var i = 0; i < nbb_cells.length; ++i) {\n                    if (nbb_cells[i].input_prompt_number == nbb_cell_id) {\n                        if (nbb_cells[i].get_text() == nbb_unformatted_code) {\n                             nbb_cells[i].set_text(nbb_formatted_code);\n                        }\n                        break;\n                    }\n                }\n            }, 500);\n            ",
      "text/plain": [
       "<IPython.core.display.Javascript object>"
      ]
     },
     "metadata": {},
     "output_type": "display_data"
    }
   ],
   "source": [
    "df_events['event_date']=pd.to_datetime(df['event_date'], format='%B %d, %Y')"
   ]
  },
  {
   "cell_type": "markdown",
   "metadata": {},
   "source": [
    "### Geocode event_location to plot maps later "
   ]
  },
  {
   "cell_type": "code",
   "execution_count": 8,
   "metadata": {},
   "outputs": [
    {
     "data": {
      "application/javascript": "\n            setTimeout(function() {\n                var nbb_cell_id = 8;\n                var nbb_unformatted_code = \"def geocode_city(city):\\n    geocode = Nominatim(user_agent=\\\"MyApp\\\").geocode\\n    geocoded = geocode(city)\\n    return geocoded.latitude, geocoded.longitude\\n\\n\\ndf_city = pd.DataFrame(\\n    data=df_events[df_events[\\\"event_location\\\"].str.contains(\\\"USA\\\")][\\n        \\\"event_location\\\"\\n    ].unique(),\\n    columns=[\\\"event_location\\\"],\\n)\\nlat, lon = [], []\\n\\nfor city in df_city[\\\"event_location\\\"]:\\n    geocoded = geocode_city(city)\\n    lat.append(geocoded[0])\\n    lon.append(geocoded[1])\";\n                var nbb_formatted_code = \"def geocode_city(city):\\n    geocode = Nominatim(user_agent=\\\"MyApp\\\").geocode\\n    geocoded = geocode(city)\\n    return geocoded.latitude, geocoded.longitude\\n\\n\\ndf_city = pd.DataFrame(\\n    data=df_events[df_events[\\\"event_location\\\"].str.contains(\\\"USA\\\")][\\n        \\\"event_location\\\"\\n    ].unique(),\\n    columns=[\\\"event_location\\\"],\\n)\\nlat, lon = [], []\\n\\nfor city in df_city[\\\"event_location\\\"]:\\n    geocoded = geocode_city(city)\\n    lat.append(geocoded[0])\\n    lon.append(geocoded[1])\";\n                var nbb_cells = Jupyter.notebook.get_cells();\n                for (var i = 0; i < nbb_cells.length; ++i) {\n                    if (nbb_cells[i].input_prompt_number == nbb_cell_id) {\n                        if (nbb_cells[i].get_text() == nbb_unformatted_code) {\n                             nbb_cells[i].set_text(nbb_formatted_code);\n                        }\n                        break;\n                    }\n                }\n            }, 500);\n            ",
      "text/plain": [
       "<IPython.core.display.Javascript object>"
      ]
     },
     "metadata": {},
     "output_type": "display_data"
    }
   ],
   "source": [
    "def geocode_city(city):\n",
    "    geocode = Nominatim(user_agent=\"MyApp\").geocode\n",
    "    geocoded = geocode(city)\n",
    "    return geocoded.latitude, geocoded.longitude\n",
    "\n",
    "\n",
    "df_city = pd.DataFrame(\n",
    "    data=df_events[df_events[\"event_location\"].str.contains(\"USA\")][\n",
    "        \"event_location\"\n",
    "    ].unique(),\n",
    "    columns=[\"event_location\"],\n",
    ")\n",
    "lat, lon = [], []\n",
    "\n",
    "for city in df_city[\"event_location\"]:\n",
    "    geocoded = geocode_city(city)\n",
    "    lat.append(geocoded[0])\n",
    "    lon.append(geocoded[1])\n"
   ]
  },
  {
   "cell_type": "code",
   "execution_count": 9,
   "metadata": {},
   "outputs": [
    {
     "data": {
      "text/html": [
       "<div>\n",
       "<style scoped>\n",
       "    .dataframe tbody tr th:only-of-type {\n",
       "        vertical-align: middle;\n",
       "    }\n",
       "\n",
       "    .dataframe tbody tr th {\n",
       "        vertical-align: top;\n",
       "    }\n",
       "\n",
       "    .dataframe thead th {\n",
       "        text-align: right;\n",
       "    }\n",
       "</style>\n",
       "<table border=\"1\" class=\"dataframe\">\n",
       "  <thead>\n",
       "    <tr style=\"text-align: right;\">\n",
       "      <th></th>\n",
       "      <th>event_location</th>\n",
       "      <th>latitude</th>\n",
       "      <th>longitude</th>\n",
       "    </tr>\n",
       "  </thead>\n",
       "  <tbody>\n",
       "    <tr>\n",
       "      <th>0</th>\n",
       "      <td>Las Vegas, Nevada, USA</td>\n",
       "      <td>36.167256</td>\n",
       "      <td>-115.148516</td>\n",
       "    </tr>\n",
       "    <tr>\n",
       "      <th>1</th>\n",
       "      <td>Houston, Texas, USA</td>\n",
       "      <td>29.758938</td>\n",
       "      <td>-95.367697</td>\n",
       "    </tr>\n",
       "    <tr>\n",
       "      <th>2</th>\n",
       "      <td>Glendale, Arizona, USA</td>\n",
       "      <td>33.538686</td>\n",
       "      <td>-112.185994</td>\n",
       "    </tr>\n",
       "    <tr>\n",
       "      <th>3</th>\n",
       "      <td>New York City, New York, USA</td>\n",
       "      <td>40.712728</td>\n",
       "      <td>-74.006015</td>\n",
       "    </tr>\n",
       "    <tr>\n",
       "      <th>4</th>\n",
       "      <td>Denver, Colorado, USA</td>\n",
       "      <td>39.739236</td>\n",
       "      <td>-104.984862</td>\n",
       "    </tr>\n",
       "  </tbody>\n",
       "</table>\n",
       "</div>"
      ],
      "text/plain": [
       "                 event_location   latitude   longitude\n",
       "0        Las Vegas, Nevada, USA  36.167256 -115.148516\n",
       "1           Houston, Texas, USA  29.758938  -95.367697\n",
       "2        Glendale, Arizona, USA  33.538686 -112.185994\n",
       "3  New York City, New York, USA  40.712728  -74.006015\n",
       "4         Denver, Colorado, USA  39.739236 -104.984862"
      ]
     },
     "execution_count": 9,
     "metadata": {},
     "output_type": "execute_result"
    },
    {
     "data": {
      "application/javascript": "\n            setTimeout(function() {\n                var nbb_cell_id = 9;\n                var nbb_unformatted_code = \"df_city['latitude'] = lat\\ndf_city['longitude'] = lon\\ndf_city.head()\";\n                var nbb_formatted_code = \"df_city[\\\"latitude\\\"] = lat\\ndf_city[\\\"longitude\\\"] = lon\\ndf_city.head()\";\n                var nbb_cells = Jupyter.notebook.get_cells();\n                for (var i = 0; i < nbb_cells.length; ++i) {\n                    if (nbb_cells[i].input_prompt_number == nbb_cell_id) {\n                        if (nbb_cells[i].get_text() == nbb_unformatted_code) {\n                             nbb_cells[i].set_text(nbb_formatted_code);\n                        }\n                        break;\n                    }\n                }\n            }, 500);\n            ",
      "text/plain": [
       "<IPython.core.display.Javascript object>"
      ]
     },
     "metadata": {},
     "output_type": "display_data"
    }
   ],
   "source": [
    "df_city['latitude'] = lat\n",
    "df_city['longitude'] = lon\n",
    "df_city.head()"
   ]
  },
  {
   "cell_type": "markdown",
   "metadata": {},
   "source": [
    "### Fix inconsistent location entries"
   ]
  },
  {
   "cell_type": "code",
   "execution_count": 11,
   "metadata": {},
   "outputs": [
    {
     "data": {
      "application/javascript": "\n            setTimeout(function() {\n                var nbb_cell_id = 11;\n                var nbb_unformatted_code = \"def fix_inconsistent_location(df):\\n    city_patterns = [\\n        (\\n            df[\\\"event_location\\\"].str.contains(\\\"Abu Dhabi\\\", case=False),\\n            \\\"Abu Dhabi, United Arab Emirates\\\",\\n        ),\\n        (\\n            df[\\\"event_location\\\"].str.contains(\\\"Sao Paulo\\\", case=False),\\n            \\\"Sao Paulo, Brazil\\\",\\n        ),\\n        (\\n            df[\\\"event_location\\\"].str.contains(\\\"Rio de Janeiro\\\", case=False),\\n            \\\"Rio de Janeiro, Brazil\\\",\\n        ),\\n        (\\n            df[\\\"event_location\\\"].str.contains(\\\"Berlin\\\", case=False),\\n            \\\"Berlin, Germany\\\",\\n        ),\\n        (\\n            df[\\\"event_location\\\"].str.contains(\\\"Saitama\\\", case=False),\\n            \\\"Saitama, Japan\\\",\\n        ),\\n    ]\\n\\n    city_criteria, city_values = zip(*city_patterns)\\n    df[\\\"event_location_normalized\\\"] = np.select(city_criteria, city_values, None)\\n    # Replace \\\"None\\\" values with original position\\n    df[\\\"event_location_normalized\\\"] = df[\\\"event_location_normalized\\\"].combine_first(\\n        df[\\\"event_location\\\"]\\n    )\\n\\n    df[\\\"event_location\\\"] = df[\\\"event_location_normalized\\\"]\\n    return df.drop(columns=['event_location_normalized'])\";\n                var nbb_formatted_code = \"def fix_inconsistent_location(df):\\n    city_patterns = [\\n        (\\n            df[\\\"event_location\\\"].str.contains(\\\"Abu Dhabi\\\", case=False),\\n            \\\"Abu Dhabi, United Arab Emirates\\\",\\n        ),\\n        (\\n            df[\\\"event_location\\\"].str.contains(\\\"Sao Paulo\\\", case=False),\\n            \\\"Sao Paulo, Brazil\\\",\\n        ),\\n        (\\n            df[\\\"event_location\\\"].str.contains(\\\"Rio de Janeiro\\\", case=False),\\n            \\\"Rio de Janeiro, Brazil\\\",\\n        ),\\n        (\\n            df[\\\"event_location\\\"].str.contains(\\\"Berlin\\\", case=False),\\n            \\\"Berlin, Germany\\\",\\n        ),\\n        (\\n            df[\\\"event_location\\\"].str.contains(\\\"Saitama\\\", case=False),\\n            \\\"Saitama, Japan\\\",\\n        ),\\n    ]\\n\\n    city_criteria, city_values = zip(*city_patterns)\\n    df[\\\"event_location_normalized\\\"] = np.select(city_criteria, city_values, None)\\n    # Replace \\\"None\\\" values with original position\\n    df[\\\"event_location_normalized\\\"] = df[\\\"event_location_normalized\\\"].combine_first(\\n        df[\\\"event_location\\\"]\\n    )\\n\\n    df[\\\"event_location\\\"] = df[\\\"event_location_normalized\\\"]\\n    return df.drop(columns=[\\\"event_location_normalized\\\"])\";\n                var nbb_cells = Jupyter.notebook.get_cells();\n                for (var i = 0; i < nbb_cells.length; ++i) {\n                    if (nbb_cells[i].input_prompt_number == nbb_cell_id) {\n                        if (nbb_cells[i].get_text() == nbb_unformatted_code) {\n                             nbb_cells[i].set_text(nbb_formatted_code);\n                        }\n                        break;\n                    }\n                }\n            }, 500);\n            ",
      "text/plain": [
       "<IPython.core.display.Javascript object>"
      ]
     },
     "metadata": {},
     "output_type": "display_data"
    }
   ],
   "source": [
    "def fix_inconsistent_location(df):\n",
    "    city_patterns = [\n",
    "        (\n",
    "            df[\"event_location\"].str.contains(\"Abu Dhabi\", case=False),\n",
    "            \"Abu Dhabi, United Arab Emirates\",\n",
    "        ),\n",
    "        (\n",
    "            df[\"event_location\"].str.contains(\"Sao Paulo\", case=False),\n",
    "            \"Sao Paulo, Brazil\",\n",
    "        ),\n",
    "        (\n",
    "            df[\"event_location\"].str.contains(\"Rio de Janeiro\", case=False),\n",
    "            \"Rio de Janeiro, Brazil\",\n",
    "        ),\n",
    "        (\n",
    "            df[\"event_location\"].str.contains(\"Berlin\", case=False),\n",
    "            \"Berlin, Germany\",\n",
    "        ),\n",
    "        (\n",
    "            df[\"event_location\"].str.contains(\"Saitama\", case=False),\n",
    "            \"Saitama, Japan\",\n",
    "        ),\n",
    "    ]\n",
    "\n",
    "    city_criteria, city_values = zip(*city_patterns)\n",
    "    df[\"event_location_normalized\"] = np.select(city_criteria, city_values, None)\n",
    "    # Replace \"None\" values with original position\n",
    "    df[\"event_location_normalized\"] = df[\"event_location_normalized\"].combine_first(\n",
    "        df[\"event_location\"]\n",
    "    )\n",
    "\n",
    "    df[\"event_location\"] = df[\"event_location_normalized\"]\n",
    "    return df.drop(columns=['event_location_normalized'])\n"
   ]
  },
  {
   "cell_type": "code",
   "execution_count": 12,
   "metadata": {},
   "outputs": [
    {
     "data": {
      "application/javascript": "\n            setTimeout(function() {\n                var nbb_cell_id = 12;\n                var nbb_unformatted_code = \"df_events = fix_inconsistent_location(df_events)\";\n                var nbb_formatted_code = \"df_events = fix_inconsistent_location(df_events)\";\n                var nbb_cells = Jupyter.notebook.get_cells();\n                for (var i = 0; i < nbb_cells.length; ++i) {\n                    if (nbb_cells[i].input_prompt_number == nbb_cell_id) {\n                        if (nbb_cells[i].get_text() == nbb_unformatted_code) {\n                             nbb_cells[i].set_text(nbb_formatted_code);\n                        }\n                        break;\n                    }\n                }\n            }, 500);\n            ",
      "text/plain": [
       "<IPython.core.display.Javascript object>"
      ]
     },
     "metadata": {},
     "output_type": "display_data"
    }
   ],
   "source": [
    "df_events = fix_inconsistent_location(df_events)"
   ]
  },
  {
   "cell_type": "markdown",
   "metadata": {},
   "source": [
    "### Merge main dataframe with df_city to have latitude and longitude fo event_location"
   ]
  },
  {
   "cell_type": "code",
   "execution_count": 13,
   "metadata": {},
   "outputs": [
    {
     "data": {
      "application/javascript": "\n            setTimeout(function() {\n                var nbb_cell_id = 13;\n                var nbb_unformatted_code = \"df_events_merged=pd.merge(df_events, df_city, how='left', on='event_location').drop_duplicates(subset='event_name')\";\n                var nbb_formatted_code = \"df_events_merged = pd.merge(\\n    df_events, df_city, how=\\\"left\\\", on=\\\"event_location\\\"\\n).drop_duplicates(subset=\\\"event_name\\\")\";\n                var nbb_cells = Jupyter.notebook.get_cells();\n                for (var i = 0; i < nbb_cells.length; ++i) {\n                    if (nbb_cells[i].input_prompt_number == nbb_cell_id) {\n                        if (nbb_cells[i].get_text() == nbb_unformatted_code) {\n                             nbb_cells[i].set_text(nbb_formatted_code);\n                        }\n                        break;\n                    }\n                }\n            }, 500);\n            ",
      "text/plain": [
       "<IPython.core.display.Javascript object>"
      ]
     },
     "metadata": {},
     "output_type": "display_data"
    }
   ],
   "source": [
    "df_events_merged=pd.merge(df_events, df_city, how='left', on='event_location').drop_duplicates(subset='event_name')"
   ]
  },
  {
   "cell_type": "markdown",
   "metadata": {},
   "source": [
    "### Check null values"
   ]
  },
  {
   "cell_type": "code",
   "execution_count": 18,
   "metadata": {},
   "outputs": [
    {
     "data": {
      "text/plain": [
       "fighter_1           0\n",
       "fighter_2           0\n",
       "fighter_1_kd       21\n",
       "fighter_2_kd       21\n",
       "fighter_1_str      21\n",
       "fighter_2_str      21\n",
       "fighter_1_td       21\n",
       "fighter_2_td       21\n",
       "fighter_1_sub      21\n",
       "fighter_2_sub      21\n",
       "weigh_class         0\n",
       "method              0\n",
       "method_detail    3200\n",
       "round               0\n",
       "time                0\n",
       "closure             0\n",
       "is_main_event       0\n",
       "event_name          0\n",
       "dtype: int64"
      ]
     },
     "execution_count": 18,
     "metadata": {},
     "output_type": "execute_result"
    },
    {
     "data": {
      "application/javascript": "\n            setTimeout(function() {\n                var nbb_cell_id = 18;\n                var nbb_unformatted_code = \"df_fights.isna().sum()\";\n                var nbb_formatted_code = \"df_fights.isna().sum()\";\n                var nbb_cells = Jupyter.notebook.get_cells();\n                for (var i = 0; i < nbb_cells.length; ++i) {\n                    if (nbb_cells[i].input_prompt_number == nbb_cell_id) {\n                        if (nbb_cells[i].get_text() == nbb_unformatted_code) {\n                             nbb_cells[i].set_text(nbb_formatted_code);\n                        }\n                        break;\n                    }\n                }\n            }, 500);\n            ",
      "text/plain": [
       "<IPython.core.display.Javascript object>"
      ]
     },
     "metadata": {},
     "output_type": "display_data"
    }
   ],
   "source": [
    "df_fights.isna().sum()"
   ]
  },
  {
   "cell_type": "markdown",
   "metadata": {},
   "source": [
    "We can see there are 3200 fights that do not have method_detail. Also, there are 21 fights that do not have strikes, knockdowns, takedowns and submissions data. Let's see if we should keep those fights in the dataset."
   ]
  },
  {
   "cell_type": "code",
   "execution_count": 28,
   "metadata": {},
   "outputs": [
    {
     "data": {
      "text/html": [
       "<div>\n",
       "<style scoped>\n",
       "    .dataframe tbody tr th:only-of-type {\n",
       "        vertical-align: middle;\n",
       "    }\n",
       "\n",
       "    .dataframe tbody tr th {\n",
       "        vertical-align: top;\n",
       "    }\n",
       "\n",
       "    .dataframe thead th {\n",
       "        text-align: right;\n",
       "    }\n",
       "</style>\n",
       "<table border=\"1\" class=\"dataframe\">\n",
       "  <thead>\n",
       "    <tr style=\"text-align: right;\">\n",
       "      <th></th>\n",
       "      <th>fighter_1</th>\n",
       "      <th>fighter_2</th>\n",
       "      <th>fighter_1_kd</th>\n",
       "      <th>fighter_2_kd</th>\n",
       "      <th>fighter_1_str</th>\n",
       "      <th>fighter_2_str</th>\n",
       "      <th>fighter_1_td</th>\n",
       "      <th>fighter_2_td</th>\n",
       "      <th>fighter_1_sub</th>\n",
       "      <th>fighter_2_sub</th>\n",
       "      <th>weigh_class</th>\n",
       "      <th>method</th>\n",
       "      <th>method_detail</th>\n",
       "      <th>round</th>\n",
       "      <th>time</th>\n",
       "      <th>closure</th>\n",
       "      <th>is_main_event</th>\n",
       "      <th>event_name</th>\n",
       "    </tr>\n",
       "  </thead>\n",
       "  <tbody>\n",
       "    <tr>\n",
       "      <th>307</th>\n",
       "      <td>Marcus Bossett</td>\n",
       "      <td>Eldo Xavier Dias</td>\n",
       "      <td>NaN</td>\n",
       "      <td>NaN</td>\n",
       "      <td>NaN</td>\n",
       "      <td>NaN</td>\n",
       "      <td>NaN</td>\n",
       "      <td>NaN</td>\n",
       "      <td>NaN</td>\n",
       "      <td>NaN</td>\n",
       "      <td>Open Weight</td>\n",
       "      <td>KO/TKO</td>\n",
       "      <td>None</td>\n",
       "      <td>1</td>\n",
       "      <td>4:55</td>\n",
       "      <td>win</td>\n",
       "      <td>False</td>\n",
       "      <td>UFC 4: Revenge of the Warriors</td>\n",
       "    </tr>\n",
       "    <tr>\n",
       "      <th>308</th>\n",
       "      <td>Joe Charles</td>\n",
       "      <td>Kevin Rosier</td>\n",
       "      <td>NaN</td>\n",
       "      <td>NaN</td>\n",
       "      <td>NaN</td>\n",
       "      <td>NaN</td>\n",
       "      <td>NaN</td>\n",
       "      <td>NaN</td>\n",
       "      <td>NaN</td>\n",
       "      <td>NaN</td>\n",
       "      <td>Open Weight</td>\n",
       "      <td>SUB</td>\n",
       "      <td>Armbar</td>\n",
       "      <td>1</td>\n",
       "      <td>0:14</td>\n",
       "      <td>win</td>\n",
       "      <td>False</td>\n",
       "      <td>UFC 4: Revenge of the Warriors</td>\n",
       "    </tr>\n",
       "    <tr>\n",
       "      <th>327</th>\n",
       "      <td>Anthony Macias</td>\n",
       "      <td>He-Man Gipson</td>\n",
       "      <td>NaN</td>\n",
       "      <td>NaN</td>\n",
       "      <td>NaN</td>\n",
       "      <td>NaN</td>\n",
       "      <td>NaN</td>\n",
       "      <td>NaN</td>\n",
       "      <td>NaN</td>\n",
       "      <td>NaN</td>\n",
       "      <td>Open Weight</td>\n",
       "      <td>KO/TKO</td>\n",
       "      <td>Headbutts</td>\n",
       "      <td>1</td>\n",
       "      <td>3:06</td>\n",
       "      <td>win</td>\n",
       "      <td>False</td>\n",
       "      <td>UFC 6: Clash of the Titans</td>\n",
       "    </tr>\n",
       "    <tr>\n",
       "      <th>328</th>\n",
       "      <td>Joel Sutton</td>\n",
       "      <td>Jack McGlaughlin</td>\n",
       "      <td>NaN</td>\n",
       "      <td>NaN</td>\n",
       "      <td>NaN</td>\n",
       "      <td>NaN</td>\n",
       "      <td>NaN</td>\n",
       "      <td>NaN</td>\n",
       "      <td>NaN</td>\n",
       "      <td>NaN</td>\n",
       "      <td>Open Weight</td>\n",
       "      <td>KO/TKO</td>\n",
       "      <td>Punches</td>\n",
       "      <td>1</td>\n",
       "      <td>2:01</td>\n",
       "      <td>win</td>\n",
       "      <td>False</td>\n",
       "      <td>UFC 6: Clash of the Titans</td>\n",
       "    </tr>\n",
       "    <tr>\n",
       "      <th>338</th>\n",
       "      <td>Onassis Parungao</td>\n",
       "      <td>Francesco Maturi</td>\n",
       "      <td>NaN</td>\n",
       "      <td>NaN</td>\n",
       "      <td>NaN</td>\n",
       "      <td>NaN</td>\n",
       "      <td>NaN</td>\n",
       "      <td>NaN</td>\n",
       "      <td>NaN</td>\n",
       "      <td>NaN</td>\n",
       "      <td>Open Weight</td>\n",
       "      <td>KO/TKO</td>\n",
       "      <td>None</td>\n",
       "      <td>1</td>\n",
       "      <td>5:26</td>\n",
       "      <td>win</td>\n",
       "      <td>False</td>\n",
       "      <td>UFC 7: The Brawl in Buffalo</td>\n",
       "    </tr>\n",
       "    <tr>\n",
       "      <th>339</th>\n",
       "      <td>Joel Sutton</td>\n",
       "      <td>Geza Kalman</td>\n",
       "      <td>NaN</td>\n",
       "      <td>NaN</td>\n",
       "      <td>NaN</td>\n",
       "      <td>NaN</td>\n",
       "      <td>NaN</td>\n",
       "      <td>NaN</td>\n",
       "      <td>NaN</td>\n",
       "      <td>NaN</td>\n",
       "      <td>Open Weight</td>\n",
       "      <td>KO/TKO</td>\n",
       "      <td>None</td>\n",
       "      <td>1</td>\n",
       "      <td>0:48</td>\n",
       "      <td>win</td>\n",
       "      <td>False</td>\n",
       "      <td>UFC 7: The Brawl in Buffalo</td>\n",
       "    </tr>\n",
       "    <tr>\n",
       "      <th>347</th>\n",
       "      <td>Mark Hall</td>\n",
       "      <td>Trent Jenkins</td>\n",
       "      <td>NaN</td>\n",
       "      <td>NaN</td>\n",
       "      <td>NaN</td>\n",
       "      <td>NaN</td>\n",
       "      <td>NaN</td>\n",
       "      <td>NaN</td>\n",
       "      <td>NaN</td>\n",
       "      <td>NaN</td>\n",
       "      <td>Open Weight</td>\n",
       "      <td>SUB</td>\n",
       "      <td>None</td>\n",
       "      <td>1</td>\n",
       "      <td>5:29</td>\n",
       "      <td>win</td>\n",
       "      <td>False</td>\n",
       "      <td>UFC - Ultimate Ultimate '95</td>\n",
       "    </tr>\n",
       "    <tr>\n",
       "      <th>348</th>\n",
       "      <td>Joe Charles</td>\n",
       "      <td>Scott Bessac</td>\n",
       "      <td>NaN</td>\n",
       "      <td>NaN</td>\n",
       "      <td>NaN</td>\n",
       "      <td>NaN</td>\n",
       "      <td>NaN</td>\n",
       "      <td>NaN</td>\n",
       "      <td>NaN</td>\n",
       "      <td>NaN</td>\n",
       "      <td>Open Weight</td>\n",
       "      <td>SUB</td>\n",
       "      <td>Armbar</td>\n",
       "      <td>1</td>\n",
       "      <td>4:38</td>\n",
       "      <td>win</td>\n",
       "      <td>False</td>\n",
       "      <td>UFC - Ultimate Ultimate '95</td>\n",
       "    </tr>\n",
       "    <tr>\n",
       "      <th>357</th>\n",
       "      <td>Sam Adkins</td>\n",
       "      <td>Keith Mielke</td>\n",
       "      <td>NaN</td>\n",
       "      <td>NaN</td>\n",
       "      <td>NaN</td>\n",
       "      <td>NaN</td>\n",
       "      <td>NaN</td>\n",
       "      <td>NaN</td>\n",
       "      <td>NaN</td>\n",
       "      <td>NaN</td>\n",
       "      <td>Open Weight</td>\n",
       "      <td>KO/TKO</td>\n",
       "      <td>Punches</td>\n",
       "      <td>1</td>\n",
       "      <td>0:50</td>\n",
       "      <td>win</td>\n",
       "      <td>False</td>\n",
       "      <td>UFC 8: David vs Goliath</td>\n",
       "    </tr>\n",
       "    <tr>\n",
       "      <th>372</th>\n",
       "      <td>Sam Adkins</td>\n",
       "      <td>Felix Lee Mitchell</td>\n",
       "      <td>NaN</td>\n",
       "      <td>NaN</td>\n",
       "      <td>NaN</td>\n",
       "      <td>NaN</td>\n",
       "      <td>NaN</td>\n",
       "      <td>NaN</td>\n",
       "      <td>NaN</td>\n",
       "      <td>NaN</td>\n",
       "      <td>Open Weight</td>\n",
       "      <td>U-DEC</td>\n",
       "      <td>None</td>\n",
       "      <td>2</td>\n",
       "      <td>3:00</td>\n",
       "      <td>win</td>\n",
       "      <td>False</td>\n",
       "      <td>UFC 10: The Tournament</td>\n",
       "    </tr>\n",
       "    <tr>\n",
       "      <th>380</th>\n",
       "      <td>Roberto Traven</td>\n",
       "      <td>Dave Berry</td>\n",
       "      <td>NaN</td>\n",
       "      <td>NaN</td>\n",
       "      <td>NaN</td>\n",
       "      <td>NaN</td>\n",
       "      <td>NaN</td>\n",
       "      <td>NaN</td>\n",
       "      <td>NaN</td>\n",
       "      <td>NaN</td>\n",
       "      <td>Open Weight</td>\n",
       "      <td>KO/TKO</td>\n",
       "      <td>Punches</td>\n",
       "      <td>1</td>\n",
       "      <td>1:33</td>\n",
       "      <td>win</td>\n",
       "      <td>False</td>\n",
       "      <td>UFC 11: The Proving Ground</td>\n",
       "    </tr>\n",
       "    <tr>\n",
       "      <th>381</th>\n",
       "      <td>Scott Ferrozzo</td>\n",
       "      <td>Sam Fulton</td>\n",
       "      <td>NaN</td>\n",
       "      <td>NaN</td>\n",
       "      <td>NaN</td>\n",
       "      <td>NaN</td>\n",
       "      <td>NaN</td>\n",
       "      <td>NaN</td>\n",
       "      <td>NaN</td>\n",
       "      <td>NaN</td>\n",
       "      <td>Open Weight</td>\n",
       "      <td>SUB</td>\n",
       "      <td>Injury</td>\n",
       "      <td>1</td>\n",
       "      <td>1:45</td>\n",
       "      <td>win</td>\n",
       "      <td>False</td>\n",
       "      <td>UFC 11: The Proving Ground</td>\n",
       "    </tr>\n",
       "    <tr>\n",
       "      <th>389</th>\n",
       "      <td>Tai Bowden</td>\n",
       "      <td>Jack Nilson</td>\n",
       "      <td>NaN</td>\n",
       "      <td>NaN</td>\n",
       "      <td>NaN</td>\n",
       "      <td>NaN</td>\n",
       "      <td>NaN</td>\n",
       "      <td>NaN</td>\n",
       "      <td>NaN</td>\n",
       "      <td>NaN</td>\n",
       "      <td>Open Weight</td>\n",
       "      <td>KO/TKO</td>\n",
       "      <td>Headbutts</td>\n",
       "      <td>1</td>\n",
       "      <td>4:46</td>\n",
       "      <td>win</td>\n",
       "      <td>False</td>\n",
       "      <td>UFC - Ultimate Ultimate '96</td>\n",
       "    </tr>\n",
       "    <tr>\n",
       "      <th>390</th>\n",
       "      <td>Steve Nelmark</td>\n",
       "      <td>Marcus Bossett</td>\n",
       "      <td>NaN</td>\n",
       "      <td>NaN</td>\n",
       "      <td>NaN</td>\n",
       "      <td>NaN</td>\n",
       "      <td>NaN</td>\n",
       "      <td>NaN</td>\n",
       "      <td>NaN</td>\n",
       "      <td>NaN</td>\n",
       "      <td>Open Weight</td>\n",
       "      <td>SUB</td>\n",
       "      <td>Shoulder Choke</td>\n",
       "      <td>1</td>\n",
       "      <td>1:37</td>\n",
       "      <td>win</td>\n",
       "      <td>False</td>\n",
       "      <td>UFC - Ultimate Ultimate '96</td>\n",
       "    </tr>\n",
       "    <tr>\n",
       "      <th>391</th>\n",
       "      <td>Mark Hall</td>\n",
       "      <td>Felix Lee Mitchell</td>\n",
       "      <td>NaN</td>\n",
       "      <td>NaN</td>\n",
       "      <td>NaN</td>\n",
       "      <td>NaN</td>\n",
       "      <td>NaN</td>\n",
       "      <td>NaN</td>\n",
       "      <td>NaN</td>\n",
       "      <td>NaN</td>\n",
       "      <td>Open Weight</td>\n",
       "      <td>KO/TKO</td>\n",
       "      <td>None</td>\n",
       "      <td>1</td>\n",
       "      <td>1:45</td>\n",
       "      <td>win</td>\n",
       "      <td>False</td>\n",
       "      <td>UFC - Ultimate Ultimate '96</td>\n",
       "    </tr>\n",
       "    <tr>\n",
       "      <th>399</th>\n",
       "      <td>Justin Martin</td>\n",
       "      <td>Eric Martin</td>\n",
       "      <td>NaN</td>\n",
       "      <td>NaN</td>\n",
       "      <td>NaN</td>\n",
       "      <td>NaN</td>\n",
       "      <td>NaN</td>\n",
       "      <td>NaN</td>\n",
       "      <td>NaN</td>\n",
       "      <td>NaN</td>\n",
       "      <td>Heavyweight</td>\n",
       "      <td>SUB</td>\n",
       "      <td>Heel Hook</td>\n",
       "      <td>1</td>\n",
       "      <td>0:14</td>\n",
       "      <td>win</td>\n",
       "      <td>False</td>\n",
       "      <td>UFC 12: Judgement Day</td>\n",
       "    </tr>\n",
       "    <tr>\n",
       "      <th>400</th>\n",
       "      <td>Nick Sanzo</td>\n",
       "      <td>Jackie Lee</td>\n",
       "      <td>NaN</td>\n",
       "      <td>NaN</td>\n",
       "      <td>NaN</td>\n",
       "      <td>NaN</td>\n",
       "      <td>NaN</td>\n",
       "      <td>NaN</td>\n",
       "      <td>NaN</td>\n",
       "      <td>NaN</td>\n",
       "      <td>Lightweight</td>\n",
       "      <td>KO/TKO</td>\n",
       "      <td>None</td>\n",
       "      <td>1</td>\n",
       "      <td>0:48</td>\n",
       "      <td>win</td>\n",
       "      <td>False</td>\n",
       "      <td>UFC 12: Judgement Day</td>\n",
       "    </tr>\n",
       "    <tr>\n",
       "      <th>439</th>\n",
       "      <td>Chris Brennan</td>\n",
       "      <td>Courtney Turner</td>\n",
       "      <td>NaN</td>\n",
       "      <td>NaN</td>\n",
       "      <td>NaN</td>\n",
       "      <td>NaN</td>\n",
       "      <td>NaN</td>\n",
       "      <td>NaN</td>\n",
       "      <td>NaN</td>\n",
       "      <td>NaN</td>\n",
       "      <td>Lightweight</td>\n",
       "      <td>SUB</td>\n",
       "      <td>Armbar</td>\n",
       "      <td>1</td>\n",
       "      <td>1:20</td>\n",
       "      <td>win</td>\n",
       "      <td>False</td>\n",
       "      <td>UFC 16: Battle in the Bayou</td>\n",
       "    </tr>\n",
       "    <tr>\n",
       "      <th>440</th>\n",
       "      <td>Laverne Clark</td>\n",
       "      <td>Josh Stuart</td>\n",
       "      <td>NaN</td>\n",
       "      <td>NaN</td>\n",
       "      <td>NaN</td>\n",
       "      <td>NaN</td>\n",
       "      <td>NaN</td>\n",
       "      <td>NaN</td>\n",
       "      <td>NaN</td>\n",
       "      <td>NaN</td>\n",
       "      <td>Lightweight</td>\n",
       "      <td>KO/TKO</td>\n",
       "      <td>None</td>\n",
       "      <td>1</td>\n",
       "      <td>1:15</td>\n",
       "      <td>win</td>\n",
       "      <td>False</td>\n",
       "      <td>UFC 16: Battle in the Bayou</td>\n",
       "    </tr>\n",
       "    <tr>\n",
       "      <th>448</th>\n",
       "      <td>Andre Roberts</td>\n",
       "      <td>Harry Moskowitz</td>\n",
       "      <td>NaN</td>\n",
       "      <td>NaN</td>\n",
       "      <td>NaN</td>\n",
       "      <td>NaN</td>\n",
       "      <td>NaN</td>\n",
       "      <td>NaN</td>\n",
       "      <td>NaN</td>\n",
       "      <td>NaN</td>\n",
       "      <td>Heavyweight</td>\n",
       "      <td>U-DEC</td>\n",
       "      <td>None</td>\n",
       "      <td>2</td>\n",
       "      <td>3:00</td>\n",
       "      <td>win</td>\n",
       "      <td>False</td>\n",
       "      <td>UFC 17: Redemption</td>\n",
       "    </tr>\n",
       "    <tr>\n",
       "      <th>457</th>\n",
       "      <td>Cesar Marscucci</td>\n",
       "      <td>Paulo Santos</td>\n",
       "      <td>NaN</td>\n",
       "      <td>NaN</td>\n",
       "      <td>NaN</td>\n",
       "      <td>NaN</td>\n",
       "      <td>NaN</td>\n",
       "      <td>NaN</td>\n",
       "      <td>NaN</td>\n",
       "      <td>NaN</td>\n",
       "      <td>Lightweight</td>\n",
       "      <td>KO/TKO</td>\n",
       "      <td>None</td>\n",
       "      <td>1</td>\n",
       "      <td>10:27</td>\n",
       "      <td>win</td>\n",
       "      <td>False</td>\n",
       "      <td>UFC - Ultimate Brazil</td>\n",
       "    </tr>\n",
       "  </tbody>\n",
       "</table>\n",
       "</div>"
      ],
      "text/plain": [
       "            fighter_1           fighter_2  fighter_1_kd  fighter_2_kd  \\\n",
       "307    Marcus Bossett    Eldo Xavier Dias           NaN           NaN   \n",
       "308       Joe Charles        Kevin Rosier           NaN           NaN   \n",
       "327    Anthony Macias       He-Man Gipson           NaN           NaN   \n",
       "328       Joel Sutton    Jack McGlaughlin           NaN           NaN   \n",
       "338  Onassis Parungao    Francesco Maturi           NaN           NaN   \n",
       "339       Joel Sutton         Geza Kalman           NaN           NaN   \n",
       "347         Mark Hall       Trent Jenkins           NaN           NaN   \n",
       "348       Joe Charles        Scott Bessac           NaN           NaN   \n",
       "357        Sam Adkins        Keith Mielke           NaN           NaN   \n",
       "372        Sam Adkins  Felix Lee Mitchell           NaN           NaN   \n",
       "380    Roberto Traven          Dave Berry           NaN           NaN   \n",
       "381    Scott Ferrozzo          Sam Fulton           NaN           NaN   \n",
       "389        Tai Bowden         Jack Nilson           NaN           NaN   \n",
       "390     Steve Nelmark      Marcus Bossett           NaN           NaN   \n",
       "391         Mark Hall  Felix Lee Mitchell           NaN           NaN   \n",
       "399     Justin Martin         Eric Martin           NaN           NaN   \n",
       "400        Nick Sanzo          Jackie Lee           NaN           NaN   \n",
       "439     Chris Brennan     Courtney Turner           NaN           NaN   \n",
       "440     Laverne Clark         Josh Stuart           NaN           NaN   \n",
       "448     Andre Roberts     Harry Moskowitz           NaN           NaN   \n",
       "457   Cesar Marscucci        Paulo Santos           NaN           NaN   \n",
       "\n",
       "     fighter_1_str  fighter_2_str  fighter_1_td  fighter_2_td  fighter_1_sub  \\\n",
       "307            NaN            NaN           NaN           NaN            NaN   \n",
       "308            NaN            NaN           NaN           NaN            NaN   \n",
       "327            NaN            NaN           NaN           NaN            NaN   \n",
       "328            NaN            NaN           NaN           NaN            NaN   \n",
       "338            NaN            NaN           NaN           NaN            NaN   \n",
       "339            NaN            NaN           NaN           NaN            NaN   \n",
       "347            NaN            NaN           NaN           NaN            NaN   \n",
       "348            NaN            NaN           NaN           NaN            NaN   \n",
       "357            NaN            NaN           NaN           NaN            NaN   \n",
       "372            NaN            NaN           NaN           NaN            NaN   \n",
       "380            NaN            NaN           NaN           NaN            NaN   \n",
       "381            NaN            NaN           NaN           NaN            NaN   \n",
       "389            NaN            NaN           NaN           NaN            NaN   \n",
       "390            NaN            NaN           NaN           NaN            NaN   \n",
       "391            NaN            NaN           NaN           NaN            NaN   \n",
       "399            NaN            NaN           NaN           NaN            NaN   \n",
       "400            NaN            NaN           NaN           NaN            NaN   \n",
       "439            NaN            NaN           NaN           NaN            NaN   \n",
       "440            NaN            NaN           NaN           NaN            NaN   \n",
       "448            NaN            NaN           NaN           NaN            NaN   \n",
       "457            NaN            NaN           NaN           NaN            NaN   \n",
       "\n",
       "     fighter_2_sub  weigh_class  method   method_detail  round   time closure  \\\n",
       "307            NaN  Open Weight  KO/TKO            None      1   4:55     win   \n",
       "308            NaN  Open Weight     SUB          Armbar      1   0:14     win   \n",
       "327            NaN  Open Weight  KO/TKO       Headbutts      1   3:06     win   \n",
       "328            NaN  Open Weight  KO/TKO         Punches      1   2:01     win   \n",
       "338            NaN  Open Weight  KO/TKO            None      1   5:26     win   \n",
       "339            NaN  Open Weight  KO/TKO            None      1   0:48     win   \n",
       "347            NaN  Open Weight     SUB            None      1   5:29     win   \n",
       "348            NaN  Open Weight     SUB          Armbar      1   4:38     win   \n",
       "357            NaN  Open Weight  KO/TKO         Punches      1   0:50     win   \n",
       "372            NaN  Open Weight   U-DEC            None      2   3:00     win   \n",
       "380            NaN  Open Weight  KO/TKO         Punches      1   1:33     win   \n",
       "381            NaN  Open Weight     SUB          Injury      1   1:45     win   \n",
       "389            NaN  Open Weight  KO/TKO       Headbutts      1   4:46     win   \n",
       "390            NaN  Open Weight     SUB  Shoulder Choke      1   1:37     win   \n",
       "391            NaN  Open Weight  KO/TKO            None      1   1:45     win   \n",
       "399            NaN  Heavyweight     SUB       Heel Hook      1   0:14     win   \n",
       "400            NaN  Lightweight  KO/TKO            None      1   0:48     win   \n",
       "439            NaN  Lightweight     SUB          Armbar      1   1:20     win   \n",
       "440            NaN  Lightweight  KO/TKO            None      1   1:15     win   \n",
       "448            NaN  Heavyweight   U-DEC            None      2   3:00     win   \n",
       "457            NaN  Lightweight  KO/TKO            None      1  10:27     win   \n",
       "\n",
       "     is_main_event                      event_name  \n",
       "307          False  UFC 4: Revenge of the Warriors  \n",
       "308          False  UFC 4: Revenge of the Warriors  \n",
       "327          False      UFC 6: Clash of the Titans  \n",
       "328          False      UFC 6: Clash of the Titans  \n",
       "338          False     UFC 7: The Brawl in Buffalo  \n",
       "339          False     UFC 7: The Brawl in Buffalo  \n",
       "347          False     UFC - Ultimate Ultimate '95  \n",
       "348          False     UFC - Ultimate Ultimate '95  \n",
       "357          False         UFC 8: David vs Goliath  \n",
       "372          False          UFC 10: The Tournament  \n",
       "380          False      UFC 11: The Proving Ground  \n",
       "381          False      UFC 11: The Proving Ground  \n",
       "389          False     UFC - Ultimate Ultimate '96  \n",
       "390          False     UFC - Ultimate Ultimate '96  \n",
       "391          False     UFC - Ultimate Ultimate '96  \n",
       "399          False           UFC 12: Judgement Day  \n",
       "400          False           UFC 12: Judgement Day  \n",
       "439          False     UFC 16: Battle in the Bayou  \n",
       "440          False     UFC 16: Battle in the Bayou  \n",
       "448          False              UFC 17: Redemption  \n",
       "457          False           UFC - Ultimate Brazil  "
      ]
     },
     "execution_count": 28,
     "metadata": {},
     "output_type": "execute_result"
    },
    {
     "data": {
      "application/javascript": "\n            setTimeout(function() {\n                var nbb_cell_id = 28;\n                var nbb_unformatted_code = \"df_fights[df_fights['fighter_1_kd'].isna()]\";\n                var nbb_formatted_code = \"df_fights[df_fights[\\\"fighter_1_kd\\\"].isna()]\";\n                var nbb_cells = Jupyter.notebook.get_cells();\n                for (var i = 0; i < nbb_cells.length; ++i) {\n                    if (nbb_cells[i].input_prompt_number == nbb_cell_id) {\n                        if (nbb_cells[i].get_text() == nbb_unformatted_code) {\n                             nbb_cells[i].set_text(nbb_formatted_code);\n                        }\n                        break;\n                    }\n                }\n            }, 500);\n            ",
      "text/plain": [
       "<IPython.core.display.Javascript object>"
      ]
     },
     "metadata": {},
     "output_type": "display_data"
    }
   ],
   "source": [
    "df_fights[df_fights['fighter_1_kd'].isna()]"
   ]
  },
  {
   "cell_type": "markdown",
   "metadata": {},
   "source": [
    "Although we have no data of what happened **during** those fights, there is data of how they ended, where they took place, etc. Therefore, I keep those 21 fights in the dataset."
   ]
  },
  {
   "cell_type": "markdown",
   "metadata": {},
   "source": [
    "### Save processed data to parquet files"
   ]
  },
  {
   "cell_type": "code",
   "execution_count": 19,
   "metadata": {},
   "outputs": [
    {
     "data": {
      "application/javascript": "\n            setTimeout(function() {\n                var nbb_cell_id = 19;\n                var nbb_unformatted_code = \"df_events_merged.to_parquet(path.data_processed_dir('events_processed.parquet'))\\ndf_fights.to_parquet(path.data_processed_dir('fights_processed.parquet'))\";\n                var nbb_formatted_code = \"df_events_merged.to_parquet(path.data_processed_dir(\\\"events_processed.parquet\\\"))\\ndf_fights.to_parquet(path.data_processed_dir(\\\"fights_processed.parquet\\\"))\";\n                var nbb_cells = Jupyter.notebook.get_cells();\n                for (var i = 0; i < nbb_cells.length; ++i) {\n                    if (nbb_cells[i].input_prompt_number == nbb_cell_id) {\n                        if (nbb_cells[i].get_text() == nbb_unformatted_code) {\n                             nbb_cells[i].set_text(nbb_formatted_code);\n                        }\n                        break;\n                    }\n                }\n            }, 500);\n            ",
      "text/plain": [
       "<IPython.core.display.Javascript object>"
      ]
     },
     "metadata": {},
     "output_type": "display_data"
    }
   ],
   "source": [
    "df_events_merged.to_parquet(path.data_processed_dir('events_processed.parquet'))\n",
    "df_fights.to_parquet(path.data_processed_dir('fights_processed.parquet'))"
   ]
  }
 ],
 "metadata": {
  "interpreter": {
   "hash": "b20d1665b33d1855b683b279539253598a6d0651249ff0d32f3ef8ad88191b54"
  },
  "kernelspec": {
   "display_name": "Python 3.9.10 ('ufc_events_eda')",
   "language": "python",
   "name": "python3"
  },
  "language_info": {
   "codemirror_mode": {
    "name": "ipython",
    "version": 3
   },
   "file_extension": ".py",
   "mimetype": "text/x-python",
   "name": "python",
   "nbconvert_exporter": "python",
   "pygments_lexer": "ipython3",
   "version": "3.9.10"
  },
  "orig_nbformat": 4
 },
 "nbformat": 4,
 "nbformat_minor": 2
}
