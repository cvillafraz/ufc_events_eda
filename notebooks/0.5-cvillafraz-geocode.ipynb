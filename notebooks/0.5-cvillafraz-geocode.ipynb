{
 "cells": [
  {
   "cell_type": "code",
   "execution_count": 1,
   "metadata": {},
   "outputs": [
    {
     "data": {
      "application/javascript": "\n            setTimeout(function() {\n                var nbb_cell_id = 1;\n                var nbb_unformatted_code = \"%load_ext nb_black\\n%load_ext autoreload\\n%autoreload 2\";\n                var nbb_formatted_code = \"%load_ext nb_black\\n%load_ext autoreload\\n%autoreload 2\";\n                var nbb_cells = Jupyter.notebook.get_cells();\n                for (var i = 0; i < nbb_cells.length; ++i) {\n                    if (nbb_cells[i].input_prompt_number == nbb_cell_id) {\n                        if (nbb_cells[i].get_text() == nbb_unformatted_code) {\n                             nbb_cells[i].set_text(nbb_formatted_code);\n                        }\n                        break;\n                    }\n                }\n            }, 500);\n            ",
      "text/plain": [
       "<IPython.core.display.Javascript object>"
      ]
     },
     "metadata": {},
     "output_type": "display_data"
    }
   ],
   "source": [
    "%load_ext nb_black\n",
    "%load_ext autoreload\n",
    "%autoreload 2"
   ]
  },
  {
   "cell_type": "code",
   "execution_count": 4,
   "metadata": {},
   "outputs": [
    {
     "data": {
      "application/javascript": "\n            setTimeout(function() {\n                var nbb_cell_id = 4;\n                var nbb_unformatted_code = \"import json\\nimport ufc_events_eda.utils.paths as path\\nfrom ufc_events_eda.data.parse_json import parse_json\\nimport pandas as pd\\nimport numpy as np\\nfrom geopy.geocoders import Nominatim\";\n                var nbb_formatted_code = \"import json\\nimport ufc_events_eda.utils.paths as path\\nfrom ufc_events_eda.data.parse_json import parse_json\\nimport pandas as pd\\nimport numpy as np\\nfrom geopy.geocoders import Nominatim\";\n                var nbb_cells = Jupyter.notebook.get_cells();\n                for (var i = 0; i < nbb_cells.length; ++i) {\n                    if (nbb_cells[i].input_prompt_number == nbb_cell_id) {\n                        if (nbb_cells[i].get_text() == nbb_unformatted_code) {\n                             nbb_cells[i].set_text(nbb_formatted_code);\n                        }\n                        break;\n                    }\n                }\n            }, 500);\n            ",
      "text/plain": [
       "<IPython.core.display.Javascript object>"
      ]
     },
     "metadata": {},
     "output_type": "display_data"
    }
   ],
   "source": [
    "import json\n",
    "import ufc_events_eda.utils.paths as path\n",
    "from ufc_events_eda.data.parse_json import parse_json\n",
    "import pandas as pd\n",
    "import numpy as np\n",
    "from geopy.geocoders import Nominatim"
   ]
  },
  {
   "cell_type": "code",
   "execution_count": 5,
   "metadata": {},
   "outputs": [
    {
     "data": {
      "text/html": [
       "<div>\n",
       "<style scoped>\n",
       "    .dataframe tbody tr th:only-of-type {\n",
       "        vertical-align: middle;\n",
       "    }\n",
       "\n",
       "    .dataframe tbody tr th {\n",
       "        vertical-align: top;\n",
       "    }\n",
       "\n",
       "    .dataframe thead th {\n",
       "        text-align: right;\n",
       "    }\n",
       "</style>\n",
       "<table border=\"1\" class=\"dataframe\">\n",
       "  <thead>\n",
       "    <tr style=\"text-align: right;\">\n",
       "      <th></th>\n",
       "      <th>fighter_1</th>\n",
       "      <th>fighter_2</th>\n",
       "      <th>fighter_1_kd</th>\n",
       "      <th>fighter_2_kd</th>\n",
       "      <th>fighter_1_str</th>\n",
       "      <th>fighter_2_str</th>\n",
       "      <th>fighter_1_td</th>\n",
       "      <th>fighter_2_td</th>\n",
       "      <th>fighter_1_sub</th>\n",
       "      <th>fighter_2_sub</th>\n",
       "      <th>weigh_class</th>\n",
       "      <th>method</th>\n",
       "      <th>method_detail</th>\n",
       "      <th>round</th>\n",
       "      <th>time</th>\n",
       "      <th>closure</th>\n",
       "      <th>is_main_event</th>\n",
       "      <th>event_name</th>\n",
       "      <th>event_date</th>\n",
       "      <th>event_location</th>\n",
       "    </tr>\n",
       "  </thead>\n",
       "  <tbody>\n",
       "    <tr>\n",
       "      <th>0</th>\n",
       "      <td>Israel Adesanya</td>\n",
       "      <td>Marvin Vettori</td>\n",
       "      <td>0</td>\n",
       "      <td>0</td>\n",
       "      <td>96</td>\n",
       "      <td>58</td>\n",
       "      <td>0</td>\n",
       "      <td>4</td>\n",
       "      <td>0</td>\n",
       "      <td>0</td>\n",
       "      <td>Middleweight</td>\n",
       "      <td>U-DEC</td>\n",
       "      <td>None</td>\n",
       "      <td>5</td>\n",
       "      <td>5:00</td>\n",
       "      <td>win</td>\n",
       "      <td>True</td>\n",
       "      <td>UFC 263: Adesanya vs. Vettori 2</td>\n",
       "      <td>June 12, 2021</td>\n",
       "      <td>Glendale, Arizona, USA</td>\n",
       "    </tr>\n",
       "    <tr>\n",
       "      <th>1</th>\n",
       "      <td>Brandon Moreno</td>\n",
       "      <td>Deiveson Figueiredo</td>\n",
       "      <td>1</td>\n",
       "      <td>0</td>\n",
       "      <td>47</td>\n",
       "      <td>24</td>\n",
       "      <td>2</td>\n",
       "      <td>1</td>\n",
       "      <td>2</td>\n",
       "      <td>0</td>\n",
       "      <td>Flyweight</td>\n",
       "      <td>SUB</td>\n",
       "      <td>Rear Naked Choke</td>\n",
       "      <td>3</td>\n",
       "      <td>2:26</td>\n",
       "      <td>win</td>\n",
       "      <td>False</td>\n",
       "      <td>UFC 263: Adesanya vs. Vettori 2</td>\n",
       "      <td>June 12, 2021</td>\n",
       "      <td>Glendale, Arizona, USA</td>\n",
       "    </tr>\n",
       "    <tr>\n",
       "      <th>2</th>\n",
       "      <td>Leon Edwards</td>\n",
       "      <td>Nate Diaz</td>\n",
       "      <td>0</td>\n",
       "      <td>0</td>\n",
       "      <td>77</td>\n",
       "      <td>76</td>\n",
       "      <td>4</td>\n",
       "      <td>0</td>\n",
       "      <td>0</td>\n",
       "      <td>0</td>\n",
       "      <td>Welterweight</td>\n",
       "      <td>U-DEC</td>\n",
       "      <td>None</td>\n",
       "      <td>5</td>\n",
       "      <td>5:00</td>\n",
       "      <td>win</td>\n",
       "      <td>False</td>\n",
       "      <td>UFC 263: Adesanya vs. Vettori 2</td>\n",
       "      <td>June 12, 2021</td>\n",
       "      <td>Glendale, Arizona, USA</td>\n",
       "    </tr>\n",
       "    <tr>\n",
       "      <th>3</th>\n",
       "      <td>Belal Muhammad</td>\n",
       "      <td>Demian Maia</td>\n",
       "      <td>0</td>\n",
       "      <td>0</td>\n",
       "      <td>45</td>\n",
       "      <td>21</td>\n",
       "      <td>0</td>\n",
       "      <td>1</td>\n",
       "      <td>0</td>\n",
       "      <td>0</td>\n",
       "      <td>Welterweight</td>\n",
       "      <td>U-DEC</td>\n",
       "      <td>None</td>\n",
       "      <td>3</td>\n",
       "      <td>5:00</td>\n",
       "      <td>win</td>\n",
       "      <td>False</td>\n",
       "      <td>UFC 263: Adesanya vs. Vettori 2</td>\n",
       "      <td>June 12, 2021</td>\n",
       "      <td>Glendale, Arizona, USA</td>\n",
       "    </tr>\n",
       "    <tr>\n",
       "      <th>4</th>\n",
       "      <td>Paul Craig</td>\n",
       "      <td>Jamahal Hill</td>\n",
       "      <td>0</td>\n",
       "      <td>0</td>\n",
       "      <td>23</td>\n",
       "      <td>1</td>\n",
       "      <td>0</td>\n",
       "      <td>0</td>\n",
       "      <td>3</td>\n",
       "      <td>0</td>\n",
       "      <td>Light Heavyweight</td>\n",
       "      <td>KO/TKO</td>\n",
       "      <td>Punches</td>\n",
       "      <td>1</td>\n",
       "      <td>1:59</td>\n",
       "      <td>win</td>\n",
       "      <td>False</td>\n",
       "      <td>UFC 263: Adesanya vs. Vettori 2</td>\n",
       "      <td>June 12, 2021</td>\n",
       "      <td>Glendale, Arizona, USA</td>\n",
       "    </tr>\n",
       "  </tbody>\n",
       "</table>\n",
       "</div>"
      ],
      "text/plain": [
       "         fighter_1            fighter_2 fighter_1_kd fighter_2_kd  \\\n",
       "0  Israel Adesanya       Marvin Vettori            0            0   \n",
       "1   Brandon Moreno  Deiveson Figueiredo            1            0   \n",
       "2     Leon Edwards            Nate Diaz            0            0   \n",
       "3   Belal Muhammad          Demian Maia            0            0   \n",
       "4       Paul Craig         Jamahal Hill            0            0   \n",
       "\n",
       "  fighter_1_str fighter_2_str fighter_1_td fighter_2_td fighter_1_sub  \\\n",
       "0            96            58            0            4             0   \n",
       "1            47            24            2            1             2   \n",
       "2            77            76            4            0             0   \n",
       "3            45            21            0            1             0   \n",
       "4            23             1            0            0             3   \n",
       "\n",
       "  fighter_2_sub        weigh_class  method     method_detail round  time  \\\n",
       "0             0       Middleweight   U-DEC              None     5  5:00   \n",
       "1             0          Flyweight     SUB  Rear Naked Choke     3  2:26   \n",
       "2             0       Welterweight   U-DEC              None     5  5:00   \n",
       "3             0       Welterweight   U-DEC              None     3  5:00   \n",
       "4             0  Light Heavyweight  KO/TKO           Punches     1  1:59   \n",
       "\n",
       "  closure  is_main_event                       event_name     event_date  \\\n",
       "0     win           True  UFC 263: Adesanya vs. Vettori 2  June 12, 2021   \n",
       "1     win          False  UFC 263: Adesanya vs. Vettori 2  June 12, 2021   \n",
       "2     win          False  UFC 263: Adesanya vs. Vettori 2  June 12, 2021   \n",
       "3     win          False  UFC 263: Adesanya vs. Vettori 2  June 12, 2021   \n",
       "4     win          False  UFC 263: Adesanya vs. Vettori 2  June 12, 2021   \n",
       "\n",
       "           event_location  \n",
       "0  Glendale, Arizona, USA  \n",
       "1  Glendale, Arizona, USA  \n",
       "2  Glendale, Arizona, USA  \n",
       "3  Glendale, Arizona, USA  \n",
       "4  Glendale, Arizona, USA  "
      ]
     },
     "execution_count": 5,
     "metadata": {},
     "output_type": "execute_result"
    },
    {
     "data": {
      "application/javascript": "\n            setTimeout(function() {\n                var nbb_cell_id = 5;\n                var nbb_unformatted_code = \"df = parse_json(path.data_raw_dir('ufc_events.json'))\\ndf.head()\";\n                var nbb_formatted_code = \"df = parse_json(path.data_raw_dir(\\\"ufc_events.json\\\"))\\ndf.head()\";\n                var nbb_cells = Jupyter.notebook.get_cells();\n                for (var i = 0; i < nbb_cells.length; ++i) {\n                    if (nbb_cells[i].input_prompt_number == nbb_cell_id) {\n                        if (nbb_cells[i].get_text() == nbb_unformatted_code) {\n                             nbb_cells[i].set_text(nbb_formatted_code);\n                        }\n                        break;\n                    }\n                }\n            }, 500);\n            ",
      "text/plain": [
       "<IPython.core.display.Javascript object>"
      ]
     },
     "metadata": {},
     "output_type": "display_data"
    }
   ],
   "source": [
    "df = parse_json(path.data_raw_dir('ufc_events.json'))\n",
    "df.head()"
   ]
  },
  {
   "cell_type": "code",
   "execution_count": 8,
   "metadata": {},
   "outputs": [
    {
     "data": {
      "application/javascript": "\n            setTimeout(function() {\n                var nbb_cell_id = 8;\n                var nbb_unformatted_code = \"def geocode_city(city):\\n    geocode = Nominatim(user_agent=\\\"MyApp\\\").geocode\\n    geocoded = geocode(city)\\n    return geocoded.latitude, geocoded.longitude\\n\\n\\ndf_city = pd.DataFrame(\\n    data=df[df[\\\"event_location\\\"].str.contains(\\\"USA\\\")][\\n        \\\"event_location\\\"\\n    ].unique(),\\n    columns=[\\\"event_location\\\"],\\n)\\n\\nlat, lon = [], []\\n\\nfor city in df_city[\\\"event_location\\\"]:\\n    geocoded = geocode_city(city)\\n    lat.append(geocoded[0])\\n    lon.append(geocoded[1])\";\n                var nbb_formatted_code = \"def geocode_city(city):\\n    geocode = Nominatim(user_agent=\\\"MyApp\\\").geocode\\n    geocoded = geocode(city)\\n    return geocoded.latitude, geocoded.longitude\\n\\n\\ndf_city = pd.DataFrame(\\n    data=df[df[\\\"event_location\\\"].str.contains(\\\"USA\\\")][\\\"event_location\\\"].unique(),\\n    columns=[\\\"event_location\\\"],\\n)\\n\\nlat, lon = [], []\\n\\nfor city in df_city[\\\"event_location\\\"]:\\n    geocoded = geocode_city(city)\\n    lat.append(geocoded[0])\\n    lon.append(geocoded[1])\";\n                var nbb_cells = Jupyter.notebook.get_cells();\n                for (var i = 0; i < nbb_cells.length; ++i) {\n                    if (nbb_cells[i].input_prompt_number == nbb_cell_id) {\n                        if (nbb_cells[i].get_text() == nbb_unformatted_code) {\n                             nbb_cells[i].set_text(nbb_formatted_code);\n                        }\n                        break;\n                    }\n                }\n            }, 500);\n            ",
      "text/plain": [
       "<IPython.core.display.Javascript object>"
      ]
     },
     "metadata": {},
     "output_type": "display_data"
    }
   ],
   "source": [
    "def geocode_city(city):\n",
    "    geocode = Nominatim(user_agent=\"MyApp\").geocode\n",
    "    geocoded = geocode(city)\n",
    "    return geocoded.latitude, geocoded.longitude\n",
    "\n",
    "\n",
    "df_city = pd.DataFrame(\n",
    "    data=df[df[\"event_location\"].str.contains(\"USA\")][\n",
    "        \"event_location\"\n",
    "    ].unique(),\n",
    "    columns=[\"event_location\"],\n",
    ")\n",
    "\n",
    "lat, lon = [], []\n",
    "\n",
    "for city in df_city[\"event_location\"]:\n",
    "    geocoded = geocode_city(city)\n",
    "    lat.append(geocoded[0])\n",
    "    lon.append(geocoded[1])"
   ]
  },
  {
   "cell_type": "code",
   "execution_count": 9,
   "metadata": {},
   "outputs": [
    {
     "data": {
      "text/html": [
       "<div>\n",
       "<style scoped>\n",
       "    .dataframe tbody tr th:only-of-type {\n",
       "        vertical-align: middle;\n",
       "    }\n",
       "\n",
       "    .dataframe tbody tr th {\n",
       "        vertical-align: top;\n",
       "    }\n",
       "\n",
       "    .dataframe thead th {\n",
       "        text-align: right;\n",
       "    }\n",
       "</style>\n",
       "<table border=\"1\" class=\"dataframe\">\n",
       "  <thead>\n",
       "    <tr style=\"text-align: right;\">\n",
       "      <th></th>\n",
       "      <th>event_location</th>\n",
       "      <th>latitude</th>\n",
       "      <th>longitude</th>\n",
       "    </tr>\n",
       "  </thead>\n",
       "  <tbody>\n",
       "    <tr>\n",
       "      <th>0</th>\n",
       "      <td>Glendale, Arizona, USA</td>\n",
       "      <td>33.538686</td>\n",
       "      <td>-112.185994</td>\n",
       "    </tr>\n",
       "    <tr>\n",
       "      <th>1</th>\n",
       "      <td>Las Vegas, Nevada, USA</td>\n",
       "      <td>36.167256</td>\n",
       "      <td>-115.148516</td>\n",
       "    </tr>\n",
       "    <tr>\n",
       "      <th>2</th>\n",
       "      <td>Houston, Texas, USA</td>\n",
       "      <td>29.758938</td>\n",
       "      <td>-95.367697</td>\n",
       "    </tr>\n",
       "    <tr>\n",
       "      <th>3</th>\n",
       "      <td>New York City, New York, USA</td>\n",
       "      <td>40.712728</td>\n",
       "      <td>-74.006015</td>\n",
       "    </tr>\n",
       "    <tr>\n",
       "      <th>4</th>\n",
       "      <td>Denver, Colorado, USA</td>\n",
       "      <td>39.739236</td>\n",
       "      <td>-104.984862</td>\n",
       "    </tr>\n",
       "  </tbody>\n",
       "</table>\n",
       "</div>"
      ],
      "text/plain": [
       "                 event_location   latitude   longitude\n",
       "0        Glendale, Arizona, USA  33.538686 -112.185994\n",
       "1        Las Vegas, Nevada, USA  36.167256 -115.148516\n",
       "2           Houston, Texas, USA  29.758938  -95.367697\n",
       "3  New York City, New York, USA  40.712728  -74.006015\n",
       "4         Denver, Colorado, USA  39.739236 -104.984862"
      ]
     },
     "execution_count": 9,
     "metadata": {},
     "output_type": "execute_result"
    },
    {
     "data": {
      "application/javascript": "\n            setTimeout(function() {\n                var nbb_cell_id = 9;\n                var nbb_unformatted_code = \"df_city['latitude'] = lat\\ndf_city['longitude'] = lon\\ndf_city.head()\";\n                var nbb_formatted_code = \"df_city[\\\"latitude\\\"] = lat\\ndf_city[\\\"longitude\\\"] = lon\\ndf_city.head()\";\n                var nbb_cells = Jupyter.notebook.get_cells();\n                for (var i = 0; i < nbb_cells.length; ++i) {\n                    if (nbb_cells[i].input_prompt_number == nbb_cell_id) {\n                        if (nbb_cells[i].get_text() == nbb_unformatted_code) {\n                             nbb_cells[i].set_text(nbb_formatted_code);\n                        }\n                        break;\n                    }\n                }\n            }, 500);\n            ",
      "text/plain": [
       "<IPython.core.display.Javascript object>"
      ]
     },
     "metadata": {},
     "output_type": "display_data"
    }
   ],
   "source": [
    "df_city['latitude'] = lat\n",
    "df_city['longitude'] = lon\n",
    "df_city.head()"
   ]
  },
  {
   "cell_type": "code",
   "execution_count": 10,
   "metadata": {},
   "outputs": [
    {
     "data": {
      "application/javascript": "\n            setTimeout(function() {\n                var nbb_cell_id = 10;\n                var nbb_unformatted_code = \"df_city.to_parquet(path.data_interim_dir('cities.parquet'))\";\n                var nbb_formatted_code = \"df_city.to_parquet(path.data_interim_dir(\\\"cities.parquet\\\"))\";\n                var nbb_cells = Jupyter.notebook.get_cells();\n                for (var i = 0; i < nbb_cells.length; ++i) {\n                    if (nbb_cells[i].input_prompt_number == nbb_cell_id) {\n                        if (nbb_cells[i].get_text() == nbb_unformatted_code) {\n                             nbb_cells[i].set_text(nbb_formatted_code);\n                        }\n                        break;\n                    }\n                }\n            }, 500);\n            ",
      "text/plain": [
       "<IPython.core.display.Javascript object>"
      ]
     },
     "metadata": {},
     "output_type": "display_data"
    }
   ],
   "source": [
    "df_city.to_parquet(path.data_interim_dir('cities.parquet'))"
   ]
  }
 ],
 "metadata": {
  "interpreter": {
   "hash": "b20d1665b33d1855b683b279539253598a6d0651249ff0d32f3ef8ad88191b54"
  },
  "kernelspec": {
   "display_name": "Python 3.9.10 ('ufc_events_eda')",
   "language": "python",
   "name": "python3"
  },
  "language_info": {
   "codemirror_mode": {
    "name": "ipython",
    "version": 3
   },
   "file_extension": ".py",
   "mimetype": "text/x-python",
   "name": "python",
   "nbconvert_exporter": "python",
   "pygments_lexer": "ipython3",
   "version": "3.9.10"
  },
  "orig_nbformat": 4
 },
 "nbformat": 4,
 "nbformat_minor": 2
}
