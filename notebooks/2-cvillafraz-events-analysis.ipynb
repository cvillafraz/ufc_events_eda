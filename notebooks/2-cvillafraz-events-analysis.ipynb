{
 "cells": [
  {
   "cell_type": "markdown",
   "metadata": {},
   "source": [
    "# Analysis of UFC Events\n"
   ]
  },
  {
   "cell_type": "code",
   "execution_count": 1,
   "metadata": {},
   "outputs": [
    {
     "data": {
      "application/javascript": "\n            setTimeout(function() {\n                var nbb_cell_id = 1;\n                var nbb_unformatted_code = \"%load_ext nb_black\\n%load_ext autoreload\\n%autoreload 2\";\n                var nbb_formatted_code = \"%load_ext nb_black\\n%load_ext autoreload\\n%autoreload 2\";\n                var nbb_cells = Jupyter.notebook.get_cells();\n                for (var i = 0; i < nbb_cells.length; ++i) {\n                    if (nbb_cells[i].input_prompt_number == nbb_cell_id) {\n                        if (nbb_cells[i].get_text() == nbb_unformatted_code) {\n                             nbb_cells[i].set_text(nbb_formatted_code);\n                        }\n                        break;\n                    }\n                }\n            }, 500);\n            ",
      "text/plain": [
       "<IPython.core.display.Javascript object>"
      ]
     },
     "metadata": {},
     "output_type": "display_data"
    }
   ],
   "source": [
    "%load_ext nb_black\n",
    "%load_ext autoreload\n",
    "%autoreload 2"
   ]
  },
  {
   "cell_type": "code",
   "execution_count": 2,
   "metadata": {},
   "outputs": [
    {
     "data": {
      "application/javascript": "\n            setTimeout(function() {\n                var nbb_cell_id = 2;\n                var nbb_unformatted_code = \"import ufc_events_eda.utils.paths as path\\n\\n# import ufc_events_eda.utils.preprocess as prep\\nimport ufc_events_eda.visualization.visualize as viz\\nimport pandas as pd\\nimport matplotlib.pyplot as plt\\nimport seaborn as sns\\nimport plotly.express as px\\nimport plotly.graph_objects as go\\nimport plotly.io as pio\\nimport bar_chart_race as bcr\\n\\npio.renderers.default = \\\"notebook_connected\\\"\";\n                var nbb_formatted_code = \"import ufc_events_eda.utils.paths as path\\n\\n# import ufc_events_eda.utils.preprocess as prep\\nimport ufc_events_eda.visualization.visualize as viz\\nimport pandas as pd\\nimport matplotlib.pyplot as plt\\nimport seaborn as sns\\nimport plotly.express as px\\nimport plotly.graph_objects as go\\nimport plotly.io as pio\\nimport bar_chart_race as bcr\\n\\npio.renderers.default = \\\"notebook_connected\\\"\";\n                var nbb_cells = Jupyter.notebook.get_cells();\n                for (var i = 0; i < nbb_cells.length; ++i) {\n                    if (nbb_cells[i].input_prompt_number == nbb_cell_id) {\n                        if (nbb_cells[i].get_text() == nbb_unformatted_code) {\n                             nbb_cells[i].set_text(nbb_formatted_code);\n                        }\n                        break;\n                    }\n                }\n            }, 500);\n            ",
      "text/plain": [
       "<IPython.core.display.Javascript object>"
      ]
     },
     "metadata": {},
     "output_type": "display_data"
    }
   ],
   "source": [
    "import ufc_events_eda.utils.paths as path\n",
    "\n",
    "# import ufc_events_eda.utils.preprocess as prep\n",
    "import ufc_events_eda.visualization.visualize as viz\n",
    "import pandas as pd\n",
    "import matplotlib.pyplot as plt\n",
    "import seaborn as sns\n",
    "import plotly.express as px\n",
    "import plotly.graph_objects as go\n",
    "import plotly.io as pio\n",
    "import bar_chart_race as bcr\n",
    "\n",
    "pio.renderers.default = \"notebook_connected\""
   ]
  },
  {
   "cell_type": "code",
   "execution_count": 3,
   "metadata": {},
   "outputs": [
    {
     "data": {
      "application/javascript": "\n            setTimeout(function() {\n                var nbb_cell_id = 3;\n                var nbb_unformatted_code = \"%%capture\\n%run './1-cvillafraz-data-processing.ipynb'\";\n                var nbb_formatted_code = \"%%capture\\n%run './1-cvillafraz-data-processing.ipynb'\";\n                var nbb_cells = Jupyter.notebook.get_cells();\n                for (var i = 0; i < nbb_cells.length; ++i) {\n                    if (nbb_cells[i].input_prompt_number == nbb_cell_id) {\n                        if (nbb_cells[i].get_text() == nbb_unformatted_code) {\n                             nbb_cells[i].set_text(nbb_formatted_code);\n                        }\n                        break;\n                    }\n                }\n            }, 500);\n            ",
      "text/plain": [
       "<IPython.core.display.Javascript object>"
      ]
     },
     "metadata": {},
     "output_type": "display_data"
    }
   ],
   "source": [
    "%%capture\n",
    "%run './1-cvillafraz-data-processing.ipynb'"
   ]
  },
  {
   "cell_type": "markdown",
   "metadata": {},
   "source": [
    "## Load events dataset\n"
   ]
  },
  {
   "cell_type": "code",
   "execution_count": 4,
   "metadata": {},
   "outputs": [
    {
     "data": {
      "text/html": [
       "<div>\n",
       "<style scoped>\n",
       "    .dataframe tbody tr th:only-of-type {\n",
       "        vertical-align: middle;\n",
       "    }\n",
       "\n",
       "    .dataframe tbody tr th {\n",
       "        vertical-align: top;\n",
       "    }\n",
       "\n",
       "    .dataframe thead th {\n",
       "        text-align: right;\n",
       "    }\n",
       "</style>\n",
       "<table border=\"1\" class=\"dataframe\">\n",
       "  <thead>\n",
       "    <tr style=\"text-align: right;\">\n",
       "      <th></th>\n",
       "      <th>event_name</th>\n",
       "      <th>event_date</th>\n",
       "      <th>event_location</th>\n",
       "      <th>latitude</th>\n",
       "      <th>longitude</th>\n",
       "    </tr>\n",
       "  </thead>\n",
       "  <tbody>\n",
       "    <tr>\n",
       "      <th>0</th>\n",
       "      <td>UFC Fight Night: Jung vs. Ige</td>\n",
       "      <td>2021-06-19</td>\n",
       "      <td>Las Vegas, Nevada, USA</td>\n",
       "      <td>36.167256</td>\n",
       "      <td>-115.148516</td>\n",
       "    </tr>\n",
       "    <tr>\n",
       "      <th>1</th>\n",
       "      <td>UFC Fight Night: Gane vs. Volkov</td>\n",
       "      <td>2021-06-26</td>\n",
       "      <td>Las Vegas, Nevada, USA</td>\n",
       "      <td>36.167256</td>\n",
       "      <td>-115.148516</td>\n",
       "    </tr>\n",
       "    <tr>\n",
       "      <th>2</th>\n",
       "      <td>UFC 264: Poirier vs. McGregor 3</td>\n",
       "      <td>2021-07-10</td>\n",
       "      <td>Las Vegas, Nevada, USA</td>\n",
       "      <td>36.167256</td>\n",
       "      <td>-115.148516</td>\n",
       "    </tr>\n",
       "    <tr>\n",
       "      <th>3</th>\n",
       "      <td>UFC Fight Night: Makhachev vs. Moises</td>\n",
       "      <td>2021-07-17</td>\n",
       "      <td>Las Vegas, Nevada, USA</td>\n",
       "      <td>36.167256</td>\n",
       "      <td>-115.148516</td>\n",
       "    </tr>\n",
       "    <tr>\n",
       "      <th>4</th>\n",
       "      <td>UFC Fight Night: Sandhagen vs. Dillashaw</td>\n",
       "      <td>2021-07-24</td>\n",
       "      <td>Las Vegas, Nevada, USA</td>\n",
       "      <td>36.167256</td>\n",
       "      <td>-115.148516</td>\n",
       "    </tr>\n",
       "  </tbody>\n",
       "</table>\n",
       "</div>"
      ],
      "text/plain": [
       "                                 event_name event_date  \\\n",
       "0             UFC Fight Night: Jung vs. Ige 2021-06-19   \n",
       "1          UFC Fight Night: Gane vs. Volkov 2021-06-26   \n",
       "2           UFC 264: Poirier vs. McGregor 3 2021-07-10   \n",
       "3     UFC Fight Night: Makhachev vs. Moises 2021-07-17   \n",
       "4  UFC Fight Night: Sandhagen vs. Dillashaw 2021-07-24   \n",
       "\n",
       "           event_location   latitude   longitude  \n",
       "0  Las Vegas, Nevada, USA  36.167256 -115.148516  \n",
       "1  Las Vegas, Nevada, USA  36.167256 -115.148516  \n",
       "2  Las Vegas, Nevada, USA  36.167256 -115.148516  \n",
       "3  Las Vegas, Nevada, USA  36.167256 -115.148516  \n",
       "4  Las Vegas, Nevada, USA  36.167256 -115.148516  "
      ]
     },
     "execution_count": 4,
     "metadata": {},
     "output_type": "execute_result"
    },
    {
     "data": {
      "application/javascript": "\n            setTimeout(function() {\n                var nbb_cell_id = 4;\n                var nbb_unformatted_code = \"df = pd.read_parquet(path.data_processed_dir(\\\"events_processed.parquet\\\"))\\ndf.head()\";\n                var nbb_formatted_code = \"df = pd.read_parquet(path.data_processed_dir(\\\"events_processed.parquet\\\"))\\ndf.head()\";\n                var nbb_cells = Jupyter.notebook.get_cells();\n                for (var i = 0; i < nbb_cells.length; ++i) {\n                    if (nbb_cells[i].input_prompt_number == nbb_cell_id) {\n                        if (nbb_cells[i].get_text() == nbb_unformatted_code) {\n                             nbb_cells[i].set_text(nbb_formatted_code);\n                        }\n                        break;\n                    }\n                }\n            }, 500);\n            ",
      "text/plain": [
       "<IPython.core.display.Javascript object>"
      ]
     },
     "metadata": {},
     "output_type": "display_data"
    }
   ],
   "source": [
    "df = pd.read_parquet(path.data_processed_dir(\"events_processed.parquet\"))\n",
    "df.head()"
   ]
  },
  {
   "cell_type": "code",
   "execution_count": 5,
   "metadata": {},
   "outputs": [
    {
     "data": {
      "application/javascript": "\n            setTimeout(function() {\n                var nbb_cell_id = 5;\n                var nbb_unformatted_code = \"df.set_index(\\\"event_date\\\", inplace=True)\\ndf.sort_index(inplace=True)\";\n                var nbb_formatted_code = \"df.set_index(\\\"event_date\\\", inplace=True)\\ndf.sort_index(inplace=True)\";\n                var nbb_cells = Jupyter.notebook.get_cells();\n                for (var i = 0; i < nbb_cells.length; ++i) {\n                    if (nbb_cells[i].input_prompt_number == nbb_cell_id) {\n                        if (nbb_cells[i].get_text() == nbb_unformatted_code) {\n                             nbb_cells[i].set_text(nbb_formatted_code);\n                        }\n                        break;\n                    }\n                }\n            }, 500);\n            ",
      "text/plain": [
       "<IPython.core.display.Javascript object>"
      ]
     },
     "metadata": {},
     "output_type": "display_data"
    }
   ],
   "source": [
    "df.set_index(\"event_date\", inplace=True)\n",
    "df.sort_index(inplace=True)"
   ]
  },
  {
   "cell_type": "markdown",
   "metadata": {},
   "source": [
    "## What percentage of events took place in the U.S.\n"
   ]
  },
  {
   "cell_type": "code",
   "execution_count": 10,
   "metadata": {},
   "outputs": [
    {
     "name": "stdout",
     "output_type": "stream",
     "text": [
      "Events out of the US: 30.0%\n"
     ]
    },
    {
     "data": {
      "application/javascript": "\n            setTimeout(function() {\n                var nbb_cell_id = 10;\n                var nbb_unformatted_code = \"print(f\\\"Events out of the US: {round(df['latitude'].isna().sum()/len(df), 1)*100}%\\\")\";\n                var nbb_formatted_code = \"print(f\\\"Events out of the US: {round(df['latitude'].isna().sum()/len(df), 1)*100}%\\\")\";\n                var nbb_cells = Jupyter.notebook.get_cells();\n                for (var i = 0; i < nbb_cells.length; ++i) {\n                    if (nbb_cells[i].input_prompt_number == nbb_cell_id) {\n                        if (nbb_cells[i].get_text() == nbb_unformatted_code) {\n                             nbb_cells[i].set_text(nbb_formatted_code);\n                        }\n                        break;\n                    }\n                }\n            }, 500);\n            ",
      "text/plain": [
       "<IPython.core.display.Javascript object>"
      ]
     },
     "metadata": {},
     "output_type": "display_data"
    }
   ],
   "source": [
    "print(f\"Events out of the US: {round(df['latitude'].isna().sum()/len(df), 1)*100}%\")"
   ]
  },
  {
   "cell_type": "markdown",
   "metadata": {},
   "source": [
    "Roughly <strong style=\"color:#003C8A\">70%</strong> of UFC events took place in the US.\n"
   ]
  },
  {
   "cell_type": "markdown",
   "metadata": {},
   "source": [
    "## What is the proportion of numbered (PPV) vs non-numbered events?\n"
   ]
  },
  {
   "cell_type": "markdown",
   "metadata": {},
   "source": [
    "Numbered UFC events refer to events that include a number in their name, such as UFC 205. With a few exceptions, most numbered UFC events are PPVs, which makes it important to distinguish them from non-numbered (non PPV) events.\n"
   ]
  },
  {
   "cell_type": "code",
   "execution_count": 11,
   "metadata": {},
   "outputs": [
    {
     "data": {
      "text/plain": [
       "0.45"
      ]
     },
     "execution_count": 11,
     "metadata": {},
     "output_type": "execute_result"
    },
    {
     "data": {
      "application/javascript": "\n            setTimeout(function() {\n                var nbb_cell_id = 11;\n                var nbb_unformatted_code = \"df[\\\"is_numbered\\\"] = df[\\\"event_name\\\"].str.match(\\\"UFC (?=\\\\d)\\\")\\nround(df[\\\"is_numbered\\\"].sum() / len(df), 2)\";\n                var nbb_formatted_code = \"df[\\\"is_numbered\\\"] = df[\\\"event_name\\\"].str.match(\\\"UFC (?=\\\\d)\\\")\\nround(df[\\\"is_numbered\\\"].sum() / len(df), 2)\";\n                var nbb_cells = Jupyter.notebook.get_cells();\n                for (var i = 0; i < nbb_cells.length; ++i) {\n                    if (nbb_cells[i].input_prompt_number == nbb_cell_id) {\n                        if (nbb_cells[i].get_text() == nbb_unformatted_code) {\n                             nbb_cells[i].set_text(nbb_formatted_code);\n                        }\n                        break;\n                    }\n                }\n            }, 500);\n            ",
      "text/plain": [
       "<IPython.core.display.Javascript object>"
      ]
     },
     "metadata": {},
     "output_type": "display_data"
    }
   ],
   "source": [
    "df[\"is_numbered\"] = df[\"event_name\"].str.match(\"UFC (?=\\d)\")\n",
    "round(df[\"is_numbered\"].sum() / len(df), 2)"
   ]
  },
  {
   "cell_type": "markdown",
   "metadata": {},
   "source": [
    "<p>PPVs represent approximately <br> <strong style='color:#003C8A;font-size:3.5rem'>45%</strong><br>of all UFC events</p>\n"
   ]
  },
  {
   "cell_type": "markdown",
   "metadata": {},
   "source": [
    "## How has the number of events evolved every year?\n"
   ]
  },
  {
   "cell_type": "code",
   "execution_count": 18,
   "metadata": {},
   "outputs": [
    {
     "data": {
      "text/html": [
       "        <script type=\"text/javascript\">\n",
       "        window.PlotlyConfig = {MathJaxConfig: 'local'};\n",
       "        if (window.MathJax) {MathJax.Hub.Config({SVG: {font: \"STIX-Web\"}});}\n",
       "        if (typeof require !== 'undefined') {\n",
       "        require.undef(\"plotly\");\n",
       "        requirejs.config({\n",
       "            paths: {\n",
       "                'plotly': ['https://cdn.plot.ly/plotly-2.8.3.min']\n",
       "            }\n",
       "        });\n",
       "        require(['plotly'], function(Plotly) {\n",
       "            window._Plotly = Plotly;\n",
       "        });\n",
       "        }\n",
       "        </script>\n",
       "        "
      ]
     },
     "metadata": {},
     "output_type": "display_data"
    },
    {
     "data": {
      "text/html": [
       "<div>                            <div id=\"24610253-aa62-495b-b239-772522ad855d\" class=\"plotly-graph-div\" style=\"height:525px; width:100%;\"></div>            <script type=\"text/javascript\">                require([\"plotly\"], function(Plotly) {                    window.PLOTLYENV=window.PLOTLYENV || {};                                    if (document.getElementById(\"24610253-aa62-495b-b239-772522ad855d\")) {                    Plotly.newPlot(                        \"24610253-aa62-495b-b239-772522ad855d\",                        [{\"marker\":{\"color\":\"lightgrey\"},\"mode\":\"lines\",\"x\":[1994,1995,1996,1997,1998,1999,2000,2001,2002,2003,2004,2005],\"y\":[3,4,5,5,3,6,6,5,7,5,5,10],\"type\":\"scatter\"},{\"marker\":{\"color\":\"#003C8A\"},\"mode\":\"lines\",\"x\":[2005,2006,2007,2008,2009,2010,2011,2012,2013,2014,2015,2016,2017,2018,2019,2020,2021],\"y\":[10,18,19,20,20,24,27,31,33,46,41,41,39,39,42,41,43],\"type\":\"scatter\"}],                        {\"template\":{\"data\":{\"bar\":[{\"error_x\":{\"color\":\"#2a3f5f\"},\"error_y\":{\"color\":\"#2a3f5f\"},\"marker\":{\"line\":{\"color\":\"#E5ECF6\",\"width\":0.5},\"pattern\":{\"fillmode\":\"overlay\",\"size\":10,\"solidity\":0.2}},\"type\":\"bar\"}],\"barpolar\":[{\"marker\":{\"line\":{\"color\":\"#E5ECF6\",\"width\":0.5},\"pattern\":{\"fillmode\":\"overlay\",\"size\":10,\"solidity\":0.2}},\"type\":\"barpolar\"}],\"carpet\":[{\"aaxis\":{\"endlinecolor\":\"#2a3f5f\",\"gridcolor\":\"white\",\"linecolor\":\"white\",\"minorgridcolor\":\"white\",\"startlinecolor\":\"#2a3f5f\"},\"baxis\":{\"endlinecolor\":\"#2a3f5f\",\"gridcolor\":\"white\",\"linecolor\":\"white\",\"minorgridcolor\":\"white\",\"startlinecolor\":\"#2a3f5f\"},\"type\":\"carpet\"}],\"choropleth\":[{\"colorbar\":{\"outlinewidth\":0,\"ticks\":\"\"},\"type\":\"choropleth\"}],\"contour\":[{\"colorbar\":{\"outlinewidth\":0,\"ticks\":\"\"},\"colorscale\":[[0.0,\"#0d0887\"],[0.1111111111111111,\"#46039f\"],[0.2222222222222222,\"#7201a8\"],[0.3333333333333333,\"#9c179e\"],[0.4444444444444444,\"#bd3786\"],[0.5555555555555556,\"#d8576b\"],[0.6666666666666666,\"#ed7953\"],[0.7777777777777778,\"#fb9f3a\"],[0.8888888888888888,\"#fdca26\"],[1.0,\"#f0f921\"]],\"type\":\"contour\"}],\"contourcarpet\":[{\"colorbar\":{\"outlinewidth\":0,\"ticks\":\"\"},\"type\":\"contourcarpet\"}],\"heatmap\":[{\"colorbar\":{\"outlinewidth\":0,\"ticks\":\"\"},\"colorscale\":[[0.0,\"#0d0887\"],[0.1111111111111111,\"#46039f\"],[0.2222222222222222,\"#7201a8\"],[0.3333333333333333,\"#9c179e\"],[0.4444444444444444,\"#bd3786\"],[0.5555555555555556,\"#d8576b\"],[0.6666666666666666,\"#ed7953\"],[0.7777777777777778,\"#fb9f3a\"],[0.8888888888888888,\"#fdca26\"],[1.0,\"#f0f921\"]],\"type\":\"heatmap\"}],\"heatmapgl\":[{\"colorbar\":{\"outlinewidth\":0,\"ticks\":\"\"},\"colorscale\":[[0.0,\"#0d0887\"],[0.1111111111111111,\"#46039f\"],[0.2222222222222222,\"#7201a8\"],[0.3333333333333333,\"#9c179e\"],[0.4444444444444444,\"#bd3786\"],[0.5555555555555556,\"#d8576b\"],[0.6666666666666666,\"#ed7953\"],[0.7777777777777778,\"#fb9f3a\"],[0.8888888888888888,\"#fdca26\"],[1.0,\"#f0f921\"]],\"type\":\"heatmapgl\"}],\"histogram\":[{\"marker\":{\"pattern\":{\"fillmode\":\"overlay\",\"size\":10,\"solidity\":0.2}},\"type\":\"histogram\"}],\"histogram2d\":[{\"colorbar\":{\"outlinewidth\":0,\"ticks\":\"\"},\"colorscale\":[[0.0,\"#0d0887\"],[0.1111111111111111,\"#46039f\"],[0.2222222222222222,\"#7201a8\"],[0.3333333333333333,\"#9c179e\"],[0.4444444444444444,\"#bd3786\"],[0.5555555555555556,\"#d8576b\"],[0.6666666666666666,\"#ed7953\"],[0.7777777777777778,\"#fb9f3a\"],[0.8888888888888888,\"#fdca26\"],[1.0,\"#f0f921\"]],\"type\":\"histogram2d\"}],\"histogram2dcontour\":[{\"colorbar\":{\"outlinewidth\":0,\"ticks\":\"\"},\"colorscale\":[[0.0,\"#0d0887\"],[0.1111111111111111,\"#46039f\"],[0.2222222222222222,\"#7201a8\"],[0.3333333333333333,\"#9c179e\"],[0.4444444444444444,\"#bd3786\"],[0.5555555555555556,\"#d8576b\"],[0.6666666666666666,\"#ed7953\"],[0.7777777777777778,\"#fb9f3a\"],[0.8888888888888888,\"#fdca26\"],[1.0,\"#f0f921\"]],\"type\":\"histogram2dcontour\"}],\"mesh3d\":[{\"colorbar\":{\"outlinewidth\":0,\"ticks\":\"\"},\"type\":\"mesh3d\"}],\"parcoords\":[{\"line\":{\"colorbar\":{\"outlinewidth\":0,\"ticks\":\"\"}},\"type\":\"parcoords\"}],\"pie\":[{\"automargin\":true,\"type\":\"pie\"}],\"scatter\":[{\"marker\":{\"colorbar\":{\"outlinewidth\":0,\"ticks\":\"\"}},\"type\":\"scatter\"}],\"scatter3d\":[{\"line\":{\"colorbar\":{\"outlinewidth\":0,\"ticks\":\"\"}},\"marker\":{\"colorbar\":{\"outlinewidth\":0,\"ticks\":\"\"}},\"type\":\"scatter3d\"}],\"scattercarpet\":[{\"marker\":{\"colorbar\":{\"outlinewidth\":0,\"ticks\":\"\"}},\"type\":\"scattercarpet\"}],\"scattergeo\":[{\"marker\":{\"colorbar\":{\"outlinewidth\":0,\"ticks\":\"\"}},\"type\":\"scattergeo\"}],\"scattergl\":[{\"marker\":{\"colorbar\":{\"outlinewidth\":0,\"ticks\":\"\"}},\"type\":\"scattergl\"}],\"scattermapbox\":[{\"marker\":{\"colorbar\":{\"outlinewidth\":0,\"ticks\":\"\"}},\"type\":\"scattermapbox\"}],\"scatterpolar\":[{\"marker\":{\"colorbar\":{\"outlinewidth\":0,\"ticks\":\"\"}},\"type\":\"scatterpolar\"}],\"scatterpolargl\":[{\"marker\":{\"colorbar\":{\"outlinewidth\":0,\"ticks\":\"\"}},\"type\":\"scatterpolargl\"}],\"scatterternary\":[{\"marker\":{\"colorbar\":{\"outlinewidth\":0,\"ticks\":\"\"}},\"type\":\"scatterternary\"}],\"surface\":[{\"colorbar\":{\"outlinewidth\":0,\"ticks\":\"\"},\"colorscale\":[[0.0,\"#0d0887\"],[0.1111111111111111,\"#46039f\"],[0.2222222222222222,\"#7201a8\"],[0.3333333333333333,\"#9c179e\"],[0.4444444444444444,\"#bd3786\"],[0.5555555555555556,\"#d8576b\"],[0.6666666666666666,\"#ed7953\"],[0.7777777777777778,\"#fb9f3a\"],[0.8888888888888888,\"#fdca26\"],[1.0,\"#f0f921\"]],\"type\":\"surface\"}],\"table\":[{\"cells\":{\"fill\":{\"color\":\"#EBF0F8\"},\"line\":{\"color\":\"white\"}},\"header\":{\"fill\":{\"color\":\"#C8D4E3\"},\"line\":{\"color\":\"white\"}},\"type\":\"table\"}]},\"layout\":{\"annotationdefaults\":{\"arrowcolor\":\"#2a3f5f\",\"arrowhead\":0,\"arrowwidth\":1},\"autotypenumbers\":\"strict\",\"coloraxis\":{\"colorbar\":{\"outlinewidth\":0,\"ticks\":\"\"}},\"colorscale\":{\"diverging\":[[0,\"#8e0152\"],[0.1,\"#c51b7d\"],[0.2,\"#de77ae\"],[0.3,\"#f1b6da\"],[0.4,\"#fde0ef\"],[0.5,\"#f7f7f7\"],[0.6,\"#e6f5d0\"],[0.7,\"#b8e186\"],[0.8,\"#7fbc41\"],[0.9,\"#4d9221\"],[1,\"#276419\"]],\"sequential\":[[0.0,\"#0d0887\"],[0.1111111111111111,\"#46039f\"],[0.2222222222222222,\"#7201a8\"],[0.3333333333333333,\"#9c179e\"],[0.4444444444444444,\"#bd3786\"],[0.5555555555555556,\"#d8576b\"],[0.6666666666666666,\"#ed7953\"],[0.7777777777777778,\"#fb9f3a\"],[0.8888888888888888,\"#fdca26\"],[1.0,\"#f0f921\"]],\"sequentialminus\":[[0.0,\"#0d0887\"],[0.1111111111111111,\"#46039f\"],[0.2222222222222222,\"#7201a8\"],[0.3333333333333333,\"#9c179e\"],[0.4444444444444444,\"#bd3786\"],[0.5555555555555556,\"#d8576b\"],[0.6666666666666666,\"#ed7953\"],[0.7777777777777778,\"#fb9f3a\"],[0.8888888888888888,\"#fdca26\"],[1.0,\"#f0f921\"]]},\"colorway\":[\"#636efa\",\"#EF553B\",\"#00cc96\",\"#ab63fa\",\"#FFA15A\",\"#19d3f3\",\"#FF6692\",\"#B6E880\",\"#FF97FF\",\"#FECB52\"],\"font\":{\"color\":\"#2a3f5f\"},\"geo\":{\"bgcolor\":\"white\",\"lakecolor\":\"white\",\"landcolor\":\"#E5ECF6\",\"showlakes\":true,\"showland\":true,\"subunitcolor\":\"white\"},\"hoverlabel\":{\"align\":\"left\"},\"hovermode\":\"closest\",\"mapbox\":{\"style\":\"light\"},\"paper_bgcolor\":\"white\",\"plot_bgcolor\":\"#E5ECF6\",\"polar\":{\"angularaxis\":{\"gridcolor\":\"white\",\"linecolor\":\"white\",\"ticks\":\"\"},\"bgcolor\":\"#E5ECF6\",\"radialaxis\":{\"gridcolor\":\"white\",\"linecolor\":\"white\",\"ticks\":\"\"}},\"scene\":{\"xaxis\":{\"backgroundcolor\":\"#E5ECF6\",\"gridcolor\":\"white\",\"gridwidth\":2,\"linecolor\":\"white\",\"showbackground\":true,\"ticks\":\"\",\"zerolinecolor\":\"white\"},\"yaxis\":{\"backgroundcolor\":\"#E5ECF6\",\"gridcolor\":\"white\",\"gridwidth\":2,\"linecolor\":\"white\",\"showbackground\":true,\"ticks\":\"\",\"zerolinecolor\":\"white\"},\"zaxis\":{\"backgroundcolor\":\"#E5ECF6\",\"gridcolor\":\"white\",\"gridwidth\":2,\"linecolor\":\"white\",\"showbackground\":true,\"ticks\":\"\",\"zerolinecolor\":\"white\"}},\"shapedefaults\":{\"line\":{\"color\":\"#2a3f5f\"}},\"ternary\":{\"aaxis\":{\"gridcolor\":\"white\",\"linecolor\":\"white\",\"ticks\":\"\"},\"baxis\":{\"gridcolor\":\"white\",\"linecolor\":\"white\",\"ticks\":\"\"},\"bgcolor\":\"#E5ECF6\",\"caxis\":{\"gridcolor\":\"white\",\"linecolor\":\"white\",\"ticks\":\"\"}},\"title\":{\"x\":0.05},\"xaxis\":{\"automargin\":true,\"gridcolor\":\"white\",\"linecolor\":\"white\",\"ticks\":\"\",\"title\":{\"standoff\":15},\"zerolinecolor\":\"white\",\"zerolinewidth\":2},\"yaxis\":{\"automargin\":true,\"gridcolor\":\"white\",\"linecolor\":\"white\",\"ticks\":\"\",\"title\":{\"standoff\":15},\"zerolinecolor\":\"white\",\"zerolinewidth\":2}}},\"xaxis\":{\"showgrid\":false,\"linecolor\":\"lightgrey\",\"title\":{\"text\":\"Year\"}},\"yaxis\":{\"showgrid\":false,\"linecolor\":\"lightgrey\",\"title\":{\"text\":\"Number of events\"}},\"title\":{\"text\":\"The number of UFC events by year has been increasing since <span style='color:#003C8A;font-weight:bold'>2005</span>\",\"font\":{\"color\":\"#404b69\"}},\"font\":{\"color\":\"grey\"},\"plot_bgcolor\":\"#fff\",\"showlegend\":false},                        {\"responsive\": true}                    ).then(function(){\n",
       "                            \n",
       "var gd = document.getElementById('24610253-aa62-495b-b239-772522ad855d');\n",
       "var x = new MutationObserver(function (mutations, observer) {{\n",
       "        var display = window.getComputedStyle(gd).display;\n",
       "        if (!display || display === 'none') {{\n",
       "            console.log([gd, 'removed!']);\n",
       "            Plotly.purge(gd);\n",
       "            observer.disconnect();\n",
       "        }}\n",
       "}});\n",
       "\n",
       "// Listen for the removal of the full notebook cells\n",
       "var notebookContainer = gd.closest('#notebook-container');\n",
       "if (notebookContainer) {{\n",
       "    x.observe(notebookContainer, {childList: true});\n",
       "}}\n",
       "\n",
       "// Listen for the clearing of the current output cell\n",
       "var outputEl = gd.closest('.output');\n",
       "if (outputEl) {{\n",
       "    x.observe(outputEl, {childList: true});\n",
       "}}\n",
       "\n",
       "                        })                };                });            </script>        </div>"
      ]
     },
     "metadata": {},
     "output_type": "display_data"
    },
    {
     "data": {
      "application/javascript": "\n            setTimeout(function() {\n                var nbb_cell_id = 18;\n                var nbb_unformatted_code = \"by_year = df.groupby(df.index.year)[\\\"event_name\\\"].count().sort_index().iloc[:-1]\\n\\nfig = go.Figure()\\nfig.add_trace(\\n    go.Scatter(\\n        x=by_year.index[:12], y=by_year[:12], mode=\\\"lines\\\", marker_color=\\\"lightgrey\\\"\\n    )\\n)\\nfig.add_trace(\\n    go.Scatter(\\n        x=by_year.index[11:], y=by_year[11:], mode=\\\"lines\\\", marker_color=\\\"#003C8A\\\"\\n    )\\n)\\nfig.update_layout(\\n    title=\\\"The number of UFC events by year has been increasing since <span style='color:#003C8A;font-weight:bold'>2005</span>\\\",\\n    xaxis_showgrid=False,\\n    yaxis_showgrid=False,\\n    plot_bgcolor=\\\"#fff\\\",\\n    title_font=dict(color=\\\"#404b69\\\"),\\n    font=dict(color=\\\"grey\\\"),\\n    showlegend=False,\\n)\\nfig.update_xaxes(linecolor=\\\"lightgrey\\\", title=\\\"Year\\\")\\nfig.update_yaxes(linecolor=\\\"lightgrey\\\", title=\\\"Number of events\\\")\\nfig.show()\";\n                var nbb_formatted_code = \"by_year = df.groupby(df.index.year)[\\\"event_name\\\"].count().sort_index().iloc[:-1]\\n\\nfig = go.Figure()\\nfig.add_trace(\\n    go.Scatter(\\n        x=by_year.index[:12], y=by_year[:12], mode=\\\"lines\\\", marker_color=\\\"lightgrey\\\"\\n    )\\n)\\nfig.add_trace(\\n    go.Scatter(\\n        x=by_year.index[11:], y=by_year[11:], mode=\\\"lines\\\", marker_color=\\\"#003C8A\\\"\\n    )\\n)\\nfig.update_layout(\\n    title=\\\"The number of UFC events by year has been increasing since <span style='color:#003C8A;font-weight:bold'>2005</span>\\\",\\n    xaxis_showgrid=False,\\n    yaxis_showgrid=False,\\n    plot_bgcolor=\\\"#fff\\\",\\n    title_font=dict(color=\\\"#404b69\\\"),\\n    font=dict(color=\\\"grey\\\"),\\n    showlegend=False,\\n)\\nfig.update_xaxes(linecolor=\\\"lightgrey\\\", title=\\\"Year\\\")\\nfig.update_yaxes(linecolor=\\\"lightgrey\\\", title=\\\"Number of events\\\")\\nfig.show()\";\n                var nbb_cells = Jupyter.notebook.get_cells();\n                for (var i = 0; i < nbb_cells.length; ++i) {\n                    if (nbb_cells[i].input_prompt_number == nbb_cell_id) {\n                        if (nbb_cells[i].get_text() == nbb_unformatted_code) {\n                             nbb_cells[i].set_text(nbb_formatted_code);\n                        }\n                        break;\n                    }\n                }\n            }, 500);\n            ",
      "text/plain": [
       "<IPython.core.display.Javascript object>"
      ]
     },
     "metadata": {},
     "output_type": "display_data"
    }
   ],
   "source": [
    "by_year = df.groupby(df.index.year)[\"event_name\"].count().sort_index().iloc[:-1]\n",
    "\n",
    "fig = go.Figure()\n",
    "fig.add_trace(\n",
    "    go.Scatter(\n",
    "        x=by_year.index[:12], y=by_year[:12], mode=\"lines\", marker_color=\"lightgrey\"\n",
    "    )\n",
    ")\n",
    "fig.add_trace(\n",
    "    go.Scatter(\n",
    "        x=by_year.index[11:], y=by_year[11:], mode=\"lines\", marker_color=\"#003C8A\"\n",
    "    )\n",
    ")\n",
    "fig.update_layout(\n",
    "    title=\"The number of UFC events by year has been increasing since <span style='color:#003C8A;font-weight:bold'>2005</span>\",\n",
    "    xaxis_showgrid=False,\n",
    "    yaxis_showgrid=False,\n",
    "    plot_bgcolor=\"#fff\",\n",
    "    title_font=dict(color=\"#404b69\"),\n",
    "    font=dict(color=\"grey\"),\n",
    "    showlegend=False,\n",
    ")\n",
    "fig.update_xaxes(linecolor=\"lightgrey\", title=\"Year\")\n",
    "fig.update_yaxes(linecolor=\"lightgrey\", title=\"Number of events\")\n",
    "fig.show()"
   ]
  },
  {
   "cell_type": "markdown",
   "metadata": {},
   "source": [
    "As shown, the UFC started making more events in 2005. In 2005, the first season of The Ultimate Fighter (a competitive reality show intended to sign new fighters) was launched. The Ultimate Fighter 1 Finale, which took place in April, featured a fight between Forrest Griffin and Stephan Bonnar. This legendary fight is considered by many as the catalyst of the UFC's future success, and explains why the number of events started to grow in 2005.\n",
    "\n",
    "In addition, the number of events was barely affected by the COVID pandemic. The UFC was the first major sports organization to resume activities after the COVID breakout.\n"
   ]
  },
  {
   "cell_type": "markdown",
   "metadata": {},
   "source": [
    "## What are the US cities with the most events?\n"
   ]
  },
  {
   "cell_type": "code",
   "execution_count": 12,
   "metadata": {},
   "outputs": [
    {
     "name": "stdout",
     "output_type": "stream",
     "text": [
      "Las Vegas, Nevada, USA: 0.31\n"
     ]
    },
    {
     "data": {
      "application/javascript": "\n            setTimeout(function() {\n                var nbb_cell_id = 12;\n                var nbb_unformatted_code = \"by_city = (\\n    df[df[\\\"event_location\\\"].str.contains(\\\"USA\\\")]\\n    .groupby(by=[\\\"event_location\\\", \\\"latitude\\\", \\\"longitude\\\"])[\\\"event_name\\\"]\\n    .count()\\n    .reset_index()\\n    .sort_values(\\\"event_name\\\", ascending=False)\\n)\\nprint(\\n    f\\\"{by_city.iloc[0]['event_location']}: {round(by_city.iloc[0].event_name / len(df), 2)}\\\"\\n)\";\n                var nbb_formatted_code = \"by_city = (\\n    df[df[\\\"event_location\\\"].str.contains(\\\"USA\\\")]\\n    .groupby(by=[\\\"event_location\\\", \\\"latitude\\\", \\\"longitude\\\"])[\\\"event_name\\\"]\\n    .count()\\n    .reset_index()\\n    .sort_values(\\\"event_name\\\", ascending=False)\\n)\\nprint(\\n    f\\\"{by_city.iloc[0]['event_location']}: {round(by_city.iloc[0].event_name / len(df), 2)}\\\"\\n)\";\n                var nbb_cells = Jupyter.notebook.get_cells();\n                for (var i = 0; i < nbb_cells.length; ++i) {\n                    if (nbb_cells[i].input_prompt_number == nbb_cell_id) {\n                        if (nbb_cells[i].get_text() == nbb_unformatted_code) {\n                             nbb_cells[i].set_text(nbb_formatted_code);\n                        }\n                        break;\n                    }\n                }\n            }, 500);\n            ",
      "text/plain": [
       "<IPython.core.display.Javascript object>"
      ]
     },
     "metadata": {},
     "output_type": "display_data"
    }
   ],
   "source": [
    "by_city = (\n",
    "    df[df[\"event_location\"].str.contains(\"USA\")]\n",
    "    .groupby(by=[\"event_location\", \"latitude\", \"longitude\"])[\"event_name\"]\n",
    "    .count()\n",
    "    .reset_index()\n",
    "    .sort_values(\"event_name\", ascending=False)\n",
    ")\n",
    "print(\n",
    "    f\"{by_city.iloc[0]['event_location']}: {round(by_city.iloc[0].event_name / len(df), 2)}\"\n",
    ")"
   ]
  },
  {
   "cell_type": "markdown",
   "metadata": {},
   "source": [
    "By a mile, the number 1 city with most UFC events is Las Vegas, as <strong style='color:#003C8A'>31%</strong> of events have taken place there. Therefore, Las Vegas will be excluded from further analyses involving cities.\n"
   ]
  },
  {
   "cell_type": "code",
   "execution_count": 20,
   "metadata": {},
   "outputs": [
    {
     "data": {
      "text/html": [
       "<div>                            <div id=\"3f494137-45a7-4a3a-80b5-4a04ea1ee10b\" class=\"plotly-graph-div\" style=\"height:525px; width:100%;\"></div>            <script type=\"text/javascript\">                require([\"plotly\"], function(Plotly) {                    window.PLOTLYENV=window.PLOTLYENV || {};                                    if (document.getElementById(\"3f494137-45a7-4a3a-80b5-4a04ea1ee10b\")) {                    Plotly.newPlot(                        \"3f494137-45a7-4a3a-80b5-4a04ea1ee10b\",                        [{\"geo\":\"geo\",\"hovertemplate\":\"<b>%{hovertext}</b><br><br>event_name=%{marker.color}<br>latitude=%{lat}<br>longitude=%{lon}<extra></extra>\",\"hovertext\":[\"Houston, Texas, USA\",\"Anaheim, California, USA\",\"Atlantic City, New Jersey, USA\",\"Newark, New Jersey, USA\",\"Chicago, Illinois, USA\",\"Los Angeles, California, USA\",\"Boston, Massachusetts, USA\",\"Sacramento, California, USA\",\"Denver, Colorado, USA\",\"New Orleans, Louisiana, USA\",\"Dallas, Texas, USA\",\"Nashville, Tennessee, USA\",\"New York City, New York, USA\",\"Birmingham, Alabama, USA\",\"San Jose, California, USA\",\"Jacksonville, Florida, USA\",\"Hollywood, Florida, USA\",\"Charlotte, North Carolina, USA\",\"Atlanta, Georgia, USA\",\"Uncasville, Connecticut, USA\",\"Seattle, Washington, USA\",\"San Diego, California, USA\",\"Pittsburgh, Pennsylvania, USA\",\"Fairfax, Virginia, USA\",\"Columbus, Ohio, USA\",\"Phoenix, Arizona, USA\",\"Milwaukee, Wisconsin, USA\",\"Tampa, Florida, USA\",\"Philadelphia, Pennsylvania, USA\",\"Broomfield, Colorado, USA\",\"Brooklyn, New York, USA\",\"Austin, Texas, USA\",\"Orlando, Florida, USA\",\"Minneapolis, Minnesota, USA\",\"Portland, Oregon, USA\",\"Norfolk, Virginia, USA\",\"Indianapolis, Indiana, USA\",\"Lake Charles, Louisiana, USA\",\"Detroit, Michigan, USA\",\"San Antonio, Texas, USA\",\"Washington, DC, USA\",\"Augusta, Georgia, USA\",\"Bay St. Louis, Mississippi, USA\",\"Tulsa, Oklahoma, USA\",\"Buffalo, New York, USA\",\"Cedar Rapids, Iowa, USA\",\"Cincinnati, Ohio, USA\",\"Sunrise, Florida, USA\",\"Oklahoma City, Oklahoma, USA\",\"East Rutherford, New Jersey, USA\",\"Omaha, Nebraska, USA\",\"Glendale, Arizona, USA\",\"St. Louis, Missouri, USA\",\"Sioux Falls, South Dakota, USA\",\"Raleigh, North Carolina, USA\",\"Rio Rancho, New Mexico, USA\",\"Rochester, New York, USA\",\"Rosemont, Illinois, USA\",\"Uniondale, New York, USA\",\"Utica, New York, USA\",\"Salt Lake City, Utah, USA\",\"Albany, New York, USA\",\"Oakland, California, USA\",\"Fort Campbell, Kentucky, USA\",\"Auburn Hills, Michigan, USA\",\"Baltimore, Maryland, USA\",\"Bangor, Maine, USA\",\"Boise, Idaho, USA\",\"Bossier City, Louisiana, USA\",\"Casper, Wyoming, USA\",\"Cleveland, Ohio, USA\",\"Dothan, Alabama, USA\",\"Duluth, Georgia, USA\",\"Fayetteville, North Carolina, USA\",\"Fresno, California, USA\",\"Mobile, Alabama, USA\",\"Greenville, South Carolina, USA\",\"Hidalgo, Texas, USA\",\"Kansas City, Missouri, USA\",\"Killeen, Texas, USA\",\"Albuquerque, New Mexico, USA\",\"Ledyard, Connecticut, USA\",\"Lincoln, Nebraska, USA\",\"Louisville, Kentucky, USA\",\"Memphis, Tennessee, USA\",\"Miami, Florida, USA\",\"Wichita, Kansas, USA\"],\"lat\":[29.7589382,33.8347516,39.3642852,40.735657,41.8755616,34.0536909,42.3602534,38.5810606,39.7392364,29.9759983,32.7762719,36.1622767,40.7127281,33.5206824,37.3361905,30.3321838,26.0112014,35.2272086,33.7489924,41.4345426,47.6038321,32.7174202,40.4416941,38.8462236,39.9622601,33.4484367,43.0349931,27.9477595,39.9527237,39.9403995,40.6526006,30.2711286,28.5421109,44.9772995,45.5202471,36.8968052,39.7683331,30.2265949,42.3315509,29.4246002,38.8950368,33.4709714,30.3132453,36.1556805,42.8867166,41.9758872,39.1014537,26.147190199999997,35.4729886,40.82046,41.2587459,33.5386858,38.6264256,43.5460587,35.7803977,35.269381,43.157285,41.9941334,40.7159385,43.1009031,40.7596198,42.6511674,37.8044557,36.631338299999996,42.6875323,39.2908816,44.8011821,43.6166163,32.5369356,42.8501191,41.4996562,31.2237434,34.0028569,35.0525759,36.7295295,30.6943566,34.851354,26.3530256,39.100105,31.1171441,35.0841034,41.4386053,40.8088861,38.2542376,35.1335022,25.7741728,37.6922361],\"legendgroup\":\"\",\"lon\":[-95.3676974,-117.911732,-74.4229351,-74.1723667,-87.6244212,-118.242766,-71.0582912,-121.493895,-104.9848623,-90.0782127,-96.7968559,-86.7742984,-74.0060152,-86.8024326,-121.890583,-81.655651,-80.1494901,-80.8430827,-84.3902644,-72.1097996,-122.3300624,-117.1627728,-79.9900861,-77.3063733,-83.0007065,-112.0741417,-87.922497,-82.458444,-75.1635262,-105.0520809,-73.9497211,-97.7436995,-81.3790304,-93.2654692,-122.6741949,-76.2602336,-86.1583502,-93.2173759,-83.0466403,-98.4951405,-77.0365427,-81.9748429,-89.3343223,-95.9929113,-78.8783922,-91.6704053,-84.5124602,-80.32966128894083,-97.5170536,-74.08307621723368,-95.9383758,-112.1859941,-90.1995853,-96.7313928,-78.6390989,-106.632819,-77.615214,-87.8756737,-73.59384782542784,-75.2326641,-111.8867975,-73.754968,-122.2713563,-87.61568844317374,-83.2341028,-76.610759,-68.7778138,-116.200886,-93.6952689,-106.325138,-81.6936813,-85.3933906,-84.1441046,-78.878292,-119.70886126075588,-88.0430541,-82.3984882,-98.216445,-94.5781416,-97.727796,-106.650985,-72.0175193,-96.7077751,-85.759407,-89.9668758,-80.19362,-97.3375448],\"marker\":{\"color\":[9,9,9,8,7,7,6,6,6,5,5,5,5,4,4,4,4,4,4,4,3,3,3,3,3,3,3,3,3,3,3,3,3,3,2,2,2,2,2,2,2,2,2,2,2,2,2,2,2,2,2,2,1,1,1,1,1,1,1,1,1,1,1,1,1,1,1,1,1,1,1,1,1,1,1,1,1,1,1,1,1,1,1,1,1,1,1],\"coloraxis\":\"coloraxis\",\"size\":[9,9,9,8,7,7,6,6,6,5,5,5,5,4,4,4,4,4,4,4,3,3,3,3,3,3,3,3,3,3,3,3,3,3,2,2,2,2,2,2,2,2,2,2,2,2,2,2,2,2,2,2,1,1,1,1,1,1,1,1,1,1,1,1,1,1,1,1,1,1,1,1,1,1,1,1,1,1,1,1,1,1,1,1,1,1,1],\"sizemode\":\"area\",\"sizeref\":0.0225,\"symbol\":\"circle\"},\"mode\":\"markers\",\"name\":\"\",\"showlegend\":false,\"type\":\"scattergeo\"}],                        {\"template\":{\"data\":{\"bar\":[{\"error_x\":{\"color\":\"#2a3f5f\"},\"error_y\":{\"color\":\"#2a3f5f\"},\"marker\":{\"line\":{\"color\":\"#E5ECF6\",\"width\":0.5},\"pattern\":{\"fillmode\":\"overlay\",\"size\":10,\"solidity\":0.2}},\"type\":\"bar\"}],\"barpolar\":[{\"marker\":{\"line\":{\"color\":\"#E5ECF6\",\"width\":0.5},\"pattern\":{\"fillmode\":\"overlay\",\"size\":10,\"solidity\":0.2}},\"type\":\"barpolar\"}],\"carpet\":[{\"aaxis\":{\"endlinecolor\":\"#2a3f5f\",\"gridcolor\":\"white\",\"linecolor\":\"white\",\"minorgridcolor\":\"white\",\"startlinecolor\":\"#2a3f5f\"},\"baxis\":{\"endlinecolor\":\"#2a3f5f\",\"gridcolor\":\"white\",\"linecolor\":\"white\",\"minorgridcolor\":\"white\",\"startlinecolor\":\"#2a3f5f\"},\"type\":\"carpet\"}],\"choropleth\":[{\"colorbar\":{\"outlinewidth\":0,\"ticks\":\"\"},\"type\":\"choropleth\"}],\"contour\":[{\"colorbar\":{\"outlinewidth\":0,\"ticks\":\"\"},\"colorscale\":[[0.0,\"#0d0887\"],[0.1111111111111111,\"#46039f\"],[0.2222222222222222,\"#7201a8\"],[0.3333333333333333,\"#9c179e\"],[0.4444444444444444,\"#bd3786\"],[0.5555555555555556,\"#d8576b\"],[0.6666666666666666,\"#ed7953\"],[0.7777777777777778,\"#fb9f3a\"],[0.8888888888888888,\"#fdca26\"],[1.0,\"#f0f921\"]],\"type\":\"contour\"}],\"contourcarpet\":[{\"colorbar\":{\"outlinewidth\":0,\"ticks\":\"\"},\"type\":\"contourcarpet\"}],\"heatmap\":[{\"colorbar\":{\"outlinewidth\":0,\"ticks\":\"\"},\"colorscale\":[[0.0,\"#0d0887\"],[0.1111111111111111,\"#46039f\"],[0.2222222222222222,\"#7201a8\"],[0.3333333333333333,\"#9c179e\"],[0.4444444444444444,\"#bd3786\"],[0.5555555555555556,\"#d8576b\"],[0.6666666666666666,\"#ed7953\"],[0.7777777777777778,\"#fb9f3a\"],[0.8888888888888888,\"#fdca26\"],[1.0,\"#f0f921\"]],\"type\":\"heatmap\"}],\"heatmapgl\":[{\"colorbar\":{\"outlinewidth\":0,\"ticks\":\"\"},\"colorscale\":[[0.0,\"#0d0887\"],[0.1111111111111111,\"#46039f\"],[0.2222222222222222,\"#7201a8\"],[0.3333333333333333,\"#9c179e\"],[0.4444444444444444,\"#bd3786\"],[0.5555555555555556,\"#d8576b\"],[0.6666666666666666,\"#ed7953\"],[0.7777777777777778,\"#fb9f3a\"],[0.8888888888888888,\"#fdca26\"],[1.0,\"#f0f921\"]],\"type\":\"heatmapgl\"}],\"histogram\":[{\"marker\":{\"pattern\":{\"fillmode\":\"overlay\",\"size\":10,\"solidity\":0.2}},\"type\":\"histogram\"}],\"histogram2d\":[{\"colorbar\":{\"outlinewidth\":0,\"ticks\":\"\"},\"colorscale\":[[0.0,\"#0d0887\"],[0.1111111111111111,\"#46039f\"],[0.2222222222222222,\"#7201a8\"],[0.3333333333333333,\"#9c179e\"],[0.4444444444444444,\"#bd3786\"],[0.5555555555555556,\"#d8576b\"],[0.6666666666666666,\"#ed7953\"],[0.7777777777777778,\"#fb9f3a\"],[0.8888888888888888,\"#fdca26\"],[1.0,\"#f0f921\"]],\"type\":\"histogram2d\"}],\"histogram2dcontour\":[{\"colorbar\":{\"outlinewidth\":0,\"ticks\":\"\"},\"colorscale\":[[0.0,\"#0d0887\"],[0.1111111111111111,\"#46039f\"],[0.2222222222222222,\"#7201a8\"],[0.3333333333333333,\"#9c179e\"],[0.4444444444444444,\"#bd3786\"],[0.5555555555555556,\"#d8576b\"],[0.6666666666666666,\"#ed7953\"],[0.7777777777777778,\"#fb9f3a\"],[0.8888888888888888,\"#fdca26\"],[1.0,\"#f0f921\"]],\"type\":\"histogram2dcontour\"}],\"mesh3d\":[{\"colorbar\":{\"outlinewidth\":0,\"ticks\":\"\"},\"type\":\"mesh3d\"}],\"parcoords\":[{\"line\":{\"colorbar\":{\"outlinewidth\":0,\"ticks\":\"\"}},\"type\":\"parcoords\"}],\"pie\":[{\"automargin\":true,\"type\":\"pie\"}],\"scatter\":[{\"marker\":{\"colorbar\":{\"outlinewidth\":0,\"ticks\":\"\"}},\"type\":\"scatter\"}],\"scatter3d\":[{\"line\":{\"colorbar\":{\"outlinewidth\":0,\"ticks\":\"\"}},\"marker\":{\"colorbar\":{\"outlinewidth\":0,\"ticks\":\"\"}},\"type\":\"scatter3d\"}],\"scattercarpet\":[{\"marker\":{\"colorbar\":{\"outlinewidth\":0,\"ticks\":\"\"}},\"type\":\"scattercarpet\"}],\"scattergeo\":[{\"marker\":{\"colorbar\":{\"outlinewidth\":0,\"ticks\":\"\"}},\"type\":\"scattergeo\"}],\"scattergl\":[{\"marker\":{\"colorbar\":{\"outlinewidth\":0,\"ticks\":\"\"}},\"type\":\"scattergl\"}],\"scattermapbox\":[{\"marker\":{\"colorbar\":{\"outlinewidth\":0,\"ticks\":\"\"}},\"type\":\"scattermapbox\"}],\"scatterpolar\":[{\"marker\":{\"colorbar\":{\"outlinewidth\":0,\"ticks\":\"\"}},\"type\":\"scatterpolar\"}],\"scatterpolargl\":[{\"marker\":{\"colorbar\":{\"outlinewidth\":0,\"ticks\":\"\"}},\"type\":\"scatterpolargl\"}],\"scatterternary\":[{\"marker\":{\"colorbar\":{\"outlinewidth\":0,\"ticks\":\"\"}},\"type\":\"scatterternary\"}],\"surface\":[{\"colorbar\":{\"outlinewidth\":0,\"ticks\":\"\"},\"colorscale\":[[0.0,\"#0d0887\"],[0.1111111111111111,\"#46039f\"],[0.2222222222222222,\"#7201a8\"],[0.3333333333333333,\"#9c179e\"],[0.4444444444444444,\"#bd3786\"],[0.5555555555555556,\"#d8576b\"],[0.6666666666666666,\"#ed7953\"],[0.7777777777777778,\"#fb9f3a\"],[0.8888888888888888,\"#fdca26\"],[1.0,\"#f0f921\"]],\"type\":\"surface\"}],\"table\":[{\"cells\":{\"fill\":{\"color\":\"#EBF0F8\"},\"line\":{\"color\":\"white\"}},\"header\":{\"fill\":{\"color\":\"#C8D4E3\"},\"line\":{\"color\":\"white\"}},\"type\":\"table\"}]},\"layout\":{\"annotationdefaults\":{\"arrowcolor\":\"#2a3f5f\",\"arrowhead\":0,\"arrowwidth\":1},\"autotypenumbers\":\"strict\",\"coloraxis\":{\"colorbar\":{\"outlinewidth\":0,\"ticks\":\"\"}},\"colorscale\":{\"diverging\":[[0,\"#8e0152\"],[0.1,\"#c51b7d\"],[0.2,\"#de77ae\"],[0.3,\"#f1b6da\"],[0.4,\"#fde0ef\"],[0.5,\"#f7f7f7\"],[0.6,\"#e6f5d0\"],[0.7,\"#b8e186\"],[0.8,\"#7fbc41\"],[0.9,\"#4d9221\"],[1,\"#276419\"]],\"sequential\":[[0.0,\"#0d0887\"],[0.1111111111111111,\"#46039f\"],[0.2222222222222222,\"#7201a8\"],[0.3333333333333333,\"#9c179e\"],[0.4444444444444444,\"#bd3786\"],[0.5555555555555556,\"#d8576b\"],[0.6666666666666666,\"#ed7953\"],[0.7777777777777778,\"#fb9f3a\"],[0.8888888888888888,\"#fdca26\"],[1.0,\"#f0f921\"]],\"sequentialminus\":[[0.0,\"#0d0887\"],[0.1111111111111111,\"#46039f\"],[0.2222222222222222,\"#7201a8\"],[0.3333333333333333,\"#9c179e\"],[0.4444444444444444,\"#bd3786\"],[0.5555555555555556,\"#d8576b\"],[0.6666666666666666,\"#ed7953\"],[0.7777777777777778,\"#fb9f3a\"],[0.8888888888888888,\"#fdca26\"],[1.0,\"#f0f921\"]]},\"colorway\":[\"#636efa\",\"#EF553B\",\"#00cc96\",\"#ab63fa\",\"#FFA15A\",\"#19d3f3\",\"#FF6692\",\"#B6E880\",\"#FF97FF\",\"#FECB52\"],\"font\":{\"color\":\"#2a3f5f\"},\"geo\":{\"bgcolor\":\"white\",\"lakecolor\":\"white\",\"landcolor\":\"#E5ECF6\",\"showlakes\":true,\"showland\":true,\"subunitcolor\":\"white\"},\"hoverlabel\":{\"align\":\"left\"},\"hovermode\":\"closest\",\"mapbox\":{\"style\":\"light\"},\"paper_bgcolor\":\"white\",\"plot_bgcolor\":\"#E5ECF6\",\"polar\":{\"angularaxis\":{\"gridcolor\":\"white\",\"linecolor\":\"white\",\"ticks\":\"\"},\"bgcolor\":\"#E5ECF6\",\"radialaxis\":{\"gridcolor\":\"white\",\"linecolor\":\"white\",\"ticks\":\"\"}},\"scene\":{\"xaxis\":{\"backgroundcolor\":\"#E5ECF6\",\"gridcolor\":\"white\",\"gridwidth\":2,\"linecolor\":\"white\",\"showbackground\":true,\"ticks\":\"\",\"zerolinecolor\":\"white\"},\"yaxis\":{\"backgroundcolor\":\"#E5ECF6\",\"gridcolor\":\"white\",\"gridwidth\":2,\"linecolor\":\"white\",\"showbackground\":true,\"ticks\":\"\",\"zerolinecolor\":\"white\"},\"zaxis\":{\"backgroundcolor\":\"#E5ECF6\",\"gridcolor\":\"white\",\"gridwidth\":2,\"linecolor\":\"white\",\"showbackground\":true,\"ticks\":\"\",\"zerolinecolor\":\"white\"}},\"shapedefaults\":{\"line\":{\"color\":\"#2a3f5f\"}},\"ternary\":{\"aaxis\":{\"gridcolor\":\"white\",\"linecolor\":\"white\",\"ticks\":\"\"},\"baxis\":{\"gridcolor\":\"white\",\"linecolor\":\"white\",\"ticks\":\"\"},\"bgcolor\":\"#E5ECF6\",\"caxis\":{\"gridcolor\":\"white\",\"linecolor\":\"white\",\"ticks\":\"\"}},\"title\":{\"x\":0.05},\"xaxis\":{\"automargin\":true,\"gridcolor\":\"white\",\"linecolor\":\"white\",\"ticks\":\"\",\"title\":{\"standoff\":15},\"zerolinecolor\":\"white\",\"zerolinewidth\":2},\"yaxis\":{\"automargin\":true,\"gridcolor\":\"white\",\"linecolor\":\"white\",\"ticks\":\"\",\"title\":{\"standoff\":15},\"zerolinecolor\":\"white\",\"zerolinewidth\":2}}},\"geo\":{\"domain\":{\"x\":[0.0,1.0],\"y\":[0.0,1.0]},\"projection\":{\"type\":\"albers usa\"},\"center\":{},\"landcolor\":\"lightgrey\",\"showcountries\":true,\"showsubunits\":true,\"scope\":\"usa\",\"resolution\":110},\"coloraxis\":{\"colorbar\":{\"title\":{\"text\":\"Count of events\"},\"ticklabelposition\":\"outside bottom\"},\"colorscale\":[[0.0,\"rgb(247,251,255)\"],[0.125,\"rgb(222,235,247)\"],[0.25,\"rgb(198,219,239)\"],[0.375,\"rgb(158,202,225)\"],[0.5,\"rgb(107,174,214)\"],[0.625,\"rgb(66,146,198)\"],[0.75,\"rgb(33,113,181)\"],[0.875,\"rgb(8,81,156)\"],[1.0,\"rgb(8,48,107)\"]]},\"legend\":{\"tracegroupgap\":0,\"itemsizing\":\"constant\"},\"margin\":{\"t\":60},\"title\":{\"text\":\"<span style='color:rgb(8,48,107); font-weight:bold'>Anaheim, Houston, Atlantic City</span> among the US cities with most UFC events\"}},                        {\"responsive\": true}                    ).then(function(){\n",
       "                            \n",
       "var gd = document.getElementById('3f494137-45a7-4a3a-80b5-4a04ea1ee10b');\n",
       "var x = new MutationObserver(function (mutations, observer) {{\n",
       "        var display = window.getComputedStyle(gd).display;\n",
       "        if (!display || display === 'none') {{\n",
       "            console.log([gd, 'removed!']);\n",
       "            Plotly.purge(gd);\n",
       "            observer.disconnect();\n",
       "        }}\n",
       "}});\n",
       "\n",
       "// Listen for the removal of the full notebook cells\n",
       "var notebookContainer = gd.closest('#notebook-container');\n",
       "if (notebookContainer) {{\n",
       "    x.observe(notebookContainer, {childList: true});\n",
       "}}\n",
       "\n",
       "// Listen for the clearing of the current output cell\n",
       "var outputEl = gd.closest('.output');\n",
       "if (outputEl) {{\n",
       "    x.observe(outputEl, {childList: true});\n",
       "}}\n",
       "\n",
       "                        })                };                });            </script>        </div>"
      ]
     },
     "metadata": {},
     "output_type": "display_data"
    },
    {
     "data": {
      "application/javascript": "\n            setTimeout(function() {\n                var nbb_cell_id = 20;\n                var nbb_unformatted_code = \"by_city.drop_duplicates(subset=[\\\"latitude\\\"], inplace=True)\\nfig = px.scatter_geo(\\n    by_city.iloc[1:],\\n    lat=\\\"latitude\\\",\\n    lon=\\\"longitude\\\",\\n    hover_name=\\\"event_location\\\",\\n    projection=\\\"albers usa\\\",\\n    color=\\\"event_name\\\",\\n    size=\\\"event_name\\\",\\n    color_continuous_scale=\\\"blues\\\",\\n)\\n\\nfig.update_geos(\\n    landcolor=\\\"lightgrey\\\",\\n    showcountries=True,\\n    showsubunits=True,\\n    scope=\\\"usa\\\",\\n    resolution=110,\\n)\\nfig.update_layout(\\n    title=\\\"<span style='color:rgb(8,48,107); font-weight:bold'>Anaheim, Houston, Atlantic City</span> among the US cities with most UFC events\\\",\\n    coloraxis_colorbar=dict(\\n        title=\\\"Count of events\\\", ticklabelposition=\\\"outside bottom\\\"\\n    ),\\n)\\nfig.show()\";\n                var nbb_formatted_code = \"by_city.drop_duplicates(subset=[\\\"latitude\\\"], inplace=True)\\nfig = px.scatter_geo(\\n    by_city.iloc[1:],\\n    lat=\\\"latitude\\\",\\n    lon=\\\"longitude\\\",\\n    hover_name=\\\"event_location\\\",\\n    projection=\\\"albers usa\\\",\\n    color=\\\"event_name\\\",\\n    size=\\\"event_name\\\",\\n    color_continuous_scale=\\\"blues\\\",\\n)\\n\\nfig.update_geos(\\n    landcolor=\\\"lightgrey\\\",\\n    showcountries=True,\\n    showsubunits=True,\\n    scope=\\\"usa\\\",\\n    resolution=110,\\n)\\nfig.update_layout(\\n    title=\\\"<span style='color:rgb(8,48,107); font-weight:bold'>Anaheim, Houston, Atlantic City</span> among the US cities with most UFC events\\\",\\n    coloraxis_colorbar=dict(\\n        title=\\\"Count of events\\\", ticklabelposition=\\\"outside bottom\\\"\\n    ),\\n)\\nfig.show()\";\n                var nbb_cells = Jupyter.notebook.get_cells();\n                for (var i = 0; i < nbb_cells.length; ++i) {\n                    if (nbb_cells[i].input_prompt_number == nbb_cell_id) {\n                        if (nbb_cells[i].get_text() == nbb_unformatted_code) {\n                             nbb_cells[i].set_text(nbb_formatted_code);\n                        }\n                        break;\n                    }\n                }\n            }, 500);\n            ",
      "text/plain": [
       "<IPython.core.display.Javascript object>"
      ]
     },
     "metadata": {},
     "output_type": "display_data"
    }
   ],
   "source": [
    "by_city.drop_duplicates(subset=[\"latitude\"], inplace=True)\n",
    "fig = px.scatter_geo(\n",
    "    by_city.iloc[1:],\n",
    "    lat=\"latitude\",\n",
    "    lon=\"longitude\",\n",
    "    hover_name=\"event_location\",\n",
    "    projection=\"albers usa\",\n",
    "    color=\"event_name\",\n",
    "    size=\"event_name\",\n",
    "    color_continuous_scale=\"blues\",\n",
    ")\n",
    "\n",
    "fig.update_geos(\n",
    "    landcolor=\"lightgrey\",\n",
    "    showcountries=True,\n",
    "    showsubunits=True,\n",
    "    scope=\"usa\",\n",
    "    resolution=110,\n",
    ")\n",
    "fig.update_layout(\n",
    "    title=\"<span style='color:rgb(8,48,107); font-weight:bold'>Anaheim, Houston, Atlantic City</span> among the US cities with most UFC events\",\n",
    "    coloraxis_colorbar=dict(\n",
    "        title=\"Count of events\", ticklabelposition=\"outside bottom\"\n",
    "    ),\n",
    ")\n",
    "fig.show()"
   ]
  },
  {
   "cell_type": "markdown",
   "metadata": {},
   "source": [
    "As we will see in the next section, Atlantic City used to be one of the most important cities for the UFC. On the other hand, Houston has become more attractive to the UFC in recent years due to its more flexible COVID restrictions.\n"
   ]
  },
  {
   "cell_type": "markdown",
   "metadata": {},
   "source": [
    "## What have been the most important (global) cities through the years?\n",
    "\n",
    "To answer this, let's plot a bar chart race of the number of events per city and year\n"
   ]
  },
  {
   "cell_type": "code",
   "execution_count": 21,
   "metadata": {},
   "outputs": [
    {
     "data": {
      "application/javascript": "\n            setTimeout(function() {\n                var nbb_cell_id = 21;\n                var nbb_unformatted_code = \"# The bar_chart_race method requires a df in long format. Hence, I make a pivot table with locations as columns,\\n# year as index and the cumulative count of events per year and location as values\\ndf[\\\"event_bool\\\"] = df[\\\"event_name\\\"].astype(\\\"bool\\\")\\ndf_wo_vegas = df[~df[\\\"event_location\\\"].str.contains(\\\"Vegas\\\")]\\ndf_long = (\\n    pd.pivot_table(\\n        data=df_wo_vegas,\\n        values=\\\"event_bool\\\",\\n        columns=\\\"event_location\\\",\\n        index=df_wo_vegas.index.year,\\n        aggfunc=\\\"sum\\\",\\n    )\\n    .cumsum()\\n    .ffill()\\n)\";\n                var nbb_formatted_code = \"# The bar_chart_race method requires a df in long format. Hence, I make a pivot table with locations as columns,\\n# year as index and the cumulative count of events per year and location as values\\ndf[\\\"event_bool\\\"] = df[\\\"event_name\\\"].astype(\\\"bool\\\")\\ndf_wo_vegas = df[~df[\\\"event_location\\\"].str.contains(\\\"Vegas\\\")]\\ndf_long = (\\n    pd.pivot_table(\\n        data=df_wo_vegas,\\n        values=\\\"event_bool\\\",\\n        columns=\\\"event_location\\\",\\n        index=df_wo_vegas.index.year,\\n        aggfunc=\\\"sum\\\",\\n    )\\n    .cumsum()\\n    .ffill()\\n)\";\n                var nbb_cells = Jupyter.notebook.get_cells();\n                for (var i = 0; i < nbb_cells.length; ++i) {\n                    if (nbb_cells[i].input_prompt_number == nbb_cell_id) {\n                        if (nbb_cells[i].get_text() == nbb_unformatted_code) {\n                             nbb_cells[i].set_text(nbb_formatted_code);\n                        }\n                        break;\n                    }\n                }\n            }, 500);\n            ",
      "text/plain": [
       "<IPython.core.display.Javascript object>"
      ]
     },
     "metadata": {},
     "output_type": "display_data"
    }
   ],
   "source": [
    "# The bar_chart_race method requires a df in long format. Hence, I make a pivot table with locations as columns,\n",
    "# year as index and the cumulative count of events per year and location as values\n",
    "df[\"event_bool\"] = df[\"event_name\"].astype(\"bool\")\n",
    "df_wo_vegas = df[~df[\"event_location\"].str.contains(\"Vegas\")]\n",
    "df_long = (\n",
    "    pd.pivot_table(\n",
    "        data=df_wo_vegas,\n",
    "        values=\"event_bool\",\n",
    "        columns=\"event_location\",\n",
    "        index=df_wo_vegas.index.year,\n",
    "        aggfunc=\"sum\",\n",
    "    )\n",
    "    .cumsum()\n",
    "    .ffill()\n",
    ")"
   ]
  },
  {
   "cell_type": "code",
   "execution_count": 22,
   "metadata": {},
   "outputs": [
    {
     "data": {
      "application/javascript": "\n            setTimeout(function() {\n                var nbb_cell_id = 22;\n                var nbb_unformatted_code = \"%%capture\\nbcr.bar_chart_race(\\n    df=df_long,\\n    filename=str(path.reports_figures_dir('events_by_city.mp4')),\\n    n_bars=8,\\n    filter_column_colors=True,\\n    period_fmt=\\\"{x:.0f}\\\",\\n    title=\\\"Events by cities\\\",\\n    cmap=\\\"tab20b\\\",\\n    period_length=800\\n)\";\n                var nbb_formatted_code = \"%%capture\\nbcr.bar_chart_race(\\n    df=df_long,\\n    filename=str(path.reports_figures_dir('events_by_city.mp4')),\\n    n_bars=8,\\n    filter_column_colors=True,\\n    period_fmt=\\\"{x:.0f}\\\",\\n    title=\\\"Events by cities\\\",\\n    cmap=\\\"tab20b\\\",\\n    period_length=800\\n)\";\n                var nbb_cells = Jupyter.notebook.get_cells();\n                for (var i = 0; i < nbb_cells.length; ++i) {\n                    if (nbb_cells[i].input_prompt_number == nbb_cell_id) {\n                        if (nbb_cells[i].get_text() == nbb_unformatted_code) {\n                             nbb_cells[i].set_text(nbb_formatted_code);\n                        }\n                        break;\n                    }\n                }\n            }, 500);\n            ",
      "text/plain": [
       "<IPython.core.display.Javascript object>"
      ]
     },
     "metadata": {},
     "output_type": "display_data"
    }
   ],
   "source": [
    "%%capture\n",
    "bcr.bar_chart_race(\n",
    "    df=df_long,\n",
    "    filename=str(path.reports_figures_dir('events_by_city.mp4')),\n",
    "    n_bars=8,\n",
    "    filter_column_colors=True,\n",
    "    period_fmt=\"{x:.0f}\",\n",
    "    title=\"Events by cities\",\n",
    "    cmap=\"tab20b\",\n",
    "    period_length=800\n",
    ")"
   ]
  },
  {
   "cell_type": "markdown",
   "metadata": {},
   "source": [
    "In the first early years Birmingham, Alabama was the most important city. Then in 2003 Atlantic City, New Jersey takes over. Around 2009, London, Anaheim and Montreal start catching up. In 2015, Rio de Janeiro and Sao Paulo become more relevant (Brazil is the most important latin american country in MMA). In 2017 London takes the first place, followed by Rio and Sao Paulo. <br><br>\n",
    "As we all know in 2020 the world went crazy, which forced the UFC to make events only in the US and in Yas Island, Abu Dhabi (known as \"Fight Island\"). This is why Abu Dhabi took the first place in 2020, and has been since the place with most total UFC events. Moreover, as stated in the previous section, Houston is now in the top 7.\n"
   ]
  },
  {
   "cell_type": "markdown",
   "metadata": {},
   "source": [
    "## Conclusion\n",
    "\n",
    "While the U.S. (especially Las Vegas) continues to be the most important place for the UFC, they have been expanding to new frontiers. This expansion, howerver, was delayed due to the COVID pandemic. I am sure this expansion will resume once most countries lift COVID related travel restrictions. As we know, the number of events by year started growing significantly since 2005, and this was not affected at all by the pandemic.\n"
   ]
  }
 ],
 "metadata": {
  "interpreter": {
   "hash": "201feb5f3ca1aafc234903fbc552391d9c43f58514579f06f7e910e2bce34bd2"
  },
  "kernelspec": {
   "display_name": "Python 3 (ipykernel)",
   "language": "python",
   "name": "python3"
  },
  "language_info": {
   "codemirror_mode": {
    "name": "ipython",
    "version": 3
   },
   "file_extension": ".py",
   "mimetype": "text/x-python",
   "name": "python",
   "nbconvert_exporter": "python",
   "pygments_lexer": "ipython3",
   "version": "3.9.10"
  }
 },
 "nbformat": 4,
 "nbformat_minor": 2
}
